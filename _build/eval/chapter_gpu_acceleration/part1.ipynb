{
 "cells": [
  {
   "cell_type": "markdown",
   "id": "d93848ac",
   "metadata": {},
   "source": [
    "## Part 1\n",
    "\n",
    "In the past chapter, we discussed  MLC flows in CPU environments. This chapter will discuss how to bring some of the optimizations onto GPU. We are going to use CUDA terminology. However, the same set of concepts applies to other kinds of GPUs as well.\n",
    "\n",
    "### Install packages\n",
    "\n",
    "For this course, we will use some ongoing development in TVM, which is an open-source machine learning compilation framework. We provide the following command to install a packaged version for MLC course. The particular notebook of **part 1** depends on a CUDA 11 environment."
   ]
  },
  {
   "cell_type": "markdown",
   "id": "8dcc6f78",
   "metadata": {},
   "source": [
    "```bash\n",
    "python3 -m pip install mlc-ai-nightly-cu110 -f https://mlc.ai/wheels\n",
    "```\n"
   ]
  },
  {
   "cell_type": "markdown",
   "id": "978f3c92",
   "metadata": {},
   "source": [
    "**NOTE: Our build system does not have GPU support yet, so part of codes will not be evaluated.**\n",
    "\n",
    "### Preparations\n",
    "\n",
    "To begin with, let us import the necessary dependencies."
   ]
  },
  {
   "cell_type": "code",
   "execution_count": 1,
   "id": "ddeff2c9",
   "metadata": {
    "execution": {
     "iopub.execute_input": "2025-07-09T12:33:34.947889Z",
     "iopub.status.busy": "2025-07-09T12:33:34.947632Z",
     "iopub.status.idle": "2025-07-09T12:33:35.284924Z",
     "shell.execute_reply": "2025-07-09T12:33:35.283888Z"
    }
   },
   "outputs": [],
   "source": [
    "import numpy as np\n",
    "import tvm\n",
    "from tvm import relax\n",
    "from tvm.ir.module import IRModule\n",
    "from tvm.script import relax as R\n",
    "from tvm.script import tir as T"
   ]
  },
  {
   "cell_type": "markdown",
   "id": "2ce77b30",
   "metadata": {},
   "source": [
    "### GPU Architecture\n",
    "\n",
    "Let us begin by reviewing what a GPU architecture looks like. A typical GPU contains a collection of stream multi-processors, and each multi-processor has many cores. A GPU device is massively parallel and allows us to execute many tasks concurrently.\n",
    "\n",
    "![](../img/gpu_arch.png)\n",
    "\n",
    "To program a GPU, we need to create a set of thread blocks, with each thread mapping to the cores and the thread block map to the stream multiprocessors.\n",
    "\n",
    "![](../img/gpu_stream_processors.png)\n",
    "\n",
    "Let us start GPU programming using a vector add example. The following TensorIR program takes two vectors, A and B, performs element-wise add, and stores the result in C."
   ]
  },
  {
   "cell_type": "code",
   "execution_count": 2,
   "id": "50709ccd",
   "metadata": {
    "execution": {
     "iopub.execute_input": "2025-07-09T12:33:35.288595Z",
     "iopub.status.busy": "2025-07-09T12:33:35.288287Z",
     "iopub.status.idle": "2025-07-09T12:33:35.377958Z",
     "shell.execute_reply": "2025-07-09T12:33:35.376939Z"
    }
   },
   "outputs": [],
   "source": [
    "@tvm.script.ir_module\n",
    "class MyModuleVecAdd:\n",
    "    @T.prim_func\n",
    "    def main(A: T.Buffer((1024,), \"float32\"),\n",
    "             B: T.Buffer((1024,), \"float32\"),\n",
    "             C: T.Buffer((1024,), \"float32\")) -> None:\n",
    "        T.func_attr({\"global_symbol\": \"main\", \"tir.noalias\": True})\n",
    "        for i in T.grid(1024):\n",
    "            with T.block(\"C\"):\n",
    "                vi = T.axis.remap(\"S\", [i])\n",
    "                C[vi] = A[vi] + B[vi]"
   ]
  },
  {
   "cell_type": "markdown",
   "id": "a2c98a7d",
   "metadata": {},
   "source": [
    "We first split loop `i` into two loops."
   ]
  },
  {
   "cell_type": "code",
   "execution_count": 3,
   "id": "bce1ee11",
   "metadata": {
    "execution": {
     "iopub.execute_input": "2025-07-09T12:33:35.381316Z",
     "iopub.status.busy": "2025-07-09T12:33:35.381112Z",
     "iopub.status.idle": "2025-07-09T12:33:35.420340Z",
     "shell.execute_reply": "2025-07-09T12:33:35.419196Z"
    }
   },
   "outputs": [
    {
     "data": {
      "text/html": [
       "<div class=\"highlight\" style=\"background: \"><pre style=\"line-height: 125%;\"><span></span><span style=\"color: #007979; font-style: italic\"># from tvm.script import ir as I</span>\n",
       "<span style=\"color: #007979; font-style: italic\"># from tvm.script import tir as T</span>\n",
       "\n",
       "<span style=\"color: #A2F\">@I</span><span style=\"color: #A2F; font-weight: bold\">.</span>ir_module\n",
       "<span style=\"color: #008000; font-weight: bold\">class</span> <span style=\"color: #00F; font-weight: bold\">Module</span>:\n",
       "    <span style=\"color: #A2F\">@T</span><span style=\"color: #A2F; font-weight: bold\">.</span>prim_func\n",
       "    <span style=\"color: #008000; font-weight: bold\">def</span> <span style=\"color: #00F\">main</span>(A: T<span style=\"color: #A2F; font-weight: bold\">.</span>Buffer((<span style=\"color: #008000\">1024</span>,), <span style=\"color: #BA2121\">&quot;float32&quot;</span>), B: T<span style=\"color: #A2F; font-weight: bold\">.</span>Buffer((<span style=\"color: #008000\">1024</span>,), <span style=\"color: #BA2121\">&quot;float32&quot;</span>), C: T<span style=\"color: #A2F; font-weight: bold\">.</span>Buffer((<span style=\"color: #008000\">1024</span>,), <span style=\"color: #BA2121\">&quot;float32&quot;</span>)):\n",
       "        T<span style=\"color: #A2F; font-weight: bold\">.</span>func_attr({<span style=\"color: #BA2121\">&quot;tir.noalias&quot;</span>: T<span style=\"color: #A2F; font-weight: bold\">.</span>bool(<span style=\"color: #008000; font-weight: bold\">True</span>)})\n",
       "        <span style=\"color: #007979; font-style: italic\"># with T.block(&quot;root&quot;):</span>\n",
       "        <span style=\"color: #008000; font-weight: bold\">for</span> i_0, i_1 <span style=\"color: #008000; font-weight: bold\">in</span> T<span style=\"color: #A2F; font-weight: bold\">.</span>grid(<span style=\"color: #008000\">8</span>, <span style=\"color: #008000\">128</span>):\n",
       "            <span style=\"color: #008000; font-weight: bold\">with</span> T<span style=\"color: #A2F; font-weight: bold\">.</span>block(<span style=\"color: #BA2121\">&quot;C&quot;</span>):\n",
       "                vi <span style=\"color: #A2F; font-weight: bold\">=</span> T<span style=\"color: #A2F; font-weight: bold\">.</span>axis<span style=\"color: #A2F; font-weight: bold\">.</span>spatial(<span style=\"color: #008000\">1024</span>, i_0 <span style=\"color: #A2F; font-weight: bold\">*</span> <span style=\"color: #008000\">128</span> <span style=\"color: #A2F; font-weight: bold\">+</span> i_1)\n",
       "                T<span style=\"color: #A2F; font-weight: bold\">.</span>reads(A[vi], B[vi])\n",
       "                T<span style=\"color: #A2F; font-weight: bold\">.</span>writes(C[vi])\n",
       "                C[vi] <span style=\"color: #A2F; font-weight: bold\">=</span> A[vi] <span style=\"color: #A2F; font-weight: bold\">+</span> B[vi]\n",
       "</pre></div>\n"
      ],
      "text/plain": [
       "<IPython.core.display.HTML object>"
      ]
     },
     "metadata": {},
     "output_type": "display_data"
    }
   ],
   "source": [
    "sch = tvm.tir.Schedule(MyModuleVecAdd)\n",
    "block_C = sch.get_block(\"C\")\n",
    "i, = sch.get_loops(block=block_C)\n",
    "i0, i1 = sch.split(i, [None, 128])\n",
    "sch.mod.show()"
   ]
  },
  {
   "cell_type": "markdown",
   "id": "eeeb63e3",
   "metadata": {},
   "source": [
    "#### GPU Thread Blocks\n",
    "\n",
    "Then we bind the iterators to the GPU thread blocks. Each thread is parameterized by two indices -- `threadIdx.x` and `blockIdx.x`. In practice, we can have multiple dimensional thread indices, but we keep them simple as one dimension.\n",
    "\n",
    "![](../img/gpu_thread_blocks.png)"
   ]
  },
  {
   "cell_type": "code",
   "execution_count": 4,
   "id": "69c5c525",
   "metadata": {
    "execution": {
     "iopub.execute_input": "2025-07-09T12:33:35.423532Z",
     "iopub.status.busy": "2025-07-09T12:33:35.423308Z",
     "iopub.status.idle": "2025-07-09T12:33:35.433285Z",
     "shell.execute_reply": "2025-07-09T12:33:35.432411Z"
    }
   },
   "outputs": [
    {
     "data": {
      "text/html": [
       "<div class=\"highlight\" style=\"background: \"><pre style=\"line-height: 125%;\"><span></span><span style=\"color: #007979; font-style: italic\"># from tvm.script import ir as I</span>\n",
       "<span style=\"color: #007979; font-style: italic\"># from tvm.script import tir as T</span>\n",
       "\n",
       "<span style=\"color: #A2F\">@I</span><span style=\"color: #A2F; font-weight: bold\">.</span>ir_module\n",
       "<span style=\"color: #008000; font-weight: bold\">class</span> <span style=\"color: #00F; font-weight: bold\">Module</span>:\n",
       "    <span style=\"color: #A2F\">@T</span><span style=\"color: #A2F; font-weight: bold\">.</span>prim_func\n",
       "    <span style=\"color: #008000; font-weight: bold\">def</span> <span style=\"color: #00F\">main</span>(A: T<span style=\"color: #A2F; font-weight: bold\">.</span>Buffer((<span style=\"color: #008000\">1024</span>,), <span style=\"color: #BA2121\">&quot;float32&quot;</span>), B: T<span style=\"color: #A2F; font-weight: bold\">.</span>Buffer((<span style=\"color: #008000\">1024</span>,), <span style=\"color: #BA2121\">&quot;float32&quot;</span>), C: T<span style=\"color: #A2F; font-weight: bold\">.</span>Buffer((<span style=\"color: #008000\">1024</span>,), <span style=\"color: #BA2121\">&quot;float32&quot;</span>)):\n",
       "        T<span style=\"color: #A2F; font-weight: bold\">.</span>func_attr({<span style=\"color: #BA2121\">&quot;tir.noalias&quot;</span>: T<span style=\"color: #A2F; font-weight: bold\">.</span>bool(<span style=\"color: #008000; font-weight: bold\">True</span>)})\n",
       "        <span style=\"color: #007979; font-style: italic\"># with T.block(&quot;root&quot;):</span>\n",
       "        <span style=\"color: #008000; font-weight: bold\">for</span> i_0 <span style=\"color: #008000; font-weight: bold\">in</span> T<span style=\"color: #A2F; font-weight: bold\">.</span>thread_binding(<span style=\"color: #008000\">8</span>, thread<span style=\"color: #A2F; font-weight: bold\">=</span><span style=\"color: #BA2121\">&quot;blockIdx.x&quot;</span>):\n",
       "            <span style=\"color: #008000; font-weight: bold\">for</span> i_1 <span style=\"color: #008000; font-weight: bold\">in</span> T<span style=\"color: #A2F; font-weight: bold\">.</span>thread_binding(<span style=\"color: #008000\">128</span>, thread<span style=\"color: #A2F; font-weight: bold\">=</span><span style=\"color: #BA2121\">&quot;threadIdx.x&quot;</span>):\n",
       "                <span style=\"color: #008000; font-weight: bold\">with</span> T<span style=\"color: #A2F; font-weight: bold\">.</span>block(<span style=\"color: #BA2121\">&quot;C&quot;</span>):\n",
       "                    vi <span style=\"color: #A2F; font-weight: bold\">=</span> T<span style=\"color: #A2F; font-weight: bold\">.</span>axis<span style=\"color: #A2F; font-weight: bold\">.</span>spatial(<span style=\"color: #008000\">1024</span>, i_0 <span style=\"color: #A2F; font-weight: bold\">*</span> <span style=\"color: #008000\">128</span> <span style=\"color: #A2F; font-weight: bold\">+</span> i_1)\n",
       "                    T<span style=\"color: #A2F; font-weight: bold\">.</span>reads(A[vi], B[vi])\n",
       "                    T<span style=\"color: #A2F; font-weight: bold\">.</span>writes(C[vi])\n",
       "                    C[vi] <span style=\"color: #A2F; font-weight: bold\">=</span> A[vi] <span style=\"color: #A2F; font-weight: bold\">+</span> B[vi]\n",
       "</pre></div>\n"
      ],
      "text/plain": [
       "<IPython.core.display.HTML object>"
      ]
     },
     "metadata": {},
     "output_type": "display_data"
    }
   ],
   "source": [
    "sch.bind(i0, \"blockIdx.x\")\n",
    "sch.bind(i1, \"threadIdx.x\")\n",
    "sch.mod.show()"
   ]
  },
  {
   "cell_type": "markdown",
   "id": "9ef2ceb0",
   "metadata": {},
   "source": [
    "#### Build and Run the TensorIR Function on GPU\n",
    "\n",
    "We can build and test out the resulting function on the GPU."
   ]
  },
  {
   "cell_type": "markdown",
   "id": "2ef64e55",
   "metadata": {},
   "source": [
    "```python\n",
    "rt_mod = tvm.build(sch.mod, target=\"cuda\")\n",
    "\n",
    "A_np = np.random.uniform(size=(1024,)).astype(\"float32\")\n",
    "B_np = np.random.uniform(size=(1024,)).astype(\"float32\")\n",
    "A_nd = tvm.nd.array(A_np, tvm.cuda(0))\n",
    "B_nd = tvm.nd.array(B_np, tvm.cuda(0))\n",
    "C_nd = tvm.nd.array(np.zeros((1024,), dtype=\"float32\"), tvm.cuda(0))\n",
    "\n",
    "rt_mod[\"main\"](A_nd, B_nd, C_nd)\n",
    "print(A_nd)\n",
    "print(B_nd)\n",
    "print(C_nd)\n",
    "```\n"
   ]
  },
  {
   "cell_type": "markdown",
   "id": "8fa24951",
   "metadata": {},
   "source": [
    "### Window Sum Example\n",
    "\n",
    "Now, let us move forward to another example -- window sum. This program can be viewed as a basic version of \"convolution\" with a predefined weight `[1,1,1]`. We are taking sliding over the input and add three neighboring values together.\n",
    "\n",
    "![](../img/window_sum.png)"
   ]
  },
  {
   "cell_type": "code",
   "execution_count": 5,
   "id": "7519f1b8",
   "metadata": {
    "execution": {
     "iopub.execute_input": "2025-07-09T12:33:35.436476Z",
     "iopub.status.busy": "2025-07-09T12:33:35.436263Z",
     "iopub.status.idle": "2025-07-09T12:33:35.460339Z",
     "shell.execute_reply": "2025-07-09T12:33:35.459760Z"
    }
   },
   "outputs": [],
   "source": [
    "@tvm.script.ir_module\n",
    "class MyModuleWindowSum:\n",
    "    @T.prim_func\n",
    "    def main(A: T.Buffer[(1027,), \"float32\"],\n",
    "             B: T.Buffer[(1024,), \"float32\"]) -> None:\n",
    "        T.func_attr({\"global_symbol\": \"main\", \"tir.noalias\": True})\n",
    "        for i in T.grid(1024):\n",
    "            with T.block(\"C\"):\n",
    "                vi = T.axis.remap(\"S\", [i])\n",
    "                B[vi] = A[vi] + A[vi + 1] + A[vi + 2]"
   ]
  },
  {
   "cell_type": "markdown",
   "id": "133964e3",
   "metadata": {},
   "source": [
    "First, we can bind the loop to GPU threads."
   ]
  },
  {
   "cell_type": "code",
   "execution_count": 6,
   "id": "da7bb8ea",
   "metadata": {
    "execution": {
     "iopub.execute_input": "2025-07-09T12:33:35.463439Z",
     "iopub.status.busy": "2025-07-09T12:33:35.463219Z",
     "iopub.status.idle": "2025-07-09T12:33:35.472457Z",
     "shell.execute_reply": "2025-07-09T12:33:35.471945Z"
    }
   },
   "outputs": [
    {
     "data": {
      "text/html": [
       "<div class=\"highlight\" style=\"background: \"><pre style=\"line-height: 125%;\"><span></span><span style=\"color: #007979; font-style: italic\"># from tvm.script import ir as I</span>\n",
       "<span style=\"color: #007979; font-style: italic\"># from tvm.script import tir as T</span>\n",
       "\n",
       "<span style=\"color: #A2F\">@I</span><span style=\"color: #A2F; font-weight: bold\">.</span>ir_module\n",
       "<span style=\"color: #008000; font-weight: bold\">class</span> <span style=\"color: #00F; font-weight: bold\">Module</span>:\n",
       "    <span style=\"color: #A2F\">@T</span><span style=\"color: #A2F; font-weight: bold\">.</span>prim_func\n",
       "    <span style=\"color: #008000; font-weight: bold\">def</span> <span style=\"color: #00F\">main</span>(A: T<span style=\"color: #A2F; font-weight: bold\">.</span>Buffer((<span style=\"color: #008000\">1027</span>,), <span style=\"color: #BA2121\">&quot;float32&quot;</span>), B: T<span style=\"color: #A2F; font-weight: bold\">.</span>Buffer((<span style=\"color: #008000\">1024</span>,), <span style=\"color: #BA2121\">&quot;float32&quot;</span>)):\n",
       "        T<span style=\"color: #A2F; font-weight: bold\">.</span>func_attr({<span style=\"color: #BA2121\">&quot;tir.noalias&quot;</span>: T<span style=\"color: #A2F; font-weight: bold\">.</span>bool(<span style=\"color: #008000; font-weight: bold\">True</span>)})\n",
       "        <span style=\"color: #007979; font-style: italic\"># with T.block(&quot;root&quot;):</span>\n",
       "        <span style=\"color: #008000; font-weight: bold\">for</span> i_0 <span style=\"color: #008000; font-weight: bold\">in</span> T<span style=\"color: #A2F; font-weight: bold\">.</span>thread_binding(<span style=\"color: #008000\">8</span>, thread<span style=\"color: #A2F; font-weight: bold\">=</span><span style=\"color: #BA2121\">&quot;blockIdx.x&quot;</span>):\n",
       "            <span style=\"color: #008000; font-weight: bold\">for</span> i_1 <span style=\"color: #008000; font-weight: bold\">in</span> T<span style=\"color: #A2F; font-weight: bold\">.</span>thread_binding(<span style=\"color: #008000\">128</span>, thread<span style=\"color: #A2F; font-weight: bold\">=</span><span style=\"color: #BA2121\">&quot;threadIdx.x&quot;</span>):\n",
       "                <span style=\"color: #008000; font-weight: bold\">with</span> T<span style=\"color: #A2F; font-weight: bold\">.</span>block(<span style=\"color: #BA2121\">&quot;C&quot;</span>):\n",
       "                    vi <span style=\"color: #A2F; font-weight: bold\">=</span> T<span style=\"color: #A2F; font-weight: bold\">.</span>axis<span style=\"color: #A2F; font-weight: bold\">.</span>spatial(<span style=\"color: #008000\">1024</span>, i_0 <span style=\"color: #A2F; font-weight: bold\">*</span> <span style=\"color: #008000\">128</span> <span style=\"color: #A2F; font-weight: bold\">+</span> i_1)\n",
       "                    T<span style=\"color: #A2F; font-weight: bold\">.</span>reads(A[vi:vi <span style=\"color: #A2F; font-weight: bold\">+</span> <span style=\"color: #008000\">3</span>])\n",
       "                    T<span style=\"color: #A2F; font-weight: bold\">.</span>writes(B[vi])\n",
       "                    B[vi] <span style=\"color: #A2F; font-weight: bold\">=</span> A[vi] <span style=\"color: #A2F; font-weight: bold\">+</span> A[vi <span style=\"color: #A2F; font-weight: bold\">+</span> <span style=\"color: #008000\">1</span>] <span style=\"color: #A2F; font-weight: bold\">+</span> A[vi <span style=\"color: #A2F; font-weight: bold\">+</span> <span style=\"color: #008000\">2</span>]\n",
       "</pre></div>\n"
      ],
      "text/plain": [
       "<IPython.core.display.HTML object>"
      ]
     },
     "metadata": {},
     "output_type": "display_data"
    }
   ],
   "source": [
    "sch = tvm.tir.Schedule(MyModuleWindowSum)\n",
    "nthread = 128\n",
    "block_C = sch.get_block(\"C\")\n",
    "i,  = sch.get_loops(block=block_C)\n",
    "i0, i1 = sch.split(i, [None, nthread])\n",
    "sch.bind(i0, \"blockIdx.x\")\n",
    "sch.bind(i1, \"threadIdx.x\")\n",
    "sch.mod.show()"
   ]
  },
  {
   "cell_type": "markdown",
   "id": "64f02f5d",
   "metadata": {},
   "source": [
    "![](../img/gpu_stream_processors.png)\n",
    "\n",
    "Importantly, in this case, there are reuse opportunities. Remember that each GPU thread block contains shared memory that all threads can access within the block. We use `cache_read` to add an intermediate stage that caches segments (in green below) onto the shared memory. After the caching is finished, the threads can then read from the shared memory."
   ]
  },
  {
   "cell_type": "code",
   "execution_count": 7,
   "id": "d5898e09",
   "metadata": {
    "execution": {
     "iopub.execute_input": "2025-07-09T12:33:35.475096Z",
     "iopub.status.busy": "2025-07-09T12:33:35.474896Z",
     "iopub.status.idle": "2025-07-09T12:33:35.485167Z",
     "shell.execute_reply": "2025-07-09T12:33:35.484108Z"
    }
   },
   "outputs": [
    {
     "data": {
      "text/html": [
       "<div class=\"highlight\" style=\"background: \"><pre style=\"line-height: 125%;\"><span></span><span style=\"color: #007979; font-style: italic\"># from tvm.script import ir as I</span>\n",
       "<span style=\"color: #007979; font-style: italic\"># from tvm.script import tir as T</span>\n",
       "\n",
       "<span style=\"color: #A2F\">@I</span><span style=\"color: #A2F; font-weight: bold\">.</span>ir_module\n",
       "<span style=\"color: #008000; font-weight: bold\">class</span> <span style=\"color: #00F; font-weight: bold\">Module</span>:\n",
       "    <span style=\"color: #A2F\">@T</span><span style=\"color: #A2F; font-weight: bold\">.</span>prim_func\n",
       "    <span style=\"color: #008000; font-weight: bold\">def</span> <span style=\"color: #00F\">main</span>(A: T<span style=\"color: #A2F; font-weight: bold\">.</span>Buffer((<span style=\"color: #008000\">1027</span>,), <span style=\"color: #BA2121\">&quot;float32&quot;</span>), B: T<span style=\"color: #A2F; font-weight: bold\">.</span>Buffer((<span style=\"color: #008000\">1024</span>,), <span style=\"color: #BA2121\">&quot;float32&quot;</span>)):\n",
       "        T<span style=\"color: #A2F; font-weight: bold\">.</span>func_attr({<span style=\"color: #BA2121\">&quot;tir.noalias&quot;</span>: T<span style=\"color: #A2F; font-weight: bold\">.</span>bool(<span style=\"color: #008000; font-weight: bold\">True</span>)})\n",
       "        <span style=\"color: #007979; font-style: italic\"># with T.block(&quot;root&quot;):</span>\n",
       "        A_shared <span style=\"color: #A2F; font-weight: bold\">=</span> T<span style=\"color: #A2F; font-weight: bold\">.</span>alloc_buffer((<span style=\"color: #008000\">1027</span>,), scope<span style=\"color: #A2F; font-weight: bold\">=</span><span style=\"color: #BA2121\">&quot;shared&quot;</span>)\n",
       "        <span style=\"color: #008000; font-weight: bold\">for</span> i_0 <span style=\"color: #008000; font-weight: bold\">in</span> T<span style=\"color: #A2F; font-weight: bold\">.</span>thread_binding(<span style=\"color: #008000\">8</span>, thread<span style=\"color: #A2F; font-weight: bold\">=</span><span style=\"color: #BA2121\">&quot;blockIdx.x&quot;</span>):\n",
       "            <span style=\"color: #008000; font-weight: bold\">for</span> i_1 <span style=\"color: #008000; font-weight: bold\">in</span> T<span style=\"color: #A2F; font-weight: bold\">.</span>thread_binding(<span style=\"color: #008000\">128</span>, thread<span style=\"color: #A2F; font-weight: bold\">=</span><span style=\"color: #BA2121\">&quot;threadIdx.x&quot;</span>):\n",
       "                <span style=\"color: #008000; font-weight: bold\">for</span> ax0 <span style=\"color: #008000; font-weight: bold\">in</span> range(<span style=\"color: #008000\">130</span>):\n",
       "                    <span style=\"color: #008000; font-weight: bold\">with</span> T<span style=\"color: #A2F; font-weight: bold\">.</span>block(<span style=\"color: #BA2121\">&quot;A_shared&quot;</span>):\n",
       "                        v0 <span style=\"color: #A2F; font-weight: bold\">=</span> T<span style=\"color: #A2F; font-weight: bold\">.</span>axis<span style=\"color: #A2F; font-weight: bold\">.</span>spatial(<span style=\"color: #008000\">1027</span>, i_0 <span style=\"color: #A2F; font-weight: bold\">*</span> <span style=\"color: #008000\">128</span> <span style=\"color: #A2F; font-weight: bold\">+</span> ax0)\n",
       "                        T<span style=\"color: #A2F; font-weight: bold\">.</span>reads(A[v0])\n",
       "                        T<span style=\"color: #A2F; font-weight: bold\">.</span>writes(A_shared[v0])\n",
       "                        A_shared[v0] <span style=\"color: #A2F; font-weight: bold\">=</span> A[v0]\n",
       "                <span style=\"color: #008000; font-weight: bold\">with</span> T<span style=\"color: #A2F; font-weight: bold\">.</span>block(<span style=\"color: #BA2121\">&quot;C&quot;</span>):\n",
       "                    vi <span style=\"color: #A2F; font-weight: bold\">=</span> T<span style=\"color: #A2F; font-weight: bold\">.</span>axis<span style=\"color: #A2F; font-weight: bold\">.</span>spatial(<span style=\"color: #008000\">1024</span>, i_0 <span style=\"color: #A2F; font-weight: bold\">*</span> <span style=\"color: #008000\">128</span> <span style=\"color: #A2F; font-weight: bold\">+</span> i_1)\n",
       "                    T<span style=\"color: #A2F; font-weight: bold\">.</span>reads(A_shared[vi:vi <span style=\"color: #A2F; font-weight: bold\">+</span> <span style=\"color: #008000\">3</span>])\n",
       "                    T<span style=\"color: #A2F; font-weight: bold\">.</span>writes(B[vi])\n",
       "                    B[vi] <span style=\"color: #A2F; font-weight: bold\">=</span> A_shared[vi] <span style=\"color: #A2F; font-weight: bold\">+</span> A_shared[vi <span style=\"color: #A2F; font-weight: bold\">+</span> <span style=\"color: #008000\">1</span>] <span style=\"color: #A2F; font-weight: bold\">+</span> A_shared[vi <span style=\"color: #A2F; font-weight: bold\">+</span> <span style=\"color: #008000\">2</span>]\n",
       "</pre></div>\n"
      ],
      "text/plain": [
       "<IPython.core.display.HTML object>"
      ]
     },
     "metadata": {},
     "output_type": "display_data"
    }
   ],
   "source": [
    "A_shared = sch.cache_read(block_C, read_buffer_index=0, storage_scope=\"shared\")\n",
    "sch.compute_at(A_shared, i1)\n",
    "sch.mod.show()"
   ]
  },
  {
   "cell_type": "markdown",
   "id": "2bd32c89",
   "metadata": {},
   "source": [
    "Because the memory is shared across threads, we need to re-split the loop and bind the inner iterator of the fetching process onto the thread indices. This technique is called **cooperative fetching**, where multiple threads work together to bring the data onto the shared memory. The following reading process can be different."
   ]
  },
  {
   "cell_type": "code",
   "execution_count": 8,
   "id": "7f27900f",
   "metadata": {
    "execution": {
     "iopub.execute_input": "2025-07-09T12:33:35.487578Z",
     "iopub.status.busy": "2025-07-09T12:33:35.487275Z",
     "iopub.status.idle": "2025-07-09T12:33:35.498035Z",
     "shell.execute_reply": "2025-07-09T12:33:35.497548Z"
    }
   },
   "outputs": [
    {
     "data": {
      "text/html": [
       "<div class=\"highlight\" style=\"background: \"><pre style=\"line-height: 125%;\"><span></span><span style=\"color: #007979; font-style: italic\"># from tvm.script import ir as I</span>\n",
       "<span style=\"color: #007979; font-style: italic\"># from tvm.script import tir as T</span>\n",
       "\n",
       "<span style=\"color: #A2F\">@I</span><span style=\"color: #A2F; font-weight: bold\">.</span>ir_module\n",
       "<span style=\"color: #008000; font-weight: bold\">class</span> <span style=\"color: #00F; font-weight: bold\">Module</span>:\n",
       "    <span style=\"color: #A2F\">@T</span><span style=\"color: #A2F; font-weight: bold\">.</span>prim_func\n",
       "    <span style=\"color: #008000; font-weight: bold\">def</span> <span style=\"color: #00F\">main</span>(A: T<span style=\"color: #A2F; font-weight: bold\">.</span>Buffer((<span style=\"color: #008000\">1027</span>,), <span style=\"color: #BA2121\">&quot;float32&quot;</span>), B: T<span style=\"color: #A2F; font-weight: bold\">.</span>Buffer((<span style=\"color: #008000\">1024</span>,), <span style=\"color: #BA2121\">&quot;float32&quot;</span>)):\n",
       "        T<span style=\"color: #A2F; font-weight: bold\">.</span>func_attr({<span style=\"color: #BA2121\">&quot;tir.noalias&quot;</span>: T<span style=\"color: #A2F; font-weight: bold\">.</span>bool(<span style=\"color: #008000; font-weight: bold\">True</span>)})\n",
       "        <span style=\"color: #007979; font-style: italic\"># with T.block(&quot;root&quot;):</span>\n",
       "        A_shared <span style=\"color: #A2F; font-weight: bold\">=</span> T<span style=\"color: #A2F; font-weight: bold\">.</span>alloc_buffer((<span style=\"color: #008000\">1027</span>,), scope<span style=\"color: #A2F; font-weight: bold\">=</span><span style=\"color: #BA2121\">&quot;shared&quot;</span>)\n",
       "        <span style=\"color: #008000; font-weight: bold\">for</span> i_0 <span style=\"color: #008000; font-weight: bold\">in</span> T<span style=\"color: #A2F; font-weight: bold\">.</span>thread_binding(<span style=\"color: #008000\">8</span>, thread<span style=\"color: #A2F; font-weight: bold\">=</span><span style=\"color: #BA2121\">&quot;blockIdx.x&quot;</span>):\n",
       "            <span style=\"color: #008000; font-weight: bold\">for</span> i_1 <span style=\"color: #008000; font-weight: bold\">in</span> T<span style=\"color: #A2F; font-weight: bold\">.</span>thread_binding(<span style=\"color: #008000\">128</span>, thread<span style=\"color: #A2F; font-weight: bold\">=</span><span style=\"color: #BA2121\">&quot;threadIdx.x&quot;</span>):\n",
       "                <span style=\"color: #008000; font-weight: bold\">for</span> ax0_0 <span style=\"color: #008000; font-weight: bold\">in</span> range(<span style=\"color: #008000\">2</span>):\n",
       "                    <span style=\"color: #008000; font-weight: bold\">for</span> ax0_1 <span style=\"color: #008000; font-weight: bold\">in</span> T<span style=\"color: #A2F; font-weight: bold\">.</span>thread_binding(<span style=\"color: #008000\">128</span>, thread<span style=\"color: #A2F; font-weight: bold\">=</span><span style=\"color: #BA2121\">&quot;threadIdx.x&quot;</span>):\n",
       "                        <span style=\"color: #008000; font-weight: bold\">with</span> T<span style=\"color: #A2F; font-weight: bold\">.</span>block(<span style=\"color: #BA2121\">&quot;A_shared&quot;</span>):\n",
       "                            v0 <span style=\"color: #A2F; font-weight: bold\">=</span> T<span style=\"color: #A2F; font-weight: bold\">.</span>axis<span style=\"color: #A2F; font-weight: bold\">.</span>spatial(<span style=\"color: #008000\">1027</span>, i_0 <span style=\"color: #A2F; font-weight: bold\">*</span> <span style=\"color: #008000\">128</span> <span style=\"color: #A2F; font-weight: bold\">+</span> (ax0_0 <span style=\"color: #A2F; font-weight: bold\">*</span> <span style=\"color: #008000\">128</span> <span style=\"color: #A2F; font-weight: bold\">+</span> ax0_1))\n",
       "                            T<span style=\"color: #A2F; font-weight: bold\">.</span>where(ax0_0 <span style=\"color: #A2F; font-weight: bold\">*</span> <span style=\"color: #008000\">128</span> <span style=\"color: #A2F; font-weight: bold\">+</span> ax0_1 <span style=\"color: #A2F; font-weight: bold\">&lt;</span> <span style=\"color: #008000\">130</span>)\n",
       "                            T<span style=\"color: #A2F; font-weight: bold\">.</span>reads(A[v0])\n",
       "                            T<span style=\"color: #A2F; font-weight: bold\">.</span>writes(A_shared[v0])\n",
       "                            A_shared[v0] <span style=\"color: #A2F; font-weight: bold\">=</span> A[v0]\n",
       "                <span style=\"color: #008000; font-weight: bold\">with</span> T<span style=\"color: #A2F; font-weight: bold\">.</span>block(<span style=\"color: #BA2121\">&quot;C&quot;</span>):\n",
       "                    vi <span style=\"color: #A2F; font-weight: bold\">=</span> T<span style=\"color: #A2F; font-weight: bold\">.</span>axis<span style=\"color: #A2F; font-weight: bold\">.</span>spatial(<span style=\"color: #008000\">1024</span>, i_0 <span style=\"color: #A2F; font-weight: bold\">*</span> <span style=\"color: #008000\">128</span> <span style=\"color: #A2F; font-weight: bold\">+</span> i_1)\n",
       "                    T<span style=\"color: #A2F; font-weight: bold\">.</span>reads(A_shared[vi:vi <span style=\"color: #A2F; font-weight: bold\">+</span> <span style=\"color: #008000\">3</span>])\n",
       "                    T<span style=\"color: #A2F; font-weight: bold\">.</span>writes(B[vi])\n",
       "                    B[vi] <span style=\"color: #A2F; font-weight: bold\">=</span> A_shared[vi] <span style=\"color: #A2F; font-weight: bold\">+</span> A_shared[vi <span style=\"color: #A2F; font-weight: bold\">+</span> <span style=\"color: #008000\">1</span>] <span style=\"color: #A2F; font-weight: bold\">+</span> A_shared[vi <span style=\"color: #A2F; font-weight: bold\">+</span> <span style=\"color: #008000\">2</span>]\n",
       "</pre></div>\n"
      ],
      "text/plain": [
       "<IPython.core.display.HTML object>"
      ]
     },
     "metadata": {},
     "output_type": "display_data"
    }
   ],
   "source": [
    "ax = sch.get_loops(A_shared)[-1]\n",
    "ax0, ax1 = sch.split(ax, [None, nthread])\n",
    "sch.bind(ax1, \"threadIdx.x\")\n",
    "sch.mod.show()"
   ]
  },
  {
   "cell_type": "markdown",
   "id": "6e211899",
   "metadata": {},
   "source": [
    "We can inspect the corresponding low-level code (in CUDA). The generated code contains two parts:\n",
    "\n",
    "- A host part that calls into the GPU driver\n",
    "- A cuda kernel that runs the corresponding computation.\n",
    "\n",
    "We can print out the cuda kernel using the following code. We still need both the host and kernel code to run the program, so it is only a quick way to inspect what the final code generation result.\n",
    "\n",
    "Notably, the build process automatically compacts the shared memory stage to use a minimum region used within the thread block."
   ]
  },
  {
   "cell_type": "markdown",
   "id": "a7fe5b52",
   "metadata": {},
   "source": [
    "```python\n",
    "rt_mod = tvm.build(sch.mod, target=\"cuda\")\n",
    "print(rt_mod.imported_modules[0].get_source())\n",
    "```\n"
   ]
  },
  {
   "cell_type": "markdown",
   "id": "3219650e",
   "metadata": {},
   "source": [
    "#### Build Code for Other GPU Platforms\n",
    "\n",
    "A MLC process usually support targeting multiple kinds of hardware platforms, we can generate Metal code(which is another kind of GPU programming model) by changing the target parameter."
   ]
  },
  {
   "cell_type": "markdown",
   "id": "8522f0c6",
   "metadata": {},
   "source": [
    "```python\n",
    "rt_mod = tvm.build(sch.mod, target=\"metal\")\n",
    "print(rt_mod.imported_modules[0].get_source())\n",
    "```\n"
   ]
  },
  {
   "cell_type": "markdown",
   "id": "d13b25d6",
   "metadata": {},
   "source": [
    "### Matrix Multiplication\n",
    "\n",
    "Let us now get to something slightly more complicated and try out optimizing matrix multiplication on GPU. We will go over two common techniques for GPU performance optimization."
   ]
  },
  {
   "cell_type": "code",
   "execution_count": 9,
   "id": "3622ce56",
   "metadata": {
    "execution": {
     "iopub.execute_input": "2025-07-09T12:33:35.501092Z",
     "iopub.status.busy": "2025-07-09T12:33:35.500886Z",
     "iopub.status.idle": "2025-07-09T12:33:35.524360Z",
     "shell.execute_reply": "2025-07-09T12:33:35.523787Z"
    }
   },
   "outputs": [],
   "source": [
    "@tvm.script.ir_module\n",
    "class MyModuleMatmul:\n",
    "    @T.prim_func\n",
    "    def main(A: T.Buffer((1024, 1024), \"float32\"),\n",
    "             B: T.Buffer((1024, 1024), \"float32\"),\n",
    "             C: T.Buffer((1024, 1024), \"float32\")) -> None:\n",
    "        T.func_attr({\"global_symbol\": \"main\", \"tir.noalias\": True})\n",
    "        for i, j, k in T.grid(1024, 1024, 1024):\n",
    "            with T.block(\"C\"):\n",
    "                vi, vj, vk = T.axis.remap(\"SSR\", [i, j, k])\n",
    "                with T.init():\n",
    "                    C[vi, vj] = 0.0\n",
    "                C[vi, vj] = C[vi, vj] + A[vi, vk] * B[vk, vj]"
   ]
  },
  {
   "cell_type": "markdown",
   "id": "58729776",
   "metadata": {},
   "source": [
    "#### Local Blocking\n",
    "\n",
    "![](../img/gpu_local_blocking.png)\n",
    "\n",
    "To increase overall memory reuse. We can tile the loops. In particular, we introduce local tiles such that we only need to load stripe of data from A and B once, then use them to perform a `V * V` matrix multiplication result.\n",
    "\n",
    "This local tiling helps to reduce the memory pressure, as each element in the stripe is reused `V` times."
   ]
  },
  {
   "cell_type": "code",
   "execution_count": 10,
   "id": "79c09124",
   "metadata": {
    "execution": {
     "iopub.execute_input": "2025-07-09T12:33:35.527686Z",
     "iopub.status.busy": "2025-07-09T12:33:35.527484Z",
     "iopub.status.idle": "2025-07-09T12:33:35.546113Z",
     "shell.execute_reply": "2025-07-09T12:33:35.545616Z"
    }
   },
   "outputs": [
    {
     "data": {
      "text/html": [
       "<div class=\"highlight\" style=\"background: \"><pre style=\"line-height: 125%;\"><span></span><span style=\"color: #007979; font-style: italic\"># from tvm.script import ir as I</span>\n",
       "<span style=\"color: #007979; font-style: italic\"># from tvm.script import tir as T</span>\n",
       "\n",
       "<span style=\"color: #A2F\">@I</span><span style=\"color: #A2F; font-weight: bold\">.</span>ir_module\n",
       "<span style=\"color: #008000; font-weight: bold\">class</span> <span style=\"color: #00F; font-weight: bold\">Module</span>:\n",
       "    <span style=\"color: #A2F\">@T</span><span style=\"color: #A2F; font-weight: bold\">.</span>prim_func\n",
       "    <span style=\"color: #008000; font-weight: bold\">def</span> <span style=\"color: #00F\">main</span>(A: T<span style=\"color: #A2F; font-weight: bold\">.</span>Buffer((<span style=\"color: #008000\">1024</span>, <span style=\"color: #008000\">1024</span>), <span style=\"color: #BA2121\">&quot;float32&quot;</span>), B: T<span style=\"color: #A2F; font-weight: bold\">.</span>Buffer((<span style=\"color: #008000\">1024</span>, <span style=\"color: #008000\">1024</span>), <span style=\"color: #BA2121\">&quot;float32&quot;</span>), C: T<span style=\"color: #A2F; font-weight: bold\">.</span>Buffer((<span style=\"color: #008000\">1024</span>, <span style=\"color: #008000\">1024</span>), <span style=\"color: #BA2121\">&quot;float32&quot;</span>)):\n",
       "        T<span style=\"color: #A2F; font-weight: bold\">.</span>func_attr({<span style=\"color: #BA2121\">&quot;tir.noalias&quot;</span>: T<span style=\"color: #A2F; font-weight: bold\">.</span>bool(<span style=\"color: #008000; font-weight: bold\">True</span>)})\n",
       "        <span style=\"color: #007979; font-style: italic\"># with T.block(&quot;root&quot;):</span>\n",
       "        C_local <span style=\"color: #A2F; font-weight: bold\">=</span> T<span style=\"color: #A2F; font-weight: bold\">.</span>alloc_buffer((<span style=\"color: #008000\">1024</span>, <span style=\"color: #008000\">1024</span>), scope<span style=\"color: #A2F; font-weight: bold\">=</span><span style=\"color: #BA2121\">&quot;local&quot;</span>)\n",
       "        <span style=\"color: #008000; font-weight: bold\">for</span> i_0 <span style=\"color: #008000; font-weight: bold\">in</span> T<span style=\"color: #A2F; font-weight: bold\">.</span>thread_binding(<span style=\"color: #008000\">16</span>, thread<span style=\"color: #A2F; font-weight: bold\">=</span><span style=\"color: #BA2121\">&quot;blockIdx.y&quot;</span>):\n",
       "            <span style=\"color: #008000; font-weight: bold\">for</span> j_0 <span style=\"color: #008000; font-weight: bold\">in</span> T<span style=\"color: #A2F; font-weight: bold\">.</span>thread_binding(<span style=\"color: #008000\">16</span>, thread<span style=\"color: #A2F; font-weight: bold\">=</span><span style=\"color: #BA2121\">&quot;blockIdx.x&quot;</span>):\n",
       "                <span style=\"color: #008000; font-weight: bold\">for</span> i_1 <span style=\"color: #008000; font-weight: bold\">in</span> T<span style=\"color: #A2F; font-weight: bold\">.</span>thread_binding(<span style=\"color: #008000\">8</span>, thread<span style=\"color: #A2F; font-weight: bold\">=</span><span style=\"color: #BA2121\">&quot;threadIdx.y&quot;</span>):\n",
       "                    <span style=\"color: #008000; font-weight: bold\">for</span> j_1 <span style=\"color: #008000; font-weight: bold\">in</span> T<span style=\"color: #A2F; font-weight: bold\">.</span>thread_binding(<span style=\"color: #008000\">8</span>, thread<span style=\"color: #A2F; font-weight: bold\">=</span><span style=\"color: #BA2121\">&quot;threadIdx.x&quot;</span>):\n",
       "                        <span style=\"color: #008000; font-weight: bold\">for</span> i_2_init, j_2_init <span style=\"color: #008000; font-weight: bold\">in</span> T<span style=\"color: #A2F; font-weight: bold\">.</span>grid(<span style=\"color: #008000\">8</span>, <span style=\"color: #008000\">8</span>):\n",
       "                            <span style=\"color: #008000; font-weight: bold\">with</span> T<span style=\"color: #A2F; font-weight: bold\">.</span>block(<span style=\"color: #BA2121\">&quot;C_init&quot;</span>):\n",
       "                                vi <span style=\"color: #A2F; font-weight: bold\">=</span> T<span style=\"color: #A2F; font-weight: bold\">.</span>axis<span style=\"color: #A2F; font-weight: bold\">.</span>spatial(<span style=\"color: #008000\">1024</span>, i_0 <span style=\"color: #A2F; font-weight: bold\">*</span> <span style=\"color: #008000\">64</span> <span style=\"color: #A2F; font-weight: bold\">+</span> i_1 <span style=\"color: #A2F; font-weight: bold\">*</span> <span style=\"color: #008000\">8</span> <span style=\"color: #A2F; font-weight: bold\">+</span> i_2_init)\n",
       "                                vj <span style=\"color: #A2F; font-weight: bold\">=</span> T<span style=\"color: #A2F; font-weight: bold\">.</span>axis<span style=\"color: #A2F; font-weight: bold\">.</span>spatial(<span style=\"color: #008000\">1024</span>, j_0 <span style=\"color: #A2F; font-weight: bold\">*</span> <span style=\"color: #008000\">64</span> <span style=\"color: #A2F; font-weight: bold\">+</span> j_1 <span style=\"color: #A2F; font-weight: bold\">*</span> <span style=\"color: #008000\">8</span> <span style=\"color: #A2F; font-weight: bold\">+</span> j_2_init)\n",
       "                                T<span style=\"color: #A2F; font-weight: bold\">.</span>reads()\n",
       "                                T<span style=\"color: #A2F; font-weight: bold\">.</span>writes(C_local[vi, vj])\n",
       "                                C_local[vi, vj] <span style=\"color: #A2F; font-weight: bold\">=</span> T<span style=\"color: #A2F; font-weight: bold\">.</span>float32(<span style=\"color: #008000\">0.0</span>)\n",
       "                        <span style=\"color: #008000; font-weight: bold\">for</span> k_0 <span style=\"color: #008000; font-weight: bold\">in</span> range(<span style=\"color: #008000\">256</span>):\n",
       "                            <span style=\"color: #008000; font-weight: bold\">for</span> k_1 <span style=\"color: #008000; font-weight: bold\">in</span> T<span style=\"color: #A2F; font-weight: bold\">.</span>unroll(<span style=\"color: #008000\">4</span>):\n",
       "                                <span style=\"color: #008000; font-weight: bold\">for</span> i_2, j_2 <span style=\"color: #008000; font-weight: bold\">in</span> T<span style=\"color: #A2F; font-weight: bold\">.</span>grid(<span style=\"color: #008000\">8</span>, <span style=\"color: #008000\">8</span>):\n",
       "                                    <span style=\"color: #008000; font-weight: bold\">with</span> T<span style=\"color: #A2F; font-weight: bold\">.</span>block(<span style=\"color: #BA2121\">&quot;C_update&quot;</span>):\n",
       "                                        vi <span style=\"color: #A2F; font-weight: bold\">=</span> T<span style=\"color: #A2F; font-weight: bold\">.</span>axis<span style=\"color: #A2F; font-weight: bold\">.</span>spatial(<span style=\"color: #008000\">1024</span>, i_0 <span style=\"color: #A2F; font-weight: bold\">*</span> <span style=\"color: #008000\">64</span> <span style=\"color: #A2F; font-weight: bold\">+</span> i_1 <span style=\"color: #A2F; font-weight: bold\">*</span> <span style=\"color: #008000\">8</span> <span style=\"color: #A2F; font-weight: bold\">+</span> i_2)\n",
       "                                        vj <span style=\"color: #A2F; font-weight: bold\">=</span> T<span style=\"color: #A2F; font-weight: bold\">.</span>axis<span style=\"color: #A2F; font-weight: bold\">.</span>spatial(<span style=\"color: #008000\">1024</span>, j_0 <span style=\"color: #A2F; font-weight: bold\">*</span> <span style=\"color: #008000\">64</span> <span style=\"color: #A2F; font-weight: bold\">+</span> j_1 <span style=\"color: #A2F; font-weight: bold\">*</span> <span style=\"color: #008000\">8</span> <span style=\"color: #A2F; font-weight: bold\">+</span> j_2)\n",
       "                                        vk <span style=\"color: #A2F; font-weight: bold\">=</span> T<span style=\"color: #A2F; font-weight: bold\">.</span>axis<span style=\"color: #A2F; font-weight: bold\">.</span>reduce(<span style=\"color: #008000\">1024</span>, k_0 <span style=\"color: #A2F; font-weight: bold\">*</span> <span style=\"color: #008000\">4</span> <span style=\"color: #A2F; font-weight: bold\">+</span> k_1)\n",
       "                                        T<span style=\"color: #A2F; font-weight: bold\">.</span>reads(C_local[vi, vj], A[vi, vk], B[vk, vj])\n",
       "                                        T<span style=\"color: #A2F; font-weight: bold\">.</span>writes(C_local[vi, vj])\n",
       "                                        C_local[vi, vj] <span style=\"color: #A2F; font-weight: bold\">=</span> C_local[vi, vj] <span style=\"color: #A2F; font-weight: bold\">+</span> A[vi, vk] <span style=\"color: #A2F; font-weight: bold\">*</span> B[vk, vj]\n",
       "                        <span style=\"color: #008000; font-weight: bold\">for</span> ax0, ax1 <span style=\"color: #008000; font-weight: bold\">in</span> T<span style=\"color: #A2F; font-weight: bold\">.</span>grid(<span style=\"color: #008000\">8</span>, <span style=\"color: #008000\">8</span>):\n",
       "                            <span style=\"color: #008000; font-weight: bold\">with</span> T<span style=\"color: #A2F; font-weight: bold\">.</span>block(<span style=\"color: #BA2121\">&quot;C_local&quot;</span>):\n",
       "                                v0 <span style=\"color: #A2F; font-weight: bold\">=</span> T<span style=\"color: #A2F; font-weight: bold\">.</span>axis<span style=\"color: #A2F; font-weight: bold\">.</span>spatial(<span style=\"color: #008000\">1024</span>, i_0 <span style=\"color: #A2F; font-weight: bold\">*</span> <span style=\"color: #008000\">64</span> <span style=\"color: #A2F; font-weight: bold\">+</span> i_1 <span style=\"color: #A2F; font-weight: bold\">*</span> <span style=\"color: #008000\">8</span> <span style=\"color: #A2F; font-weight: bold\">+</span> ax0)\n",
       "                                v1 <span style=\"color: #A2F; font-weight: bold\">=</span> T<span style=\"color: #A2F; font-weight: bold\">.</span>axis<span style=\"color: #A2F; font-weight: bold\">.</span>spatial(<span style=\"color: #008000\">1024</span>, j_0 <span style=\"color: #A2F; font-weight: bold\">*</span> <span style=\"color: #008000\">64</span> <span style=\"color: #A2F; font-weight: bold\">+</span> j_1 <span style=\"color: #A2F; font-weight: bold\">*</span> <span style=\"color: #008000\">8</span> <span style=\"color: #A2F; font-weight: bold\">+</span> ax1)\n",
       "                                T<span style=\"color: #A2F; font-weight: bold\">.</span>reads(C_local[v0, v1])\n",
       "                                T<span style=\"color: #A2F; font-weight: bold\">.</span>writes(C[v0, v1])\n",
       "                                C[v0, v1] <span style=\"color: #A2F; font-weight: bold\">=</span> C_local[v0, v1]\n",
       "</pre></div>\n"
      ],
      "text/plain": [
       "<IPython.core.display.HTML object>"
      ]
     },
     "metadata": {},
     "output_type": "display_data"
    }
   ],
   "source": [
    "def blocking(sch,\n",
    "             tile_local_y,\n",
    "             tile_local_x,\n",
    "             tile_block_y,\n",
    "             tile_block_x,\n",
    "             tile_k):\n",
    "    block_C = sch.get_block(\"C\")\n",
    "    C_local = sch.cache_write(block_C, 0, \"local\")\n",
    "\n",
    "    i, j, k = sch.get_loops(block=block_C)\n",
    "\n",
    "    i0, i1, i2 = sch.split(loop=i, factors=[None, tile_block_y, tile_local_y])\n",
    "    j0, j1, j2 = sch.split(loop=j, factors=[None, tile_block_x, tile_local_x])\n",
    "    k0, k1 = sch.split(loop=k, factors=[None, tile_k])\n",
    "    sch.unroll(k1)\n",
    "    sch.reorder(i0, j0, i1, j1, k0, k1, i2, j2)\n",
    "    sch.reverse_compute_at(C_local, j1)\n",
    "\n",
    "    sch.bind(i0, \"blockIdx.y\")\n",
    "    sch.bind(j0, \"blockIdx.x\")\n",
    "\n",
    "    sch.bind(i1, \"threadIdx.y\")\n",
    "    sch.bind(j1, \"threadIdx.x\")\n",
    "    sch.decompose_reduction(block_C, k0)\n",
    "\n",
    "    return sch\n",
    "\n",
    "sch = tvm.tir.Schedule(MyModuleMatmul)\n",
    "sch = blocking(sch, 8, 8, 8, 8, 4)\n",
    "sch.mod.show()"
   ]
  },
  {
   "cell_type": "markdown",
   "id": "76a645c8",
   "metadata": {},
   "source": [
    "```python\n",
    "rt_mod = tvm.build(sch.mod, target=\"cuda\")\n",
    "dev = tvm.cuda(0)\n",
    "A_np = np.random.uniform(size=(1024, 1024)).astype(\"float32\")\n",
    "B_np = np.random.uniform(size=(1024, 1024)).astype(\"float32\")\n",
    "A_nd = tvm.nd.array(A_np, dev)\n",
    "B_nd = tvm.nd.array(B_np, dev)\n",
    "C_nd = tvm.nd.array(np.zeros((1024, 1024), dtype=\"float32\"), dev)\n",
    "\n",
    "num_flop = 2 * 1024 * 1024 * 1024\n",
    "evaluator = rt_mod.time_evaluator(\"main\", dev, number=10)\n",
    "\n",
    "print(\"GEMM-Blocking: %f GFLOPS\" % (num_flop / evaluator(A_nd, B_nd, C_nd).mean / 1e9))\n",
    "```\n"
   ]
  },
  {
   "cell_type": "markdown",
   "id": "59a17382",
   "metadata": {},
   "source": [
    "### Shared Memory Blocking\n",
    "\n",
    "![](../img/gpu_shared_blocking.png)\n",
    "\n",
    "Our first attempt did not consider the neighboring threads which sit in the same GPU thread block, and we can load the data they commonly need into a piece of shared memory.\n",
    "\n",
    "The following transformation does that."
   ]
  },
  {
   "cell_type": "code",
   "execution_count": 11,
   "id": "29820f3b",
   "metadata": {
    "execution": {
     "iopub.execute_input": "2025-07-09T12:33:35.549079Z",
     "iopub.status.busy": "2025-07-09T12:33:35.548833Z",
     "iopub.status.idle": "2025-07-09T12:33:35.578193Z",
     "shell.execute_reply": "2025-07-09T12:33:35.577207Z"
    }
   },
   "outputs": [
    {
     "data": {
      "text/html": [
       "<div class=\"highlight\" style=\"background: \"><pre style=\"line-height: 125%;\"><span></span><span style=\"color: #007979; font-style: italic\"># from tvm.script import ir as I</span>\n",
       "<span style=\"color: #007979; font-style: italic\"># from tvm.script import tir as T</span>\n",
       "\n",
       "<span style=\"color: #A2F\">@I</span><span style=\"color: #A2F; font-weight: bold\">.</span>ir_module\n",
       "<span style=\"color: #008000; font-weight: bold\">class</span> <span style=\"color: #00F; font-weight: bold\">Module</span>:\n",
       "    <span style=\"color: #A2F\">@T</span><span style=\"color: #A2F; font-weight: bold\">.</span>prim_func\n",
       "    <span style=\"color: #008000; font-weight: bold\">def</span> <span style=\"color: #00F\">main</span>(A: T<span style=\"color: #A2F; font-weight: bold\">.</span>Buffer((<span style=\"color: #008000\">1024</span>, <span style=\"color: #008000\">1024</span>), <span style=\"color: #BA2121\">&quot;float32&quot;</span>), B: T<span style=\"color: #A2F; font-weight: bold\">.</span>Buffer((<span style=\"color: #008000\">1024</span>, <span style=\"color: #008000\">1024</span>), <span style=\"color: #BA2121\">&quot;float32&quot;</span>), C: T<span style=\"color: #A2F; font-weight: bold\">.</span>Buffer((<span style=\"color: #008000\">1024</span>, <span style=\"color: #008000\">1024</span>), <span style=\"color: #BA2121\">&quot;float32&quot;</span>)):\n",
       "        T<span style=\"color: #A2F; font-weight: bold\">.</span>func_attr({<span style=\"color: #BA2121\">&quot;tir.noalias&quot;</span>: T<span style=\"color: #A2F; font-weight: bold\">.</span>bool(<span style=\"color: #008000; font-weight: bold\">True</span>)})\n",
       "        <span style=\"color: #007979; font-style: italic\"># with T.block(&quot;root&quot;):</span>\n",
       "        C_local <span style=\"color: #A2F; font-weight: bold\">=</span> T<span style=\"color: #A2F; font-weight: bold\">.</span>alloc_buffer((<span style=\"color: #008000\">1024</span>, <span style=\"color: #008000\">1024</span>), scope<span style=\"color: #A2F; font-weight: bold\">=</span><span style=\"color: #BA2121\">&quot;local&quot;</span>)\n",
       "        A_shared <span style=\"color: #A2F; font-weight: bold\">=</span> T<span style=\"color: #A2F; font-weight: bold\">.</span>alloc_buffer((<span style=\"color: #008000\">1024</span>, <span style=\"color: #008000\">1024</span>), scope<span style=\"color: #A2F; font-weight: bold\">=</span><span style=\"color: #BA2121\">&quot;shared&quot;</span>)\n",
       "        B_shared <span style=\"color: #A2F; font-weight: bold\">=</span> T<span style=\"color: #A2F; font-weight: bold\">.</span>alloc_buffer((<span style=\"color: #008000\">1024</span>, <span style=\"color: #008000\">1024</span>), scope<span style=\"color: #A2F; font-weight: bold\">=</span><span style=\"color: #BA2121\">&quot;shared&quot;</span>)\n",
       "        <span style=\"color: #008000; font-weight: bold\">for</span> i_0 <span style=\"color: #008000; font-weight: bold\">in</span> T<span style=\"color: #A2F; font-weight: bold\">.</span>thread_binding(<span style=\"color: #008000\">16</span>, thread<span style=\"color: #A2F; font-weight: bold\">=</span><span style=\"color: #BA2121\">&quot;blockIdx.y&quot;</span>):\n",
       "            <span style=\"color: #008000; font-weight: bold\">for</span> j_0 <span style=\"color: #008000; font-weight: bold\">in</span> T<span style=\"color: #A2F; font-weight: bold\">.</span>thread_binding(<span style=\"color: #008000\">16</span>, thread<span style=\"color: #A2F; font-weight: bold\">=</span><span style=\"color: #BA2121\">&quot;blockIdx.x&quot;</span>):\n",
       "                <span style=\"color: #008000; font-weight: bold\">for</span> i_1_j_1_fused <span style=\"color: #008000; font-weight: bold\">in</span> T<span style=\"color: #A2F; font-weight: bold\">.</span>thread_binding(<span style=\"color: #008000\">64</span>, thread<span style=\"color: #A2F; font-weight: bold\">=</span><span style=\"color: #BA2121\">&quot;threadIdx.x&quot;</span>):\n",
       "                    <span style=\"color: #008000; font-weight: bold\">for</span> i_2_init, j_2_init <span style=\"color: #008000; font-weight: bold\">in</span> T<span style=\"color: #A2F; font-weight: bold\">.</span>grid(<span style=\"color: #008000\">8</span>, <span style=\"color: #008000\">8</span>):\n",
       "                        <span style=\"color: #008000; font-weight: bold\">with</span> T<span style=\"color: #A2F; font-weight: bold\">.</span>block(<span style=\"color: #BA2121\">&quot;C_init&quot;</span>):\n",
       "                            vi <span style=\"color: #A2F; font-weight: bold\">=</span> T<span style=\"color: #A2F; font-weight: bold\">.</span>axis<span style=\"color: #A2F; font-weight: bold\">.</span>spatial(<span style=\"color: #008000\">1024</span>, i_0 <span style=\"color: #A2F; font-weight: bold\">*</span> <span style=\"color: #008000\">64</span> <span style=\"color: #A2F; font-weight: bold\">+</span> i_1_j_1_fused <span style=\"color: #A2F; font-weight: bold\">//</span> <span style=\"color: #008000\">8</span> <span style=\"color: #A2F; font-weight: bold\">*</span> <span style=\"color: #008000\">8</span> <span style=\"color: #A2F; font-weight: bold\">+</span> i_2_init)\n",
       "                            vj <span style=\"color: #A2F; font-weight: bold\">=</span> T<span style=\"color: #A2F; font-weight: bold\">.</span>axis<span style=\"color: #A2F; font-weight: bold\">.</span>spatial(<span style=\"color: #008000\">1024</span>, j_0 <span style=\"color: #A2F; font-weight: bold\">*</span> <span style=\"color: #008000\">64</span> <span style=\"color: #A2F; font-weight: bold\">+</span> i_1_j_1_fused <span style=\"color: #A2F; font-weight: bold\">%</span> <span style=\"color: #008000\">8</span> <span style=\"color: #A2F; font-weight: bold\">*</span> <span style=\"color: #008000\">8</span> <span style=\"color: #A2F; font-weight: bold\">+</span> j_2_init)\n",
       "                            T<span style=\"color: #A2F; font-weight: bold\">.</span>reads()\n",
       "                            T<span style=\"color: #A2F; font-weight: bold\">.</span>writes(C_local[vi, vj])\n",
       "                            C_local[vi, vj] <span style=\"color: #A2F; font-weight: bold\">=</span> T<span style=\"color: #A2F; font-weight: bold\">.</span>float32(<span style=\"color: #008000\">0.0</span>)\n",
       "                    <span style=\"color: #008000; font-weight: bold\">for</span> k_0 <span style=\"color: #008000; font-weight: bold\">in</span> range(<span style=\"color: #008000\">128</span>):\n",
       "                        <span style=\"color: #008000; font-weight: bold\">for</span> ax0_ax1_fused_0 <span style=\"color: #008000; font-weight: bold\">in</span> range(<span style=\"color: #008000\">2</span>):\n",
       "                            <span style=\"color: #008000; font-weight: bold\">for</span> ax0_ax1_fused_1 <span style=\"color: #008000; font-weight: bold\">in</span> T<span style=\"color: #A2F; font-weight: bold\">.</span>thread_binding(<span style=\"color: #008000\">64</span>, thread<span style=\"color: #A2F; font-weight: bold\">=</span><span style=\"color: #BA2121\">&quot;threadIdx.x&quot;</span>):\n",
       "                                <span style=\"color: #008000; font-weight: bold\">for</span> ax0_ax1_fused_2 <span style=\"color: #008000; font-weight: bold\">in</span> T<span style=\"color: #A2F; font-weight: bold\">.</span>vectorized(<span style=\"color: #008000\">4</span>):\n",
       "                                    <span style=\"color: #008000; font-weight: bold\">with</span> T<span style=\"color: #A2F; font-weight: bold\">.</span>block(<span style=\"color: #BA2121\">&quot;A_shared&quot;</span>):\n",
       "                                        v0 <span style=\"color: #A2F; font-weight: bold\">=</span> T<span style=\"color: #A2F; font-weight: bold\">.</span>axis<span style=\"color: #A2F; font-weight: bold\">.</span>spatial(<span style=\"color: #008000\">1024</span>, i_0 <span style=\"color: #A2F; font-weight: bold\">*</span> <span style=\"color: #008000\">64</span> <span style=\"color: #A2F; font-weight: bold\">+</span> (ax0_ax1_fused_0 <span style=\"color: #A2F; font-weight: bold\">*</span> <span style=\"color: #008000\">256</span> <span style=\"color: #A2F; font-weight: bold\">+</span> ax0_ax1_fused_1 <span style=\"color: #A2F; font-weight: bold\">*</span> <span style=\"color: #008000\">4</span> <span style=\"color: #A2F; font-weight: bold\">+</span> ax0_ax1_fused_2) <span style=\"color: #A2F; font-weight: bold\">//</span> <span style=\"color: #008000\">8</span>)\n",
       "                                        v1 <span style=\"color: #A2F; font-weight: bold\">=</span> T<span style=\"color: #A2F; font-weight: bold\">.</span>axis<span style=\"color: #A2F; font-weight: bold\">.</span>spatial(<span style=\"color: #008000\">1024</span>, k_0 <span style=\"color: #A2F; font-weight: bold\">*</span> <span style=\"color: #008000\">8</span> <span style=\"color: #A2F; font-weight: bold\">+</span> (ax0_ax1_fused_0 <span style=\"color: #A2F; font-weight: bold\">*</span> <span style=\"color: #008000\">256</span> <span style=\"color: #A2F; font-weight: bold\">+</span> ax0_ax1_fused_1 <span style=\"color: #A2F; font-weight: bold\">*</span> <span style=\"color: #008000\">4</span> <span style=\"color: #A2F; font-weight: bold\">+</span> ax0_ax1_fused_2) <span style=\"color: #A2F; font-weight: bold\">%</span> <span style=\"color: #008000\">8</span>)\n",
       "                                        T<span style=\"color: #A2F; font-weight: bold\">.</span>reads(A[v0, v1])\n",
       "                                        T<span style=\"color: #A2F; font-weight: bold\">.</span>writes(A_shared[v0, v1])\n",
       "                                        A_shared[v0, v1] <span style=\"color: #A2F; font-weight: bold\">=</span> A[v0, v1]\n",
       "                        <span style=\"color: #008000; font-weight: bold\">for</span> ax0_ax1_fused_0 <span style=\"color: #008000; font-weight: bold\">in</span> range(<span style=\"color: #008000\">2</span>):\n",
       "                            <span style=\"color: #008000; font-weight: bold\">for</span> ax0_ax1_fused_1 <span style=\"color: #008000; font-weight: bold\">in</span> T<span style=\"color: #A2F; font-weight: bold\">.</span>thread_binding(<span style=\"color: #008000\">64</span>, thread<span style=\"color: #A2F; font-weight: bold\">=</span><span style=\"color: #BA2121\">&quot;threadIdx.x&quot;</span>):\n",
       "                                <span style=\"color: #008000; font-weight: bold\">for</span> ax0_ax1_fused_2 <span style=\"color: #008000; font-weight: bold\">in</span> T<span style=\"color: #A2F; font-weight: bold\">.</span>vectorized(<span style=\"color: #008000\">4</span>):\n",
       "                                    <span style=\"color: #008000; font-weight: bold\">with</span> T<span style=\"color: #A2F; font-weight: bold\">.</span>block(<span style=\"color: #BA2121\">&quot;B_shared&quot;</span>):\n",
       "                                        v0 <span style=\"color: #A2F; font-weight: bold\">=</span> T<span style=\"color: #A2F; font-weight: bold\">.</span>axis<span style=\"color: #A2F; font-weight: bold\">.</span>spatial(<span style=\"color: #008000\">1024</span>, k_0 <span style=\"color: #A2F; font-weight: bold\">*</span> <span style=\"color: #008000\">8</span> <span style=\"color: #A2F; font-weight: bold\">+</span> (ax0_ax1_fused_0 <span style=\"color: #A2F; font-weight: bold\">*</span> <span style=\"color: #008000\">256</span> <span style=\"color: #A2F; font-weight: bold\">+</span> ax0_ax1_fused_1 <span style=\"color: #A2F; font-weight: bold\">*</span> <span style=\"color: #008000\">4</span> <span style=\"color: #A2F; font-weight: bold\">+</span> ax0_ax1_fused_2) <span style=\"color: #A2F; font-weight: bold\">//</span> <span style=\"color: #008000\">64</span>)\n",
       "                                        v1 <span style=\"color: #A2F; font-weight: bold\">=</span> T<span style=\"color: #A2F; font-weight: bold\">.</span>axis<span style=\"color: #A2F; font-weight: bold\">.</span>spatial(<span style=\"color: #008000\">1024</span>, j_0 <span style=\"color: #A2F; font-weight: bold\">*</span> <span style=\"color: #008000\">64</span> <span style=\"color: #A2F; font-weight: bold\">+</span> (ax0_ax1_fused_0 <span style=\"color: #A2F; font-weight: bold\">*</span> <span style=\"color: #008000\">256</span> <span style=\"color: #A2F; font-weight: bold\">+</span> ax0_ax1_fused_1 <span style=\"color: #A2F; font-weight: bold\">*</span> <span style=\"color: #008000\">4</span> <span style=\"color: #A2F; font-weight: bold\">+</span> ax0_ax1_fused_2) <span style=\"color: #A2F; font-weight: bold\">%</span> <span style=\"color: #008000\">64</span>)\n",
       "                                        T<span style=\"color: #A2F; font-weight: bold\">.</span>reads(B[v0, v1])\n",
       "                                        T<span style=\"color: #A2F; font-weight: bold\">.</span>writes(B_shared[v0, v1])\n",
       "                                        B_shared[v0, v1] <span style=\"color: #A2F; font-weight: bold\">=</span> B[v0, v1]\n",
       "                        <span style=\"color: #008000; font-weight: bold\">for</span> k_1, i_2, j_2 <span style=\"color: #008000; font-weight: bold\">in</span> T<span style=\"color: #A2F; font-weight: bold\">.</span>grid(<span style=\"color: #008000\">8</span>, <span style=\"color: #008000\">8</span>, <span style=\"color: #008000\">8</span>):\n",
       "                            <span style=\"color: #008000; font-weight: bold\">with</span> T<span style=\"color: #A2F; font-weight: bold\">.</span>block(<span style=\"color: #BA2121\">&quot;C_update&quot;</span>):\n",
       "                                vi <span style=\"color: #A2F; font-weight: bold\">=</span> T<span style=\"color: #A2F; font-weight: bold\">.</span>axis<span style=\"color: #A2F; font-weight: bold\">.</span>spatial(<span style=\"color: #008000\">1024</span>, i_0 <span style=\"color: #A2F; font-weight: bold\">*</span> <span style=\"color: #008000\">64</span> <span style=\"color: #A2F; font-weight: bold\">+</span> i_1_j_1_fused <span style=\"color: #A2F; font-weight: bold\">//</span> <span style=\"color: #008000\">8</span> <span style=\"color: #A2F; font-weight: bold\">*</span> <span style=\"color: #008000\">8</span> <span style=\"color: #A2F; font-weight: bold\">+</span> i_2)\n",
       "                                vj <span style=\"color: #A2F; font-weight: bold\">=</span> T<span style=\"color: #A2F; font-weight: bold\">.</span>axis<span style=\"color: #A2F; font-weight: bold\">.</span>spatial(<span style=\"color: #008000\">1024</span>, j_0 <span style=\"color: #A2F; font-weight: bold\">*</span> <span style=\"color: #008000\">64</span> <span style=\"color: #A2F; font-weight: bold\">+</span> i_1_j_1_fused <span style=\"color: #A2F; font-weight: bold\">%</span> <span style=\"color: #008000\">8</span> <span style=\"color: #A2F; font-weight: bold\">*</span> <span style=\"color: #008000\">8</span> <span style=\"color: #A2F; font-weight: bold\">+</span> j_2)\n",
       "                                vk <span style=\"color: #A2F; font-weight: bold\">=</span> T<span style=\"color: #A2F; font-weight: bold\">.</span>axis<span style=\"color: #A2F; font-weight: bold\">.</span>reduce(<span style=\"color: #008000\">1024</span>, k_0 <span style=\"color: #A2F; font-weight: bold\">*</span> <span style=\"color: #008000\">8</span> <span style=\"color: #A2F; font-weight: bold\">+</span> k_1)\n",
       "                                T<span style=\"color: #A2F; font-weight: bold\">.</span>reads(C_local[vi, vj], A_shared[vi, vk], B_shared[vk, vj])\n",
       "                                T<span style=\"color: #A2F; font-weight: bold\">.</span>writes(C_local[vi, vj])\n",
       "                                C_local[vi, vj] <span style=\"color: #A2F; font-weight: bold\">=</span> C_local[vi, vj] <span style=\"color: #A2F; font-weight: bold\">+</span> A_shared[vi, vk] <span style=\"color: #A2F; font-weight: bold\">*</span> B_shared[vk, vj]\n",
       "                    <span style=\"color: #008000; font-weight: bold\">for</span> ax0, ax1 <span style=\"color: #008000; font-weight: bold\">in</span> T<span style=\"color: #A2F; font-weight: bold\">.</span>grid(<span style=\"color: #008000\">8</span>, <span style=\"color: #008000\">8</span>):\n",
       "                        <span style=\"color: #008000; font-weight: bold\">with</span> T<span style=\"color: #A2F; font-weight: bold\">.</span>block(<span style=\"color: #BA2121\">&quot;C_local&quot;</span>):\n",
       "                            v0 <span style=\"color: #A2F; font-weight: bold\">=</span> T<span style=\"color: #A2F; font-weight: bold\">.</span>axis<span style=\"color: #A2F; font-weight: bold\">.</span>spatial(<span style=\"color: #008000\">1024</span>, i_0 <span style=\"color: #A2F; font-weight: bold\">*</span> <span style=\"color: #008000\">64</span> <span style=\"color: #A2F; font-weight: bold\">+</span> i_1_j_1_fused <span style=\"color: #A2F; font-weight: bold\">//</span> <span style=\"color: #008000\">8</span> <span style=\"color: #A2F; font-weight: bold\">*</span> <span style=\"color: #008000\">8</span> <span style=\"color: #A2F; font-weight: bold\">+</span> ax0)\n",
       "                            v1 <span style=\"color: #A2F; font-weight: bold\">=</span> T<span style=\"color: #A2F; font-weight: bold\">.</span>axis<span style=\"color: #A2F; font-weight: bold\">.</span>spatial(<span style=\"color: #008000\">1024</span>, j_0 <span style=\"color: #A2F; font-weight: bold\">*</span> <span style=\"color: #008000\">64</span> <span style=\"color: #A2F; font-weight: bold\">+</span> i_1_j_1_fused <span style=\"color: #A2F; font-weight: bold\">%</span> <span style=\"color: #008000\">8</span> <span style=\"color: #A2F; font-weight: bold\">*</span> <span style=\"color: #008000\">8</span> <span style=\"color: #A2F; font-weight: bold\">+</span> ax1)\n",
       "                            T<span style=\"color: #A2F; font-weight: bold\">.</span>reads(C_local[v0, v1])\n",
       "                            T<span style=\"color: #A2F; font-weight: bold\">.</span>writes(C[v0, v1])\n",
       "                            C[v0, v1] <span style=\"color: #A2F; font-weight: bold\">=</span> C_local[v0, v1]\n",
       "</pre></div>\n"
      ],
      "text/plain": [
       "<IPython.core.display.HTML object>"
      ]
     },
     "metadata": {},
     "output_type": "display_data"
    }
   ],
   "source": [
    "def cache_read_and_coop_fetch(sch, block, nthread, read_idx, read_loc):\n",
    "    read_cache = sch.cache_read(block=block, read_buffer_index=read_idx, storage_scope=\"shared\")\n",
    "    sch.compute_at(block=read_cache, loop=read_loc)\n",
    "    # vectorized cooperative fetch\n",
    "    inner0, inner1 = sch.get_loops(block=read_cache)[-2:]\n",
    "    inner = sch.fuse(inner0, inner1)\n",
    "    _, tx, vec = sch.split(loop=inner, factors=[None, nthread, 4])\n",
    "    sch.vectorize(vec)\n",
    "    sch.bind(tx, \"threadIdx.x\")\n",
    "\n",
    "\n",
    "def blocking_with_shared(\n",
    "    sch,\n",
    "    tile_local_y,\n",
    "    tile_local_x,\n",
    "    tile_block_y,\n",
    "    tile_block_x,\n",
    "    tile_k):\n",
    "    block_C = sch.get_block(\"C\")\n",
    "    C_local = sch.cache_write(block_C, 0, \"local\")\n",
    "\n",
    "    i, j, k = sch.get_loops(block=block_C)\n",
    "\n",
    "    i0, i1, i2 = sch.split(loop=i, factors=[None, tile_block_y, tile_local_y])\n",
    "    j0, j1, j2 = sch.split(loop=j, factors=[None, tile_block_x, tile_local_x])\n",
    "    k0, k1 = sch.split(loop=k, factors=[None, tile_k])\n",
    "\n",
    "    sch.reorder(i0, j0, i1, j1, k0, k1, i2, j2)\n",
    "    sch.reverse_compute_at(C_local, j1)\n",
    "\n",
    "    sch.bind(i0, \"blockIdx.y\")\n",
    "    sch.bind(j0, \"blockIdx.x\")\n",
    "\n",
    "    tx = sch.fuse(i1, j1)\n",
    "    sch.bind(tx, \"threadIdx.x\")\n",
    "    nthread = tile_block_y * tile_block_x\n",
    "    cache_read_and_coop_fetch(sch, block_C, nthread, 0, k0)\n",
    "    cache_read_and_coop_fetch(sch, block_C, nthread, 1, k0)\n",
    "    sch.decompose_reduction(block_C, k0)\n",
    "\n",
    "    return sch\n",
    "\n",
    "sch = tvm.tir.Schedule(MyModuleMatmul)\n",
    "sch = blocking_with_shared(sch, 8, 8, 8, 8, 8)\n",
    "sch.mod.show()"
   ]
  },
  {
   "cell_type": "markdown",
   "id": "86f3ab86",
   "metadata": {},
   "source": [
    "```python\n",
    "rt_mod = tvm.build(sch.mod, target=\"cuda\")\n",
    "dev = tvm.cuda(0)\n",
    "evaluator = rt_mod.time_evaluator(\"main\", dev, number=10)\n",
    "\n",
    "print(\"GEMM-Blocking: %f GFLOPS\" % (num_flop / evaluator(A_nd, B_nd, C_nd).mean / 1e9))\n",
    "```\n"
   ]
  },
  {
   "cell_type": "markdown",
   "id": "a60c8b84",
   "metadata": {},
   "source": [
    "### Leveraging Automatic Program Optimization\n",
    "\n",
    "So far, we have been manually writing transformations to optimize the TensorIR program on GPU. We can leverage the automatic program optimization framework to tune the same program. The following code does that, we only set a small number here, and it can take a few min to finish."
   ]
  },
  {
   "cell_type": "markdown",
   "id": "2f2d672d",
   "metadata": {},
   "source": [
    "```python\n",
    "from tvm import meta_schedule as ms\n",
    "\n",
    "database = ms.tune_tir(\n",
    "    mod=MyModuleMatmul,\n",
    "    target=\"nvidia/tesla-p100\",\n",
    "    max_trials_global=64,\n",
    "    num_trials_per_iter=64,\n",
    "    work_dir=\"./tune_tmp\",\n",
    ")\n",
    "sch = ms.tir_integration.compile_tir(database, MyModuleMatmul, \"nvidia/tesla-p100\")\n",
    "sch.mod.show()\n",
    "```\n"
   ]
  },
  {
   "cell_type": "markdown",
   "id": "8f003677",
   "metadata": {},
   "source": [
    "```python\n",
    "rt_mod = tvm.build(sch.mod, target=\"nvidia/tesla-p100\")\n",
    "dev = tvm.cuda(0)\n",
    "evaluator = rt_mod.time_evaluator(\"main\", dev, number=10)\n",
    "\n",
    "print(\"MetaSchedule: %f GFLOPS\" % (num_flop / evaluator(A_nd, B_nd, C_nd).mean / 1e9))\n",
    "```\n"
   ]
  },
  {
   "cell_type": "markdown",
   "id": "e5285103",
   "metadata": {},
   "source": [
    "### Summary\n",
    "\n",
    "This chapter studies another axis of MLC -- how we can transform our program for hardware acceleration. The MLC process helps us to bridge the input models toward different GPU programming models and environments. We will visit more hardware specialization topics in the incoming chapter as well.\n",
    "\n",
    "- A typical GPU contains two-level hierarchy. Each thread is indexed by(in cuda terminology) `threadIdx.x` and `blockIdx.x`(there can be multiple dimension indices as well, but they can be fused to one.\n",
    "- Shared memory helps cache data commonly used across the threads within the same block.\n",
    "- Encourage memory reuse during GPU optimization."
   ]
  }
 ],
 "metadata": {
  "language_info": {
   "name": "python"
  }
 },
 "nbformat": 4,
 "nbformat_minor": 5
}