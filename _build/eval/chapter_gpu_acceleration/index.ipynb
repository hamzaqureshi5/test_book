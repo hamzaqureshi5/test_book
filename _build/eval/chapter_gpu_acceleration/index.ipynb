{
 "cells": [
  {
   "cell_type": "markdown",
   "id": "1b6ea1ad",
   "metadata": {},
   "source": [
    "# GPU and Hardware Acceleration"
   ]
  },
  {
   "cell_type": "markdown",
   "id": "bab7dd61",
   "metadata": {},
   "source": [
    "```toc\n",
    ":maxdepth: 2\n",
    "\n",
    "part1\n",
    "part2\n",
    "```\n"
   ]
  }
 ],
 "metadata": {
  "language_info": {
   "name": "python"
  }
 },
 "nbformat": 4,
 "nbformat_minor": 5
}