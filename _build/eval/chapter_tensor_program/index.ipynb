{
 "cells": [
  {
   "cell_type": "markdown",
   "id": "c15dc838",
   "metadata": {},
   "source": [
    "# Tensor Program Abstraction\n",
    "\n",
    ":label:`chap_tensor_program`\n",
    "\n",
    "In this chapter, we will discuss the abstractions for a single “unit” step of computation and possible MLC transformations in these abstractions.\n",
    "\n",
    "```toc\n",
    ":maxdepth: 2\n",
    "\n",
    "tensor_program\n",
    "case_study\n",
    "tensorir_exercises\n",
    "\n",
    "```"
   ]
  }
 ],
 "metadata": {
  "language_info": {
   "name": "python"
  }
 },
 "nbformat": 4,
 "nbformat_minor": 5
}