{
 "cells": [
  {
   "cell_type": "markdown",
   "id": "7500dbca",
   "metadata": {},
   "source": [
    "# Machine Learning Compiler\n",
    "\n",
    "Deploying innovative AI models in different production environments becomes a common problem as AI applications become more ubiquitous in our daily lives.\n",
    "Deployment of both training and inference workloads bring great challenges as we start to support a combinatorial choice of models and environment.\n",
    "Additionally, real world applications bring with a multitude of goals, such as minimizing dependencies, broader model coverage,\n",
    "leveraging the emerging hardware primitives for performance, reducing memory footprint, and scaling to larger environments.\n",
    "\n",
    "Solving these problems for training and inference involves a combination of ML programming abstractions,  learning-driven search, compilation,\n",
    "and optimized library runtime. These themes form an emerging topic – machine learning compilation that contains active ongoing developments.\n",
    "In this tutorials sequence, we offer the first comprehensive treatment of its kind to study key elements in this emerging field systematically.\n",
    "We will learn the key abstractions to represent machine learning programs, automatic optimization techniques, and approaches to optimize dependency,\n",
    "memory, and performance in end-to-end machine learning deployment.\n",
    "\n",
    "\n",
    "This material serves as the reference for [MLC course](/summer22),\n",
    "we will populate notes and tutorials here as course progresses."
   ]
  },
  {
   "cell_type": "markdown",
   "id": "3e1c7531",
   "metadata": {},
   "source": [
    ":begin_tab:toc\n",
    " - [chapter_introduction/index](chapter_introduction/index.ipynb)\n",
    " - [chapter_tensor_program/index](chapter_tensor_program/index.ipynb)\n",
    " - [chapter_end_to_end/index](chapter_end_to_end/index.ipynb)\n",
    " - [chapter_auto_program_optimization/index](chapter_auto_program_optimization/index.ipynb)\n",
    " - [chapter_integration/index](chapter_integration/index.ipynb)\n",
    " - [chapter_gpu_acceleration/index](chapter_gpu_acceleration/index.ipynb)\n",
    " - [chapter_graph_optimization/index](chapter_graph_optimization/index.ipynb)\n",
    ":end_tab:\n"
   ]
  }
 ],
 "metadata": {
  "language_info": {
   "name": "python"
  }
 },
 "nbformat": 4,
 "nbformat_minor": 5
}