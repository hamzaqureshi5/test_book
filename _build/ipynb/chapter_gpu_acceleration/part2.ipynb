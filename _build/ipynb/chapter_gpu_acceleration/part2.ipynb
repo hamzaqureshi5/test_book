{
 "cells": [
  {
   "cell_type": "markdown",
   "id": "4dabc177",
   "metadata": {},
   "source": [
    "## Part 2\n",
    "\n",
    "We discussed building MLC flows for CPU and GPU environments in the past chapters. This chapter focuses on how we build conceptual programming models for specialized hardware backends.\n",
    "\n",
    "### Preparations\n",
    "\n",
    "To begin with, let us import the necessary dependencies."
   ]
  },
  {
   "cell_type": "code",
   "execution_count": 1,
   "id": "0cb1f834",
   "metadata": {
    "execution": {
     "iopub.execute_input": "2025-07-09T12:32:18.097381Z",
     "iopub.status.busy": "2025-07-09T12:32:18.097109Z",
     "iopub.status.idle": "2025-07-09T12:32:18.490891Z",
     "shell.execute_reply": "2025-07-09T12:32:18.490287Z"
    }
   },
   "outputs": [],
   "source": [
    "import numpy as np\n",
    "import tvm\n",
    "from tvm import relax\n",
    "from tvm.ir.module import IRModule\n",
    "from tvm.script import relax as R\n",
    "from tvm.script import tir as T"
   ]
  },
  {
   "cell_type": "markdown",
   "id": "415ab8e3",
   "metadata": {},
   "source": [
    "### Hardware Specialization Trend\n",
    "\n",
    "![](../img/hardware_specialization.png)\n",
    "\n",
    "If we look at the machine learning hardware landscape, one emerging theme recently is specialization. Traditionally, we build our solutions on generic scalar processors, where we can perform operations on one floating point at a time. The vector instructions set such as AVX and ARM/Neon provide effective ways to speed up our programs but also bring some complexities to how we write the programs.\n",
    "\n",
    "The latest accelerators for machine learning introduced specialized units for tensor computing, with instructions for multi-dimensional data copy and matrix/tensor computations.\n",
    "\n",
    "#### Key Elements of Specialized Code\n",
    "\n",
    "To help us better understand elements of specialized hardware programming, let us first study the following **low-level NumPy** code. While this code still runs in python, it resembles a set of possible operations that can happen in a specialized hardware backend."
   ]
  },
  {
   "cell_type": "code",
   "execution_count": 2,
   "id": "16139148",
   "metadata": {
    "execution": {
     "iopub.execute_input": "2025-07-09T12:32:18.494111Z",
     "iopub.status.busy": "2025-07-09T12:32:18.493855Z",
     "iopub.status.idle": "2025-07-09T12:32:18.500251Z",
     "shell.execute_reply": "2025-07-09T12:32:18.499739Z"
    }
   },
   "outputs": [],
   "source": [
    "def accel_fill_zero(C):\n",
    "    C[:] = 0\n",
    "\n",
    "def accel_tmm_add(C, A, B):\n",
    "    C[:] += A @ B.T\n",
    "\n",
    "def accel_dma_copy(reg, dram):\n",
    "    reg[:] = dram[:]\n",
    "\n",
    "def lnumpy_tmm(A: np.ndarray, B: np.ndarray, C: np.ndarray):\n",
    "    # a special accumulator memory\n",
    "    C_accumulator = np.empty((16, 16), dtype=\"float32\")\n",
    "    A_reg = np.empty((16, 16), dtype=\"float32\")\n",
    "    B_reg = np.empty((16, 16), dtype=\"float32\")\n",
    "\n",
    "    for i in range(64):\n",
    "        for j in range(64):\n",
    "            accel_fill_zero(C_accumulator[:,:])\n",
    "            for k in range(64):\n",
    "                accel_dma_copy(A_reg[:], A[i * 16 : i * 16 + 16, k * 16 : k * 16 + 16])\n",
    "                accel_dma_copy(B_reg[:], B[j * 16 : j * 16 + 16, k * 16 : k * 16 + 16])\n",
    "                accel_tmm_add(C_accumulator[:,:], A_reg, B_reg)\n",
    "            accel_dma_copy(C[i * 16 : i * 16 + 16, j * 16 : j * 16 + 16], C_accumulator[:,:])"
   ]
  },
  {
   "cell_type": "markdown",
   "id": "d800d1c4",
   "metadata": {},
   "source": [
    "![](../img/hardware_specialization_abc.png)\n",
    "\n",
    "The above low-level NumPy program contains the following key elements:\n",
    "\n",
    "- The basic unit of computation is a 16x16x16 matrix multiplication (`accel_tmm_add`)\n",
    "- `accel_tmm_add` takes in two inputs -- `A_reg` and `B_reg` and accumulates into an accumulator memory.\n",
    "- The data copy is performed using a special function (`accel_dma_copy`).\n",
    "\n",
    "In a real-world hardware backend, we usually expect `A_reg`, `B_reg`, and `C_accumulator` to map to special memory regions (or registers) in the hardware. These are called **special memory scopes**. Additionally, there is a limited set of hardware-accelerated operations we can perform on these settings. Operations such `accel_tmm_add` can be mapped to real hardware instructions or an efficient kernel function implementation provided by the vendor.\n",
    "\n",
    "We can run the following code block to confirm the low-level NumPy code runs correctly."
   ]
  },
  {
   "cell_type": "code",
   "execution_count": 3,
   "id": "65ecdb30",
   "metadata": {
    "execution": {
     "iopub.execute_input": "2025-07-09T12:32:18.503074Z",
     "iopub.status.busy": "2025-07-09T12:32:18.502894Z",
     "iopub.status.idle": "2025-07-09T12:32:18.562223Z",
     "shell.execute_reply": "2025-07-09T12:32:18.561513Z"
    }
   },
   "outputs": [],
   "source": [
    "dtype = \"float32\"\n",
    "a_np = np.random.rand(1024, 1024).astype(dtype)\n",
    "b_np = np.random.rand(1024, 1024).astype(dtype)\n",
    "c_tmm = a_np @ b_np.T"
   ]
  },
  {
   "cell_type": "code",
   "execution_count": 4,
   "id": "ebf862dd",
   "metadata": {
    "execution": {
     "iopub.execute_input": "2025-07-09T12:32:18.573491Z",
     "iopub.status.busy": "2025-07-09T12:32:18.573180Z",
     "iopub.status.idle": "2025-07-09T12:32:19.975711Z",
     "shell.execute_reply": "2025-07-09T12:32:19.974958Z"
    }
   },
   "outputs": [],
   "source": [
    "c_np = np.empty((1024, 1024), dtype=\"float32\")\n",
    "lnumpy_tmm(a_np, b_np, c_np)\n",
    "np.testing.assert_allclose(c_np, c_tmm, rtol=1e-5)"
   ]
  },
  {
   "cell_type": "markdown",
   "id": "f5f259f6",
   "metadata": {},
   "source": [
    "#### A Block with Tensorized Computation\n",
    "\n",
    "One of our key observations is that the specialized accelerator code is not structured in the unit of scalar computations. Most of the TensorIR code we have run so far contains a block that computes a single element in the output Tensor. Many specialized accelerators run computations over regions of tensors. The block construct in TensorIR helps us to group such relevant computation."
   ]
  },
  {
   "cell_type": "code",
   "execution_count": 5,
   "id": "1f080dd0",
   "metadata": {
    "execution": {
     "iopub.execute_input": "2025-07-09T12:32:19.978892Z",
     "iopub.status.busy": "2025-07-09T12:32:19.978620Z",
     "iopub.status.idle": "2025-07-09T12:32:20.071866Z",
     "shell.execute_reply": "2025-07-09T12:32:20.070918Z"
    }
   },
   "outputs": [],
   "source": [
    "@tvm.script.ir_module\n",
    "class MatmulBlockModule:\n",
    "    @T.prim_func\n",
    "    def main(\n",
    "        A: T.Buffer((1024, 1024), \"float32\"),\n",
    "        B: T.Buffer((1024, 1024), \"float32\"),\n",
    "        C: T.Buffer((1024, 1024), \"float32\"),\n",
    "    ) -> None:\n",
    "        T.func_attr({\"global_symbol\": \"main\", \"tir.noalias\": True})\n",
    "        for i0, j0, k0 in T.grid(64, 64, 64):\n",
    "            with T.block(\"tmm-16x16\"):\n",
    "                vi0, vj0, vk0 = T.axis.remap(\"SSR\", [i0, j0, k0])\n",
    "                with T.init():\n",
    "                    for i1, j1 in T.grid(16, 16):\n",
    "                        with T.block(\"tmm_init\"):\n",
    "                            vi1, vj1 = T.axis.remap(\"SS\", [i1, j1])\n",
    "                            C[vi0 * 16 + vi1, vj0 * 16 + vj1] = T.float32(0)\n",
    "\n",
    "                for i1, j1, k1 in T.grid(16, 16, 16):\n",
    "                    with T.block(\"tmm\"):\n",
    "                        vi1, vj1, vk1 = T.axis.remap(\"SSR\", [i1, j1, k1])\n",
    "                        C[vi0 *16 + vi1, vj0 * 16 + vj1] += \\\n",
    "                            A[vi0 * 16 + vi1, vk0 * 16 + vk1] * B[vj0 * 16 + vj1, vk0 * 16 + vk1]"
   ]
  },
  {
   "cell_type": "code",
   "execution_count": 6,
   "id": "9e37f4c9",
   "metadata": {
    "execution": {
     "iopub.execute_input": "2025-07-09T12:32:20.074915Z",
     "iopub.status.busy": "2025-07-09T12:32:20.074701Z",
     "iopub.status.idle": "2025-07-09T12:32:20.112487Z",
     "shell.execute_reply": "2025-07-09T12:32:20.111672Z"
    }
   },
   "outputs": [
    {
     "data": {
      "text/html": [
       "<div class=\"highlight\" style=\"background: \"><pre style=\"line-height: 125%;\"><span></span><span style=\"color: #007979; font-style: italic\"># from tvm.script import ir as I</span>\n",
       "<span style=\"color: #007979; font-style: italic\"># from tvm.script import tir as T</span>\n",
       "\n",
       "<span style=\"color: #A2F\">@I</span><span style=\"color: #A2F; font-weight: bold\">.</span>ir_module\n",
       "<span style=\"color: #008000; font-weight: bold\">class</span> <span style=\"color: #00F; font-weight: bold\">Module</span>:\n",
       "    <span style=\"color: #A2F\">@T</span><span style=\"color: #A2F; font-weight: bold\">.</span>prim_func\n",
       "    <span style=\"color: #008000; font-weight: bold\">def</span> <span style=\"color: #00F\">main</span>(A: T<span style=\"color: #A2F; font-weight: bold\">.</span>Buffer((<span style=\"color: #008000\">1024</span>, <span style=\"color: #008000\">1024</span>), <span style=\"color: #BA2121\">&quot;float32&quot;</span>), B: T<span style=\"color: #A2F; font-weight: bold\">.</span>Buffer((<span style=\"color: #008000\">1024</span>, <span style=\"color: #008000\">1024</span>), <span style=\"color: #BA2121\">&quot;float32&quot;</span>), C: T<span style=\"color: #A2F; font-weight: bold\">.</span>Buffer((<span style=\"color: #008000\">1024</span>, <span style=\"color: #008000\">1024</span>), <span style=\"color: #BA2121\">&quot;float32&quot;</span>)):\n",
       "        T<span style=\"color: #A2F; font-weight: bold\">.</span>func_attr({<span style=\"color: #BA2121\">&quot;tir.noalias&quot;</span>: T<span style=\"color: #A2F; font-weight: bold\">.</span>bool(<span style=\"color: #008000; font-weight: bold\">True</span>)})\n",
       "        <span style=\"color: #007979; font-style: italic\"># with T.block(&quot;root&quot;):</span>\n",
       "        <span style=\"color: #008000; font-weight: bold\">for</span> i0, j0, k0 <span style=\"color: #008000; font-weight: bold\">in</span> T<span style=\"color: #A2F; font-weight: bold\">.</span>grid(<span style=\"color: #008000\">64</span>, <span style=\"color: #008000\">64</span>, <span style=\"color: #008000\">64</span>):\n",
       "            <span style=\"color: #008000; font-weight: bold\">with</span> T<span style=\"color: #A2F; font-weight: bold\">.</span>block(<span style=\"color: #BA2121\">&quot;tmm-16x16&quot;</span>):\n",
       "                vi0, vj0, vk0 <span style=\"color: #A2F; font-weight: bold\">=</span> T<span style=\"color: #A2F; font-weight: bold\">.</span>axis<span style=\"color: #A2F; font-weight: bold\">.</span>remap(<span style=\"color: #BA2121\">&quot;SSR&quot;</span>, [i0, j0, k0])\n",
       "                T<span style=\"color: #A2F; font-weight: bold\">.</span>reads(A[vi0 <span style=\"color: #A2F; font-weight: bold\">*</span> <span style=\"color: #008000\">16</span>:vi0 <span style=\"color: #A2F; font-weight: bold\">*</span> <span style=\"color: #008000\">16</span> <span style=\"color: #A2F; font-weight: bold\">+</span> <span style=\"color: #008000\">16</span>, vk0 <span style=\"color: #A2F; font-weight: bold\">*</span> <span style=\"color: #008000\">16</span>:vk0 <span style=\"color: #A2F; font-weight: bold\">*</span> <span style=\"color: #008000\">16</span> <span style=\"color: #A2F; font-weight: bold\">+</span> <span style=\"color: #008000\">16</span>], B[vj0 <span style=\"color: #A2F; font-weight: bold\">*</span> <span style=\"color: #008000\">16</span>:vj0 <span style=\"color: #A2F; font-weight: bold\">*</span> <span style=\"color: #008000\">16</span> <span style=\"color: #A2F; font-weight: bold\">+</span> <span style=\"color: #008000\">16</span>, vk0 <span style=\"color: #A2F; font-weight: bold\">*</span> <span style=\"color: #008000\">16</span>:vk0 <span style=\"color: #A2F; font-weight: bold\">*</span> <span style=\"color: #008000\">16</span> <span style=\"color: #A2F; font-weight: bold\">+</span> <span style=\"color: #008000\">16</span>])\n",
       "                T<span style=\"color: #A2F; font-weight: bold\">.</span>writes(C[vi0 <span style=\"color: #A2F; font-weight: bold\">*</span> <span style=\"color: #008000\">16</span>:vi0 <span style=\"color: #A2F; font-weight: bold\">*</span> <span style=\"color: #008000\">16</span> <span style=\"color: #A2F; font-weight: bold\">+</span> <span style=\"color: #008000\">16</span>, vj0 <span style=\"color: #A2F; font-weight: bold\">*</span> <span style=\"color: #008000\">16</span>:vj0 <span style=\"color: #A2F; font-weight: bold\">*</span> <span style=\"color: #008000\">16</span> <span style=\"color: #A2F; font-weight: bold\">+</span> <span style=\"color: #008000\">16</span>])\n",
       "                <span style=\"color: #008000; font-weight: bold\">with</span> T<span style=\"color: #A2F; font-weight: bold\">.</span>init():\n",
       "                    <span style=\"color: #008000; font-weight: bold\">for</span> i1, j1 <span style=\"color: #008000; font-weight: bold\">in</span> T<span style=\"color: #A2F; font-weight: bold\">.</span>grid(<span style=\"color: #008000\">16</span>, <span style=\"color: #008000\">16</span>):\n",
       "                        <span style=\"color: #008000; font-weight: bold\">with</span> T<span style=\"color: #A2F; font-weight: bold\">.</span>block(<span style=\"color: #BA2121\">&quot;tmm_init&quot;</span>):\n",
       "                            vi1, vj1 <span style=\"color: #A2F; font-weight: bold\">=</span> T<span style=\"color: #A2F; font-weight: bold\">.</span>axis<span style=\"color: #A2F; font-weight: bold\">.</span>remap(<span style=\"color: #BA2121\">&quot;SS&quot;</span>, [i1, j1])\n",
       "                            T<span style=\"color: #A2F; font-weight: bold\">.</span>reads()\n",
       "                            T<span style=\"color: #A2F; font-weight: bold\">.</span>writes(C[vi0 <span style=\"color: #A2F; font-weight: bold\">*</span> <span style=\"color: #008000\">16</span> <span style=\"color: #A2F; font-weight: bold\">+</span> vi1, vj0 <span style=\"color: #A2F; font-weight: bold\">*</span> <span style=\"color: #008000\">16</span> <span style=\"color: #A2F; font-weight: bold\">+</span> vj1])\n",
       "                            C[vi0 <span style=\"color: #A2F; font-weight: bold\">*</span> <span style=\"color: #008000\">16</span> <span style=\"color: #A2F; font-weight: bold\">+</span> vi1, vj0 <span style=\"color: #A2F; font-weight: bold\">*</span> <span style=\"color: #008000\">16</span> <span style=\"color: #A2F; font-weight: bold\">+</span> vj1] <span style=\"color: #A2F; font-weight: bold\">=</span> T<span style=\"color: #A2F; font-weight: bold\">.</span>float32(<span style=\"color: #008000\">0.0</span>)\n",
       "                <span style=\"color: #008000; font-weight: bold\">for</span> i1, j1, k1 <span style=\"color: #008000; font-weight: bold\">in</span> T<span style=\"color: #A2F; font-weight: bold\">.</span>grid(<span style=\"color: #008000\">16</span>, <span style=\"color: #008000\">16</span>, <span style=\"color: #008000\">16</span>):\n",
       "                    <span style=\"color: #008000; font-weight: bold\">with</span> T<span style=\"color: #A2F; font-weight: bold\">.</span>block(<span style=\"color: #BA2121\">&quot;tmm&quot;</span>):\n",
       "                        vi1, vj1, vk1 <span style=\"color: #A2F; font-weight: bold\">=</span> T<span style=\"color: #A2F; font-weight: bold\">.</span>axis<span style=\"color: #A2F; font-weight: bold\">.</span>remap(<span style=\"color: #BA2121\">&quot;SSR&quot;</span>, [i1, j1, k1])\n",
       "                        T<span style=\"color: #A2F; font-weight: bold\">.</span>reads(C[vi0 <span style=\"color: #A2F; font-weight: bold\">*</span> <span style=\"color: #008000\">16</span> <span style=\"color: #A2F; font-weight: bold\">+</span> vi1, vj0 <span style=\"color: #A2F; font-weight: bold\">*</span> <span style=\"color: #008000\">16</span> <span style=\"color: #A2F; font-weight: bold\">+</span> vj1], A[vi0 <span style=\"color: #A2F; font-weight: bold\">*</span> <span style=\"color: #008000\">16</span> <span style=\"color: #A2F; font-weight: bold\">+</span> vi1, vk0 <span style=\"color: #A2F; font-weight: bold\">*</span> <span style=\"color: #008000\">16</span> <span style=\"color: #A2F; font-weight: bold\">+</span> vk1], B[vj0 <span style=\"color: #A2F; font-weight: bold\">*</span> <span style=\"color: #008000\">16</span> <span style=\"color: #A2F; font-weight: bold\">+</span> vj1, vk0 <span style=\"color: #A2F; font-weight: bold\">*</span> <span style=\"color: #008000\">16</span> <span style=\"color: #A2F; font-weight: bold\">+</span> vk1])\n",
       "                        T<span style=\"color: #A2F; font-weight: bold\">.</span>writes(C[vi0 <span style=\"color: #A2F; font-weight: bold\">*</span> <span style=\"color: #008000\">16</span> <span style=\"color: #A2F; font-weight: bold\">+</span> vi1, vj0 <span style=\"color: #A2F; font-weight: bold\">*</span> <span style=\"color: #008000\">16</span> <span style=\"color: #A2F; font-weight: bold\">+</span> vj1])\n",
       "                        C[vi0 <span style=\"color: #A2F; font-weight: bold\">*</span> <span style=\"color: #008000\">16</span> <span style=\"color: #A2F; font-weight: bold\">+</span> vi1, vj0 <span style=\"color: #A2F; font-weight: bold\">*</span> <span style=\"color: #008000\">16</span> <span style=\"color: #A2F; font-weight: bold\">+</span> vj1] <span style=\"color: #A2F; font-weight: bold\">=</span> C[vi0 <span style=\"color: #A2F; font-weight: bold\">*</span> <span style=\"color: #008000\">16</span> <span style=\"color: #A2F; font-weight: bold\">+</span> vi1, vj0 <span style=\"color: #A2F; font-weight: bold\">*</span> <span style=\"color: #008000\">16</span> <span style=\"color: #A2F; font-weight: bold\">+</span> vj1] <span style=\"color: #A2F; font-weight: bold\">+</span> A[vi0 <span style=\"color: #A2F; font-weight: bold\">*</span> <span style=\"color: #008000\">16</span> <span style=\"color: #A2F; font-weight: bold\">+</span> vi1, vk0 <span style=\"color: #A2F; font-weight: bold\">*</span> <span style=\"color: #008000\">16</span> <span style=\"color: #A2F; font-weight: bold\">+</span> vk1] <span style=\"color: #A2F; font-weight: bold\">*</span> B[vj0 <span style=\"color: #A2F; font-weight: bold\">*</span> <span style=\"color: #008000\">16</span> <span style=\"color: #A2F; font-weight: bold\">+</span> vj1, vk0 <span style=\"color: #A2F; font-weight: bold\">*</span> <span style=\"color: #008000\">16</span> <span style=\"color: #A2F; font-weight: bold\">+</span> vk1]\n",
       "</pre></div>\n"
      ],
      "text/plain": [
       "<IPython.core.display.HTML object>"
      ]
     },
     "metadata": {},
     "output_type": "display_data"
    }
   ],
   "source": [
    "MatmulBlockModule.show()"
   ]
  },
  {
   "cell_type": "markdown",
   "id": "ae7456aa",
   "metadata": {},
   "source": [
    "Let us take a closer look at the following block"
   ]
  },
  {
   "cell_type": "markdown",
   "id": "920a2898",
   "metadata": {},
   "source": [
    "```python\n",
    "with T.block(\"tmm-16x16\"):\n",
    "    T.reads(A[vi0 * 16 : vi0 * 16 + 16, vk0 * 16 : vk0 * 16 + 16], B[vj0 * 16 : vj0 * 16 + 16, vk0 * 16 : vk0 * 16 + 16])\n",
    "    T.writes(C[vi0 * 16 : vi0 * 16 + 16, vj0 * 16 : vj0 * 16 + 16])\n",
    "    ...\n",
    "```\n"
   ]
  },
  {
   "cell_type": "markdown",
   "id": "046d3684",
   "metadata": {},
   "source": [
    "This block reads from a 16x16 region from `A` and `B`, and writes to a 16x16 region of `C`. In this case the content of the block contains further details about a specific implementation of the subregion computations. We call this block a **tensorized block** as they contain computations that span over sub-regions of tensors.\n",
    "\n",
    "We can run the following code to confirm that the TensorIR module produces the correct result."
   ]
  },
  {
   "cell_type": "code",
   "execution_count": 7,
   "id": "817499de",
   "metadata": {
    "execution": {
     "iopub.execute_input": "2025-07-09T12:32:20.114683Z",
     "iopub.status.busy": "2025-07-09T12:32:20.114526Z",
     "iopub.status.idle": "2025-07-09T12:32:20.664556Z",
     "shell.execute_reply": "2025-07-09T12:32:20.663881Z"
    }
   },
   "outputs": [],
   "source": [
    "a_nd = tvm.nd.array(a_np)\n",
    "b_nd = tvm.nd.array(b_np)\n",
    "\n",
    "c_nd = tvm.nd.empty((1024, 1024), dtype=\"float32\")\n",
    "\n",
    "lib = tvm.build(MatmulBlockModule, target=\"llvm\")\n",
    "lib[\"main\"](a_nd, b_nd, c_nd)\n",
    "np.testing.assert_allclose(c_nd.numpy(), c_tmm, rtol=1e-5)"
   ]
  },
  {
   "cell_type": "markdown",
   "id": "876e50ed",
   "metadata": {},
   "source": [
    "#### Transforming Loops Around Tensorized Block\n",
    "\n",
    "One thing that we can do here is to transform the loops surrounding the tensor computation block. These loop transformations can help us to reorganize the surrounding iterations to enable a space of different tensor program variants."
   ]
  },
  {
   "cell_type": "code",
   "execution_count": 8,
   "id": "5e5ac5a3",
   "metadata": {
    "execution": {
     "iopub.execute_input": "2025-07-09T12:32:20.667364Z",
     "iopub.status.busy": "2025-07-09T12:32:20.667168Z",
     "iopub.status.idle": "2025-07-09T12:32:20.681047Z",
     "shell.execute_reply": "2025-07-09T12:32:20.680548Z"
    }
   },
   "outputs": [
    {
     "data": {
      "text/html": [
       "<div class=\"highlight\" style=\"background: \"><pre style=\"line-height: 125%;\"><span></span><span style=\"color: #007979; font-style: italic\"># from tvm.script import ir as I</span>\n",
       "<span style=\"color: #007979; font-style: italic\"># from tvm.script import tir as T</span>\n",
       "\n",
       "<span style=\"color: #A2F\">@I</span><span style=\"color: #A2F; font-weight: bold\">.</span>ir_module\n",
       "<span style=\"color: #008000; font-weight: bold\">class</span> <span style=\"color: #00F; font-weight: bold\">Module</span>:\n",
       "    <span style=\"color: #A2F\">@T</span><span style=\"color: #A2F; font-weight: bold\">.</span>prim_func\n",
       "    <span style=\"color: #008000; font-weight: bold\">def</span> <span style=\"color: #00F\">main</span>(A: T<span style=\"color: #A2F; font-weight: bold\">.</span>Buffer((<span style=\"color: #008000\">1024</span>, <span style=\"color: #008000\">1024</span>), <span style=\"color: #BA2121\">&quot;float32&quot;</span>), B: T<span style=\"color: #A2F; font-weight: bold\">.</span>Buffer((<span style=\"color: #008000\">1024</span>, <span style=\"color: #008000\">1024</span>), <span style=\"color: #BA2121\">&quot;float32&quot;</span>), C: T<span style=\"color: #A2F; font-weight: bold\">.</span>Buffer((<span style=\"color: #008000\">1024</span>, <span style=\"color: #008000\">1024</span>), <span style=\"color: #BA2121\">&quot;float32&quot;</span>)):\n",
       "        T<span style=\"color: #A2F; font-weight: bold\">.</span>func_attr({<span style=\"color: #BA2121\">&quot;tir.noalias&quot;</span>: T<span style=\"color: #A2F; font-weight: bold\">.</span>bool(<span style=\"color: #008000; font-weight: bold\">True</span>)})\n",
       "        <span style=\"color: #007979; font-style: italic\"># with T.block(&quot;root&quot;):</span>\n",
       "        <span style=\"color: #008000; font-weight: bold\">for</span> i0_0, j0, i0_1, k0 <span style=\"color: #008000; font-weight: bold\">in</span> T<span style=\"color: #A2F; font-weight: bold\">.</span>grid(<span style=\"color: #008000\">16</span>, <span style=\"color: #008000\">64</span>, <span style=\"color: #008000\">4</span>, <span style=\"color: #008000\">64</span>):\n",
       "            <span style=\"color: #008000; font-weight: bold\">with</span> T<span style=\"color: #A2F; font-weight: bold\">.</span>block(<span style=\"color: #BA2121\">&quot;tmm-16x16&quot;</span>):\n",
       "                vi0 <span style=\"color: #A2F; font-weight: bold\">=</span> T<span style=\"color: #A2F; font-weight: bold\">.</span>axis<span style=\"color: #A2F; font-weight: bold\">.</span>spatial(<span style=\"color: #008000\">64</span>, i0_0 <span style=\"color: #A2F; font-weight: bold\">*</span> <span style=\"color: #008000\">4</span> <span style=\"color: #A2F; font-weight: bold\">+</span> i0_1)\n",
       "                vj0, vk0 <span style=\"color: #A2F; font-weight: bold\">=</span> T<span style=\"color: #A2F; font-weight: bold\">.</span>axis<span style=\"color: #A2F; font-weight: bold\">.</span>remap(<span style=\"color: #BA2121\">&quot;SR&quot;</span>, [j0, k0])\n",
       "                T<span style=\"color: #A2F; font-weight: bold\">.</span>reads(A[vi0 <span style=\"color: #A2F; font-weight: bold\">*</span> <span style=\"color: #008000\">16</span>:vi0 <span style=\"color: #A2F; font-weight: bold\">*</span> <span style=\"color: #008000\">16</span> <span style=\"color: #A2F; font-weight: bold\">+</span> <span style=\"color: #008000\">16</span>, vk0 <span style=\"color: #A2F; font-weight: bold\">*</span> <span style=\"color: #008000\">16</span>:vk0 <span style=\"color: #A2F; font-weight: bold\">*</span> <span style=\"color: #008000\">16</span> <span style=\"color: #A2F; font-weight: bold\">+</span> <span style=\"color: #008000\">16</span>], B[vj0 <span style=\"color: #A2F; font-weight: bold\">*</span> <span style=\"color: #008000\">16</span>:vj0 <span style=\"color: #A2F; font-weight: bold\">*</span> <span style=\"color: #008000\">16</span> <span style=\"color: #A2F; font-weight: bold\">+</span> <span style=\"color: #008000\">16</span>, vk0 <span style=\"color: #A2F; font-weight: bold\">*</span> <span style=\"color: #008000\">16</span>:vk0 <span style=\"color: #A2F; font-weight: bold\">*</span> <span style=\"color: #008000\">16</span> <span style=\"color: #A2F; font-weight: bold\">+</span> <span style=\"color: #008000\">16</span>])\n",
       "                T<span style=\"color: #A2F; font-weight: bold\">.</span>writes(C[vi0 <span style=\"color: #A2F; font-weight: bold\">*</span> <span style=\"color: #008000\">16</span>:vi0 <span style=\"color: #A2F; font-weight: bold\">*</span> <span style=\"color: #008000\">16</span> <span style=\"color: #A2F; font-weight: bold\">+</span> <span style=\"color: #008000\">16</span>, vj0 <span style=\"color: #A2F; font-weight: bold\">*</span> <span style=\"color: #008000\">16</span>:vj0 <span style=\"color: #A2F; font-weight: bold\">*</span> <span style=\"color: #008000\">16</span> <span style=\"color: #A2F; font-weight: bold\">+</span> <span style=\"color: #008000\">16</span>])\n",
       "                <span style=\"color: #008000; font-weight: bold\">with</span> T<span style=\"color: #A2F; font-weight: bold\">.</span>init():\n",
       "                    <span style=\"color: #008000; font-weight: bold\">for</span> i1, j1 <span style=\"color: #008000; font-weight: bold\">in</span> T<span style=\"color: #A2F; font-weight: bold\">.</span>grid(<span style=\"color: #008000\">16</span>, <span style=\"color: #008000\">16</span>):\n",
       "                        <span style=\"color: #008000; font-weight: bold\">with</span> T<span style=\"color: #A2F; font-weight: bold\">.</span>block(<span style=\"color: #BA2121\">&quot;tmm_init&quot;</span>):\n",
       "                            vi1, vj1 <span style=\"color: #A2F; font-weight: bold\">=</span> T<span style=\"color: #A2F; font-weight: bold\">.</span>axis<span style=\"color: #A2F; font-weight: bold\">.</span>remap(<span style=\"color: #BA2121\">&quot;SS&quot;</span>, [i1, j1])\n",
       "                            T<span style=\"color: #A2F; font-weight: bold\">.</span>reads()\n",
       "                            T<span style=\"color: #A2F; font-weight: bold\">.</span>writes(C[vi0 <span style=\"color: #A2F; font-weight: bold\">*</span> <span style=\"color: #008000\">16</span> <span style=\"color: #A2F; font-weight: bold\">+</span> vi1, vj0 <span style=\"color: #A2F; font-weight: bold\">*</span> <span style=\"color: #008000\">16</span> <span style=\"color: #A2F; font-weight: bold\">+</span> vj1])\n",
       "                            C[vi0 <span style=\"color: #A2F; font-weight: bold\">*</span> <span style=\"color: #008000\">16</span> <span style=\"color: #A2F; font-weight: bold\">+</span> vi1, vj0 <span style=\"color: #A2F; font-weight: bold\">*</span> <span style=\"color: #008000\">16</span> <span style=\"color: #A2F; font-weight: bold\">+</span> vj1] <span style=\"color: #A2F; font-weight: bold\">=</span> T<span style=\"color: #A2F; font-weight: bold\">.</span>float32(<span style=\"color: #008000\">0.0</span>)\n",
       "                <span style=\"color: #008000; font-weight: bold\">for</span> i1, j1, k1 <span style=\"color: #008000; font-weight: bold\">in</span> T<span style=\"color: #A2F; font-weight: bold\">.</span>grid(<span style=\"color: #008000\">16</span>, <span style=\"color: #008000\">16</span>, <span style=\"color: #008000\">16</span>):\n",
       "                    <span style=\"color: #008000; font-weight: bold\">with</span> T<span style=\"color: #A2F; font-weight: bold\">.</span>block(<span style=\"color: #BA2121\">&quot;tmm&quot;</span>):\n",
       "                        vi1, vj1, vk1 <span style=\"color: #A2F; font-weight: bold\">=</span> T<span style=\"color: #A2F; font-weight: bold\">.</span>axis<span style=\"color: #A2F; font-weight: bold\">.</span>remap(<span style=\"color: #BA2121\">&quot;SSR&quot;</span>, [i1, j1, k1])\n",
       "                        T<span style=\"color: #A2F; font-weight: bold\">.</span>reads(C[vi0 <span style=\"color: #A2F; font-weight: bold\">*</span> <span style=\"color: #008000\">16</span> <span style=\"color: #A2F; font-weight: bold\">+</span> vi1, vj0 <span style=\"color: #A2F; font-weight: bold\">*</span> <span style=\"color: #008000\">16</span> <span style=\"color: #A2F; font-weight: bold\">+</span> vj1], A[vi0 <span style=\"color: #A2F; font-weight: bold\">*</span> <span style=\"color: #008000\">16</span> <span style=\"color: #A2F; font-weight: bold\">+</span> vi1, vk0 <span style=\"color: #A2F; font-weight: bold\">*</span> <span style=\"color: #008000\">16</span> <span style=\"color: #A2F; font-weight: bold\">+</span> vk1], B[vj0 <span style=\"color: #A2F; font-weight: bold\">*</span> <span style=\"color: #008000\">16</span> <span style=\"color: #A2F; font-weight: bold\">+</span> vj1, vk0 <span style=\"color: #A2F; font-weight: bold\">*</span> <span style=\"color: #008000\">16</span> <span style=\"color: #A2F; font-weight: bold\">+</span> vk1])\n",
       "                        T<span style=\"color: #A2F; font-weight: bold\">.</span>writes(C[vi0 <span style=\"color: #A2F; font-weight: bold\">*</span> <span style=\"color: #008000\">16</span> <span style=\"color: #A2F; font-weight: bold\">+</span> vi1, vj0 <span style=\"color: #A2F; font-weight: bold\">*</span> <span style=\"color: #008000\">16</span> <span style=\"color: #A2F; font-weight: bold\">+</span> vj1])\n",
       "                        C[vi0 <span style=\"color: #A2F; font-weight: bold\">*</span> <span style=\"color: #008000\">16</span> <span style=\"color: #A2F; font-weight: bold\">+</span> vi1, vj0 <span style=\"color: #A2F; font-weight: bold\">*</span> <span style=\"color: #008000\">16</span> <span style=\"color: #A2F; font-weight: bold\">+</span> vj1] <span style=\"color: #A2F; font-weight: bold\">=</span> C[vi0 <span style=\"color: #A2F; font-weight: bold\">*</span> <span style=\"color: #008000\">16</span> <span style=\"color: #A2F; font-weight: bold\">+</span> vi1, vj0 <span style=\"color: #A2F; font-weight: bold\">*</span> <span style=\"color: #008000\">16</span> <span style=\"color: #A2F; font-weight: bold\">+</span> vj1] <span style=\"color: #A2F; font-weight: bold\">+</span> A[vi0 <span style=\"color: #A2F; font-weight: bold\">*</span> <span style=\"color: #008000\">16</span> <span style=\"color: #A2F; font-weight: bold\">+</span> vi1, vk0 <span style=\"color: #A2F; font-weight: bold\">*</span> <span style=\"color: #008000\">16</span> <span style=\"color: #A2F; font-weight: bold\">+</span> vk1] <span style=\"color: #A2F; font-weight: bold\">*</span> B[vj0 <span style=\"color: #A2F; font-weight: bold\">*</span> <span style=\"color: #008000\">16</span> <span style=\"color: #A2F; font-weight: bold\">+</span> vj1, vk0 <span style=\"color: #A2F; font-weight: bold\">*</span> <span style=\"color: #008000\">16</span> <span style=\"color: #A2F; font-weight: bold\">+</span> vk1]\n",
       "</pre></div>\n"
      ],
      "text/plain": [
       "<IPython.core.display.HTML object>"
      ]
     },
     "metadata": {},
     "output_type": "display_data"
    }
   ],
   "source": [
    "sch = tvm.tir.Schedule(MatmulBlockModule)\n",
    "\n",
    "block_mm = sch.get_block(\"tmm-16x16\")\n",
    "i, j, k = sch.get_loops(block_mm)\n",
    "\n",
    "i0, i1 = sch.split(i, [None, 4])\n",
    "\n",
    "sch.reorder(i0, j, i1, k)\n",
    "sch.mod.show()"
   ]
  },
  {
   "cell_type": "markdown",
   "id": "2cd31066",
   "metadata": {},
   "source": [
    "#### Blockization -- Creating Tensorized Blocks\n",
    "\n",
    "In most settings, we start with loops that come with scalar computations. TensorIR provides a primitive call blockization to group subregions of a loop together to form a tensorized computation block."
   ]
  },
  {
   "cell_type": "code",
   "execution_count": 9,
   "id": "ca91c848",
   "metadata": {
    "execution": {
     "iopub.execute_input": "2025-07-09T12:32:20.683817Z",
     "iopub.status.busy": "2025-07-09T12:32:20.683529Z",
     "iopub.status.idle": "2025-07-09T12:32:20.707520Z",
     "shell.execute_reply": "2025-07-09T12:32:20.706965Z"
    }
   },
   "outputs": [],
   "source": [
    "@tvm.script.ir_module\n",
    "class MatmulModule:\n",
    "    @T.prim_func\n",
    "    def main(\n",
    "        A: T.Buffer((1024, 1024), \"float32\"),\n",
    "        B: T.Buffer((1024, 1024), \"float32\"),\n",
    "        C: T.Buffer((1024, 1024), \"float32\"),\n",
    "    ) -> None:\n",
    "        T.func_attr({\"global_symbol\": \"main\", \"tir.noalias\": True})\n",
    "        for i, j, k in T.grid(1024, 1024, 1024):\n",
    "            with T.block(\"matmul\"):\n",
    "                vi, vj, vk = T.axis.remap(\"SSR\", [i, j, k])\n",
    "                with T.init():\n",
    "                    C[vi, vj] = T.float32(0)\n",
    "                C[vi, vj] += A[vi, vk] * B[vj, vk]"
   ]
  },
  {
   "cell_type": "code",
   "execution_count": 10,
   "id": "a11bf428",
   "metadata": {
    "execution": {
     "iopub.execute_input": "2025-07-09T12:32:20.710450Z",
     "iopub.status.busy": "2025-07-09T12:32:20.710260Z",
     "iopub.status.idle": "2025-07-09T12:32:20.721202Z",
     "shell.execute_reply": "2025-07-09T12:32:20.720710Z"
    }
   },
   "outputs": [
    {
     "data": {
      "text/html": [
       "<div class=\"highlight\" style=\"background: \"><pre style=\"line-height: 125%;\"><span></span><span style=\"color: #007979; font-style: italic\"># from tvm.script import ir as I</span>\n",
       "<span style=\"color: #007979; font-style: italic\"># from tvm.script import tir as T</span>\n",
       "\n",
       "<span style=\"color: #A2F\">@I</span><span style=\"color: #A2F; font-weight: bold\">.</span>ir_module\n",
       "<span style=\"color: #008000; font-weight: bold\">class</span> <span style=\"color: #00F; font-weight: bold\">Module</span>:\n",
       "    <span style=\"color: #A2F\">@T</span><span style=\"color: #A2F; font-weight: bold\">.</span>prim_func\n",
       "    <span style=\"color: #008000; font-weight: bold\">def</span> <span style=\"color: #00F\">main</span>(A: T<span style=\"color: #A2F; font-weight: bold\">.</span>Buffer((<span style=\"color: #008000\">1024</span>, <span style=\"color: #008000\">1024</span>), <span style=\"color: #BA2121\">&quot;float32&quot;</span>), B: T<span style=\"color: #A2F; font-weight: bold\">.</span>Buffer((<span style=\"color: #008000\">1024</span>, <span style=\"color: #008000\">1024</span>), <span style=\"color: #BA2121\">&quot;float32&quot;</span>), C: T<span style=\"color: #A2F; font-weight: bold\">.</span>Buffer((<span style=\"color: #008000\">1024</span>, <span style=\"color: #008000\">1024</span>), <span style=\"color: #BA2121\">&quot;float32&quot;</span>)):\n",
       "        T<span style=\"color: #A2F; font-weight: bold\">.</span>func_attr({<span style=\"color: #BA2121\">&quot;tir.noalias&quot;</span>: T<span style=\"color: #A2F; font-weight: bold\">.</span>bool(<span style=\"color: #008000; font-weight: bold\">True</span>)})\n",
       "        <span style=\"color: #007979; font-style: italic\"># with T.block(&quot;root&quot;):</span>\n",
       "        <span style=\"color: #008000; font-weight: bold\">for</span> i_0, j_0, k_0, i_1, j_1, k_1 <span style=\"color: #008000; font-weight: bold\">in</span> T<span style=\"color: #A2F; font-weight: bold\">.</span>grid(<span style=\"color: #008000\">64</span>, <span style=\"color: #008000\">64</span>, <span style=\"color: #008000\">64</span>, <span style=\"color: #008000\">16</span>, <span style=\"color: #008000\">16</span>, <span style=\"color: #008000\">16</span>):\n",
       "            <span style=\"color: #008000; font-weight: bold\">with</span> T<span style=\"color: #A2F; font-weight: bold\">.</span>block(<span style=\"color: #BA2121\">&quot;matmul&quot;</span>):\n",
       "                vi <span style=\"color: #A2F; font-weight: bold\">=</span> T<span style=\"color: #A2F; font-weight: bold\">.</span>axis<span style=\"color: #A2F; font-weight: bold\">.</span>spatial(<span style=\"color: #008000\">1024</span>, i_0 <span style=\"color: #A2F; font-weight: bold\">*</span> <span style=\"color: #008000\">16</span> <span style=\"color: #A2F; font-weight: bold\">+</span> i_1)\n",
       "                vj <span style=\"color: #A2F; font-weight: bold\">=</span> T<span style=\"color: #A2F; font-weight: bold\">.</span>axis<span style=\"color: #A2F; font-weight: bold\">.</span>spatial(<span style=\"color: #008000\">1024</span>, j_0 <span style=\"color: #A2F; font-weight: bold\">*</span> <span style=\"color: #008000\">16</span> <span style=\"color: #A2F; font-weight: bold\">+</span> j_1)\n",
       "                vk <span style=\"color: #A2F; font-weight: bold\">=</span> T<span style=\"color: #A2F; font-weight: bold\">.</span>axis<span style=\"color: #A2F; font-weight: bold\">.</span>reduce(<span style=\"color: #008000\">1024</span>, k_0 <span style=\"color: #A2F; font-weight: bold\">*</span> <span style=\"color: #008000\">16</span> <span style=\"color: #A2F; font-weight: bold\">+</span> k_1)\n",
       "                T<span style=\"color: #A2F; font-weight: bold\">.</span>reads(A[vi, vk], B[vj, vk])\n",
       "                T<span style=\"color: #A2F; font-weight: bold\">.</span>writes(C[vi, vj])\n",
       "                <span style=\"color: #008000; font-weight: bold\">with</span> T<span style=\"color: #A2F; font-weight: bold\">.</span>init():\n",
       "                    C[vi, vj] <span style=\"color: #A2F; font-weight: bold\">=</span> T<span style=\"color: #A2F; font-weight: bold\">.</span>float32(<span style=\"color: #008000\">0.0</span>)\n",
       "                C[vi, vj] <span style=\"color: #A2F; font-weight: bold\">=</span> C[vi, vj] <span style=\"color: #A2F; font-weight: bold\">+</span> A[vi, vk] <span style=\"color: #A2F; font-weight: bold\">*</span> B[vj, vk]\n",
       "</pre></div>\n"
      ],
      "text/plain": [
       "<IPython.core.display.HTML object>"
      ]
     },
     "metadata": {},
     "output_type": "display_data"
    }
   ],
   "source": [
    "sch = tvm.tir.Schedule(MatmulModule)\n",
    "i, j, k = sch.get_loops(\"matmul\")\n",
    "i, ii = sch.split(i, factors=[None, 16])\n",
    "j, ji = sch.split(j, factors=[None, 16])\n",
    "k, ki = sch.split(k, factors=[None, 16])\n",
    "sch.reorder(i, j, k, ii, ji, ki)\n",
    "sch.mod.show()"
   ]
  },
  {
   "cell_type": "code",
   "execution_count": 11,
   "id": "192b14df",
   "metadata": {
    "execution": {
     "iopub.execute_input": "2025-07-09T12:32:20.723532Z",
     "iopub.status.busy": "2025-07-09T12:32:20.723347Z",
     "iopub.status.idle": "2025-07-09T12:32:20.736074Z",
     "shell.execute_reply": "2025-07-09T12:32:20.735605Z"
    }
   },
   "outputs": [
    {
     "data": {
      "text/html": [
       "<div class=\"highlight\" style=\"background: \"><pre style=\"line-height: 125%;\"><span></span><span style=\"color: #007979; font-style: italic\"># from tvm.script import ir as I</span>\n",
       "<span style=\"color: #007979; font-style: italic\"># from tvm.script import tir as T</span>\n",
       "\n",
       "<span style=\"color: #A2F\">@I</span><span style=\"color: #A2F; font-weight: bold\">.</span>ir_module\n",
       "<span style=\"color: #008000; font-weight: bold\">class</span> <span style=\"color: #00F; font-weight: bold\">Module</span>:\n",
       "    <span style=\"color: #A2F\">@T</span><span style=\"color: #A2F; font-weight: bold\">.</span>prim_func\n",
       "    <span style=\"color: #008000; font-weight: bold\">def</span> <span style=\"color: #00F\">main</span>(A: T<span style=\"color: #A2F; font-weight: bold\">.</span>Buffer((<span style=\"color: #008000\">1024</span>, <span style=\"color: #008000\">1024</span>), <span style=\"color: #BA2121\">&quot;float32&quot;</span>), B: T<span style=\"color: #A2F; font-weight: bold\">.</span>Buffer((<span style=\"color: #008000\">1024</span>, <span style=\"color: #008000\">1024</span>), <span style=\"color: #BA2121\">&quot;float32&quot;</span>), C: T<span style=\"color: #A2F; font-weight: bold\">.</span>Buffer((<span style=\"color: #008000\">1024</span>, <span style=\"color: #008000\">1024</span>), <span style=\"color: #BA2121\">&quot;float32&quot;</span>)):\n",
       "        T<span style=\"color: #A2F; font-weight: bold\">.</span>func_attr({<span style=\"color: #BA2121\">&quot;tir.noalias&quot;</span>: T<span style=\"color: #A2F; font-weight: bold\">.</span>bool(<span style=\"color: #008000; font-weight: bold\">True</span>)})\n",
       "        <span style=\"color: #007979; font-style: italic\"># with T.block(&quot;root&quot;):</span>\n",
       "        <span style=\"color: #008000; font-weight: bold\">for</span> i_0, j_0, k_0 <span style=\"color: #008000; font-weight: bold\">in</span> T<span style=\"color: #A2F; font-weight: bold\">.</span>grid(<span style=\"color: #008000\">64</span>, <span style=\"color: #008000\">64</span>, <span style=\"color: #008000\">64</span>):\n",
       "            <span style=\"color: #008000; font-weight: bold\">with</span> T<span style=\"color: #A2F; font-weight: bold\">.</span>block(<span style=\"color: #BA2121\">&quot;matmul_o&quot;</span>):\n",
       "                vi_o, vj_o, vk_o <span style=\"color: #A2F; font-weight: bold\">=</span> T<span style=\"color: #A2F; font-weight: bold\">.</span>axis<span style=\"color: #A2F; font-weight: bold\">.</span>remap(<span style=\"color: #BA2121\">&quot;SSR&quot;</span>, [i_0, j_0, k_0])\n",
       "                T<span style=\"color: #A2F; font-weight: bold\">.</span>reads(A[vi_o <span style=\"color: #A2F; font-weight: bold\">*</span> <span style=\"color: #008000\">16</span>:vi_o <span style=\"color: #A2F; font-weight: bold\">*</span> <span style=\"color: #008000\">16</span> <span style=\"color: #A2F; font-weight: bold\">+</span> <span style=\"color: #008000\">16</span>, vk_o <span style=\"color: #A2F; font-weight: bold\">*</span> <span style=\"color: #008000\">16</span>:vk_o <span style=\"color: #A2F; font-weight: bold\">*</span> <span style=\"color: #008000\">16</span> <span style=\"color: #A2F; font-weight: bold\">+</span> <span style=\"color: #008000\">16</span>], B[vj_o <span style=\"color: #A2F; font-weight: bold\">*</span> <span style=\"color: #008000\">16</span>:vj_o <span style=\"color: #A2F; font-weight: bold\">*</span> <span style=\"color: #008000\">16</span> <span style=\"color: #A2F; font-weight: bold\">+</span> <span style=\"color: #008000\">16</span>, vk_o <span style=\"color: #A2F; font-weight: bold\">*</span> <span style=\"color: #008000\">16</span>:vk_o <span style=\"color: #A2F; font-weight: bold\">*</span> <span style=\"color: #008000\">16</span> <span style=\"color: #A2F; font-weight: bold\">+</span> <span style=\"color: #008000\">16</span>])\n",
       "                T<span style=\"color: #A2F; font-weight: bold\">.</span>writes(C[vi_o <span style=\"color: #A2F; font-weight: bold\">*</span> <span style=\"color: #008000\">16</span>:vi_o <span style=\"color: #A2F; font-weight: bold\">*</span> <span style=\"color: #008000\">16</span> <span style=\"color: #A2F; font-weight: bold\">+</span> <span style=\"color: #008000\">16</span>, vj_o <span style=\"color: #A2F; font-weight: bold\">*</span> <span style=\"color: #008000\">16</span>:vj_o <span style=\"color: #A2F; font-weight: bold\">*</span> <span style=\"color: #008000\">16</span> <span style=\"color: #A2F; font-weight: bold\">+</span> <span style=\"color: #008000\">16</span>])\n",
       "                <span style=\"color: #008000; font-weight: bold\">with</span> T<span style=\"color: #A2F; font-weight: bold\">.</span>init():\n",
       "                    <span style=\"color: #008000; font-weight: bold\">for</span> i_1, j_1 <span style=\"color: #008000; font-weight: bold\">in</span> T<span style=\"color: #A2F; font-weight: bold\">.</span>grid(<span style=\"color: #008000\">16</span>, <span style=\"color: #008000\">16</span>):\n",
       "                        <span style=\"color: #008000; font-weight: bold\">with</span> T<span style=\"color: #A2F; font-weight: bold\">.</span>block(<span style=\"color: #BA2121\">&quot;matmul_init&quot;</span>):\n",
       "                            vi_i_init, vj_i_init <span style=\"color: #A2F; font-weight: bold\">=</span> T<span style=\"color: #A2F; font-weight: bold\">.</span>axis<span style=\"color: #A2F; font-weight: bold\">.</span>remap(<span style=\"color: #BA2121\">&quot;SS&quot;</span>, [i_1, j_1])\n",
       "                            T<span style=\"color: #A2F; font-weight: bold\">.</span>reads()\n",
       "                            T<span style=\"color: #A2F; font-weight: bold\">.</span>writes(C[vi_o <span style=\"color: #A2F; font-weight: bold\">*</span> <span style=\"color: #008000\">16</span> <span style=\"color: #A2F; font-weight: bold\">+</span> vi_i_init, vj_o <span style=\"color: #A2F; font-weight: bold\">*</span> <span style=\"color: #008000\">16</span> <span style=\"color: #A2F; font-weight: bold\">+</span> vj_i_init])\n",
       "                            C[vi_o <span style=\"color: #A2F; font-weight: bold\">*</span> <span style=\"color: #008000\">16</span> <span style=\"color: #A2F; font-weight: bold\">+</span> vi_i_init, vj_o <span style=\"color: #A2F; font-weight: bold\">*</span> <span style=\"color: #008000\">16</span> <span style=\"color: #A2F; font-weight: bold\">+</span> vj_i_init] <span style=\"color: #A2F; font-weight: bold\">=</span> T<span style=\"color: #A2F; font-weight: bold\">.</span>float32(<span style=\"color: #008000\">0.0</span>)\n",
       "                <span style=\"color: #008000; font-weight: bold\">for</span> i_1, j_1, k_1 <span style=\"color: #008000; font-weight: bold\">in</span> T<span style=\"color: #A2F; font-weight: bold\">.</span>grid(<span style=\"color: #008000\">16</span>, <span style=\"color: #008000\">16</span>, <span style=\"color: #008000\">16</span>):\n",
       "                    <span style=\"color: #008000; font-weight: bold\">with</span> T<span style=\"color: #A2F; font-weight: bold\">.</span>block(<span style=\"color: #BA2121\">&quot;matmul&quot;</span>):\n",
       "                        vi_i, vj_i, vk_i <span style=\"color: #A2F; font-weight: bold\">=</span> T<span style=\"color: #A2F; font-weight: bold\">.</span>axis<span style=\"color: #A2F; font-weight: bold\">.</span>remap(<span style=\"color: #BA2121\">&quot;SSR&quot;</span>, [i_1, j_1, k_1])\n",
       "                        T<span style=\"color: #A2F; font-weight: bold\">.</span>reads(C[vi_o <span style=\"color: #A2F; font-weight: bold\">*</span> <span style=\"color: #008000\">16</span> <span style=\"color: #A2F; font-weight: bold\">+</span> vi_i, vj_o <span style=\"color: #A2F; font-weight: bold\">*</span> <span style=\"color: #008000\">16</span> <span style=\"color: #A2F; font-weight: bold\">+</span> vj_i], A[vi_o <span style=\"color: #A2F; font-weight: bold\">*</span> <span style=\"color: #008000\">16</span> <span style=\"color: #A2F; font-weight: bold\">+</span> vi_i, vk_o <span style=\"color: #A2F; font-weight: bold\">*</span> <span style=\"color: #008000\">16</span> <span style=\"color: #A2F; font-weight: bold\">+</span> vk_i], B[vj_o <span style=\"color: #A2F; font-weight: bold\">*</span> <span style=\"color: #008000\">16</span> <span style=\"color: #A2F; font-weight: bold\">+</span> vj_i, vk_o <span style=\"color: #A2F; font-weight: bold\">*</span> <span style=\"color: #008000\">16</span> <span style=\"color: #A2F; font-weight: bold\">+</span> vk_i])\n",
       "                        T<span style=\"color: #A2F; font-weight: bold\">.</span>writes(C[vi_o <span style=\"color: #A2F; font-weight: bold\">*</span> <span style=\"color: #008000\">16</span> <span style=\"color: #A2F; font-weight: bold\">+</span> vi_i, vj_o <span style=\"color: #A2F; font-weight: bold\">*</span> <span style=\"color: #008000\">16</span> <span style=\"color: #A2F; font-weight: bold\">+</span> vj_i])\n",
       "                        C[vi_o <span style=\"color: #A2F; font-weight: bold\">*</span> <span style=\"color: #008000\">16</span> <span style=\"color: #A2F; font-weight: bold\">+</span> vi_i, vj_o <span style=\"color: #A2F; font-weight: bold\">*</span> <span style=\"color: #008000\">16</span> <span style=\"color: #A2F; font-weight: bold\">+</span> vj_i] <span style=\"color: #A2F; font-weight: bold\">=</span> C[vi_o <span style=\"color: #A2F; font-weight: bold\">*</span> <span style=\"color: #008000\">16</span> <span style=\"color: #A2F; font-weight: bold\">+</span> vi_i, vj_o <span style=\"color: #A2F; font-weight: bold\">*</span> <span style=\"color: #008000\">16</span> <span style=\"color: #A2F; font-weight: bold\">+</span> vj_i] <span style=\"color: #A2F; font-weight: bold\">+</span> A[vi_o <span style=\"color: #A2F; font-weight: bold\">*</span> <span style=\"color: #008000\">16</span> <span style=\"color: #A2F; font-weight: bold\">+</span> vi_i, vk_o <span style=\"color: #A2F; font-weight: bold\">*</span> <span style=\"color: #008000\">16</span> <span style=\"color: #A2F; font-weight: bold\">+</span> vk_i] <span style=\"color: #A2F; font-weight: bold\">*</span> B[vj_o <span style=\"color: #A2F; font-weight: bold\">*</span> <span style=\"color: #008000\">16</span> <span style=\"color: #A2F; font-weight: bold\">+</span> vj_i, vk_o <span style=\"color: #A2F; font-weight: bold\">*</span> <span style=\"color: #008000\">16</span> <span style=\"color: #A2F; font-weight: bold\">+</span> vk_i]\n",
       "</pre></div>\n"
      ],
      "text/plain": [
       "<IPython.core.display.HTML object>"
      ]
     },
     "metadata": {},
     "output_type": "display_data"
    }
   ],
   "source": [
    "block_mm = sch.blockize(ii)\n",
    "sch.mod.show()"
   ]
  },
  {
   "cell_type": "markdown",
   "id": "a6dbc1c1",
   "metadata": {},
   "source": [
    "#### Transforming TensorIR to Introduce Special Memory Scope\n",
    "\n",
    "As we noted in the low-level NumPy code, one key element of the low-level TensorIR is the special memory scope used during the acceleration.\n",
    "\n",
    "We can use cache_read and write to create intermediate memory stages."
   ]
  },
  {
   "cell_type": "code",
   "execution_count": 12,
   "id": "f0be374b",
   "metadata": {
    "execution": {
     "iopub.execute_input": "2025-07-09T12:32:20.738316Z",
     "iopub.status.busy": "2025-07-09T12:32:20.738149Z",
     "iopub.status.idle": "2025-07-09T12:32:20.758972Z",
     "shell.execute_reply": "2025-07-09T12:32:20.758531Z"
    }
   },
   "outputs": [
    {
     "data": {
      "text/html": [
       "<div class=\"highlight\" style=\"background: \"><pre style=\"line-height: 125%;\"><span></span><span style=\"color: #007979; font-style: italic\"># from tvm.script import ir as I</span>\n",
       "<span style=\"color: #007979; font-style: italic\"># from tvm.script import tir as T</span>\n",
       "\n",
       "<span style=\"color: #A2F\">@I</span><span style=\"color: #A2F; font-weight: bold\">.</span>ir_module\n",
       "<span style=\"color: #008000; font-weight: bold\">class</span> <span style=\"color: #00F; font-weight: bold\">Module</span>:\n",
       "    <span style=\"color: #A2F\">@T</span><span style=\"color: #A2F; font-weight: bold\">.</span>prim_func\n",
       "    <span style=\"color: #008000; font-weight: bold\">def</span> <span style=\"color: #00F\">main</span>(A: T<span style=\"color: #A2F; font-weight: bold\">.</span>Buffer((<span style=\"color: #008000\">1024</span>, <span style=\"color: #008000\">1024</span>), <span style=\"color: #BA2121\">&quot;float32&quot;</span>), B: T<span style=\"color: #A2F; font-weight: bold\">.</span>Buffer((<span style=\"color: #008000\">1024</span>, <span style=\"color: #008000\">1024</span>), <span style=\"color: #BA2121\">&quot;float32&quot;</span>), C: T<span style=\"color: #A2F; font-weight: bold\">.</span>Buffer((<span style=\"color: #008000\">1024</span>, <span style=\"color: #008000\">1024</span>), <span style=\"color: #BA2121\">&quot;float32&quot;</span>)):\n",
       "        T<span style=\"color: #A2F; font-weight: bold\">.</span>func_attr({<span style=\"color: #BA2121\">&quot;tir.noalias&quot;</span>: T<span style=\"color: #A2F; font-weight: bold\">.</span>bool(<span style=\"color: #008000; font-weight: bold\">True</span>)})\n",
       "        <span style=\"color: #007979; font-style: italic\"># with T.block(&quot;root&quot;):</span>\n",
       "        A_global_A_reg <span style=\"color: #A2F; font-weight: bold\">=</span> T<span style=\"color: #A2F; font-weight: bold\">.</span>alloc_buffer((<span style=\"color: #008000\">1024</span>, <span style=\"color: #008000\">1024</span>), scope<span style=\"color: #A2F; font-weight: bold\">=</span><span style=\"color: #BA2121\">&quot;global.A_reg&quot;</span>)\n",
       "        B_global_B_reg <span style=\"color: #A2F; font-weight: bold\">=</span> T<span style=\"color: #A2F; font-weight: bold\">.</span>alloc_buffer((<span style=\"color: #008000\">1024</span>, <span style=\"color: #008000\">1024</span>), scope<span style=\"color: #A2F; font-weight: bold\">=</span><span style=\"color: #BA2121\">&quot;global.B_reg&quot;</span>)\n",
       "        C_global_accumulator <span style=\"color: #A2F; font-weight: bold\">=</span> T<span style=\"color: #A2F; font-weight: bold\">.</span>alloc_buffer((<span style=\"color: #008000\">1024</span>, <span style=\"color: #008000\">1024</span>), scope<span style=\"color: #A2F; font-weight: bold\">=</span><span style=\"color: #BA2121\">&quot;global.accumulator&quot;</span>)\n",
       "        <span style=\"color: #008000; font-weight: bold\">for</span> i_0, j_0 <span style=\"color: #008000; font-weight: bold\">in</span> T<span style=\"color: #A2F; font-weight: bold\">.</span>grid(<span style=\"color: #008000\">64</span>, <span style=\"color: #008000\">64</span>):\n",
       "            <span style=\"color: #008000; font-weight: bold\">for</span> k_0 <span style=\"color: #008000; font-weight: bold\">in</span> range(<span style=\"color: #008000\">64</span>):\n",
       "                <span style=\"color: #008000; font-weight: bold\">for</span> ax0, ax1 <span style=\"color: #008000; font-weight: bold\">in</span> T<span style=\"color: #A2F; font-weight: bold\">.</span>grid(<span style=\"color: #008000\">16</span>, <span style=\"color: #008000\">16</span>):\n",
       "                    <span style=\"color: #008000; font-weight: bold\">with</span> T<span style=\"color: #A2F; font-weight: bold\">.</span>block(<span style=\"color: #BA2121\">&quot;A_global.A_reg&quot;</span>):\n",
       "                        v0 <span style=\"color: #A2F; font-weight: bold\">=</span> T<span style=\"color: #A2F; font-weight: bold\">.</span>axis<span style=\"color: #A2F; font-weight: bold\">.</span>spatial(<span style=\"color: #008000\">1024</span>, i_0 <span style=\"color: #A2F; font-weight: bold\">*</span> <span style=\"color: #008000\">16</span> <span style=\"color: #A2F; font-weight: bold\">+</span> ax0)\n",
       "                        v1 <span style=\"color: #A2F; font-weight: bold\">=</span> T<span style=\"color: #A2F; font-weight: bold\">.</span>axis<span style=\"color: #A2F; font-weight: bold\">.</span>spatial(<span style=\"color: #008000\">1024</span>, k_0 <span style=\"color: #A2F; font-weight: bold\">*</span> <span style=\"color: #008000\">16</span> <span style=\"color: #A2F; font-weight: bold\">+</span> ax1)\n",
       "                        T<span style=\"color: #A2F; font-weight: bold\">.</span>reads(A[v0, v1])\n",
       "                        T<span style=\"color: #A2F; font-weight: bold\">.</span>writes(A_global_A_reg[v0, v1])\n",
       "                        A_global_A_reg[v0, v1] <span style=\"color: #A2F; font-weight: bold\">=</span> A[v0, v1]\n",
       "                <span style=\"color: #008000; font-weight: bold\">for</span> ax0, ax1 <span style=\"color: #008000; font-weight: bold\">in</span> T<span style=\"color: #A2F; font-weight: bold\">.</span>grid(<span style=\"color: #008000\">16</span>, <span style=\"color: #008000\">16</span>):\n",
       "                    <span style=\"color: #008000; font-weight: bold\">with</span> T<span style=\"color: #A2F; font-weight: bold\">.</span>block(<span style=\"color: #BA2121\">&quot;B_global.B_reg&quot;</span>):\n",
       "                        v0 <span style=\"color: #A2F; font-weight: bold\">=</span> T<span style=\"color: #A2F; font-weight: bold\">.</span>axis<span style=\"color: #A2F; font-weight: bold\">.</span>spatial(<span style=\"color: #008000\">1024</span>, j_0 <span style=\"color: #A2F; font-weight: bold\">*</span> <span style=\"color: #008000\">16</span> <span style=\"color: #A2F; font-weight: bold\">+</span> ax0)\n",
       "                        v1 <span style=\"color: #A2F; font-weight: bold\">=</span> T<span style=\"color: #A2F; font-weight: bold\">.</span>axis<span style=\"color: #A2F; font-weight: bold\">.</span>spatial(<span style=\"color: #008000\">1024</span>, k_0 <span style=\"color: #A2F; font-weight: bold\">*</span> <span style=\"color: #008000\">16</span> <span style=\"color: #A2F; font-weight: bold\">+</span> ax1)\n",
       "                        T<span style=\"color: #A2F; font-weight: bold\">.</span>reads(B[v0, v1])\n",
       "                        T<span style=\"color: #A2F; font-weight: bold\">.</span>writes(B_global_B_reg[v0, v1])\n",
       "                        B_global_B_reg[v0, v1] <span style=\"color: #A2F; font-weight: bold\">=</span> B[v0, v1]\n",
       "                <span style=\"color: #008000; font-weight: bold\">with</span> T<span style=\"color: #A2F; font-weight: bold\">.</span>block(<span style=\"color: #BA2121\">&quot;matmul_o&quot;</span>):\n",
       "                    vi_o, vj_o, vk_o <span style=\"color: #A2F; font-weight: bold\">=</span> T<span style=\"color: #A2F; font-weight: bold\">.</span>axis<span style=\"color: #A2F; font-weight: bold\">.</span>remap(<span style=\"color: #BA2121\">&quot;SSR&quot;</span>, [i_0, j_0, k_0])\n",
       "                    T<span style=\"color: #A2F; font-weight: bold\">.</span>reads(A_global_A_reg[vi_o <span style=\"color: #A2F; font-weight: bold\">*</span> <span style=\"color: #008000\">16</span>:vi_o <span style=\"color: #A2F; font-weight: bold\">*</span> <span style=\"color: #008000\">16</span> <span style=\"color: #A2F; font-weight: bold\">+</span> <span style=\"color: #008000\">16</span>, vk_o <span style=\"color: #A2F; font-weight: bold\">*</span> <span style=\"color: #008000\">16</span>:vk_o <span style=\"color: #A2F; font-weight: bold\">*</span> <span style=\"color: #008000\">16</span> <span style=\"color: #A2F; font-weight: bold\">+</span> <span style=\"color: #008000\">16</span>], B_global_B_reg[vj_o <span style=\"color: #A2F; font-weight: bold\">*</span> <span style=\"color: #008000\">16</span>:vj_o <span style=\"color: #A2F; font-weight: bold\">*</span> <span style=\"color: #008000\">16</span> <span style=\"color: #A2F; font-weight: bold\">+</span> <span style=\"color: #008000\">16</span>, vk_o <span style=\"color: #A2F; font-weight: bold\">*</span> <span style=\"color: #008000\">16</span>:vk_o <span style=\"color: #A2F; font-weight: bold\">*</span> <span style=\"color: #008000\">16</span> <span style=\"color: #A2F; font-weight: bold\">+</span> <span style=\"color: #008000\">16</span>])\n",
       "                    T<span style=\"color: #A2F; font-weight: bold\">.</span>writes(C_global_accumulator[vi_o <span style=\"color: #A2F; font-weight: bold\">*</span> <span style=\"color: #008000\">16</span>:vi_o <span style=\"color: #A2F; font-weight: bold\">*</span> <span style=\"color: #008000\">16</span> <span style=\"color: #A2F; font-weight: bold\">+</span> <span style=\"color: #008000\">16</span>, vj_o <span style=\"color: #A2F; font-weight: bold\">*</span> <span style=\"color: #008000\">16</span>:vj_o <span style=\"color: #A2F; font-weight: bold\">*</span> <span style=\"color: #008000\">16</span> <span style=\"color: #A2F; font-weight: bold\">+</span> <span style=\"color: #008000\">16</span>])\n",
       "                    <span style=\"color: #008000; font-weight: bold\">with</span> T<span style=\"color: #A2F; font-weight: bold\">.</span>init():\n",
       "                        <span style=\"color: #008000; font-weight: bold\">for</span> i_1, j_1 <span style=\"color: #008000; font-weight: bold\">in</span> T<span style=\"color: #A2F; font-weight: bold\">.</span>grid(<span style=\"color: #008000\">16</span>, <span style=\"color: #008000\">16</span>):\n",
       "                            <span style=\"color: #008000; font-weight: bold\">with</span> T<span style=\"color: #A2F; font-weight: bold\">.</span>block(<span style=\"color: #BA2121\">&quot;matmul_init&quot;</span>):\n",
       "                                vi_i_init, vj_i_init <span style=\"color: #A2F; font-weight: bold\">=</span> T<span style=\"color: #A2F; font-weight: bold\">.</span>axis<span style=\"color: #A2F; font-weight: bold\">.</span>remap(<span style=\"color: #BA2121\">&quot;SS&quot;</span>, [i_1, j_1])\n",
       "                                T<span style=\"color: #A2F; font-weight: bold\">.</span>reads()\n",
       "                                T<span style=\"color: #A2F; font-weight: bold\">.</span>writes(C_global_accumulator[vi_o <span style=\"color: #A2F; font-weight: bold\">*</span> <span style=\"color: #008000\">16</span> <span style=\"color: #A2F; font-weight: bold\">+</span> vi_i_init, vj_o <span style=\"color: #A2F; font-weight: bold\">*</span> <span style=\"color: #008000\">16</span> <span style=\"color: #A2F; font-weight: bold\">+</span> vj_i_init])\n",
       "                                C_global_accumulator[vi_o <span style=\"color: #A2F; font-weight: bold\">*</span> <span style=\"color: #008000\">16</span> <span style=\"color: #A2F; font-weight: bold\">+</span> vi_i_init, vj_o <span style=\"color: #A2F; font-weight: bold\">*</span> <span style=\"color: #008000\">16</span> <span style=\"color: #A2F; font-weight: bold\">+</span> vj_i_init] <span style=\"color: #A2F; font-weight: bold\">=</span> T<span style=\"color: #A2F; font-weight: bold\">.</span>float32(<span style=\"color: #008000\">0.0</span>)\n",
       "                    <span style=\"color: #008000; font-weight: bold\">for</span> i_1, j_1, k_1 <span style=\"color: #008000; font-weight: bold\">in</span> T<span style=\"color: #A2F; font-weight: bold\">.</span>grid(<span style=\"color: #008000\">16</span>, <span style=\"color: #008000\">16</span>, <span style=\"color: #008000\">16</span>):\n",
       "                        <span style=\"color: #008000; font-weight: bold\">with</span> T<span style=\"color: #A2F; font-weight: bold\">.</span>block(<span style=\"color: #BA2121\">&quot;matmul&quot;</span>):\n",
       "                            vi_i, vj_i, vk_i <span style=\"color: #A2F; font-weight: bold\">=</span> T<span style=\"color: #A2F; font-weight: bold\">.</span>axis<span style=\"color: #A2F; font-weight: bold\">.</span>remap(<span style=\"color: #BA2121\">&quot;SSR&quot;</span>, [i_1, j_1, k_1])\n",
       "                            T<span style=\"color: #A2F; font-weight: bold\">.</span>reads(C_global_accumulator[vi_o <span style=\"color: #A2F; font-weight: bold\">*</span> <span style=\"color: #008000\">16</span> <span style=\"color: #A2F; font-weight: bold\">+</span> vi_i, vj_o <span style=\"color: #A2F; font-weight: bold\">*</span> <span style=\"color: #008000\">16</span> <span style=\"color: #A2F; font-weight: bold\">+</span> vj_i], A_global_A_reg[vi_o <span style=\"color: #A2F; font-weight: bold\">*</span> <span style=\"color: #008000\">16</span> <span style=\"color: #A2F; font-weight: bold\">+</span> vi_i, vk_o <span style=\"color: #A2F; font-weight: bold\">*</span> <span style=\"color: #008000\">16</span> <span style=\"color: #A2F; font-weight: bold\">+</span> vk_i], B_global_B_reg[vj_o <span style=\"color: #A2F; font-weight: bold\">*</span> <span style=\"color: #008000\">16</span> <span style=\"color: #A2F; font-weight: bold\">+</span> vj_i, vk_o <span style=\"color: #A2F; font-weight: bold\">*</span> <span style=\"color: #008000\">16</span> <span style=\"color: #A2F; font-weight: bold\">+</span> vk_i])\n",
       "                            T<span style=\"color: #A2F; font-weight: bold\">.</span>writes(C_global_accumulator[vi_o <span style=\"color: #A2F; font-weight: bold\">*</span> <span style=\"color: #008000\">16</span> <span style=\"color: #A2F; font-weight: bold\">+</span> vi_i, vj_o <span style=\"color: #A2F; font-weight: bold\">*</span> <span style=\"color: #008000\">16</span> <span style=\"color: #A2F; font-weight: bold\">+</span> vj_i])\n",
       "                            C_global_accumulator[vi_o <span style=\"color: #A2F; font-weight: bold\">*</span> <span style=\"color: #008000\">16</span> <span style=\"color: #A2F; font-weight: bold\">+</span> vi_i, vj_o <span style=\"color: #A2F; font-weight: bold\">*</span> <span style=\"color: #008000\">16</span> <span style=\"color: #A2F; font-weight: bold\">+</span> vj_i] <span style=\"color: #A2F; font-weight: bold\">=</span> C_global_accumulator[vi_o <span style=\"color: #A2F; font-weight: bold\">*</span> <span style=\"color: #008000\">16</span> <span style=\"color: #A2F; font-weight: bold\">+</span> vi_i, vj_o <span style=\"color: #A2F; font-weight: bold\">*</span> <span style=\"color: #008000\">16</span> <span style=\"color: #A2F; font-weight: bold\">+</span> vj_i] <span style=\"color: #A2F; font-weight: bold\">+</span> A_global_A_reg[vi_o <span style=\"color: #A2F; font-weight: bold\">*</span> <span style=\"color: #008000\">16</span> <span style=\"color: #A2F; font-weight: bold\">+</span> vi_i, vk_o <span style=\"color: #A2F; font-weight: bold\">*</span> <span style=\"color: #008000\">16</span> <span style=\"color: #A2F; font-weight: bold\">+</span> vk_i] <span style=\"color: #A2F; font-weight: bold\">*</span> B_global_B_reg[vj_o <span style=\"color: #A2F; font-weight: bold\">*</span> <span style=\"color: #008000\">16</span> <span style=\"color: #A2F; font-weight: bold\">+</span> vj_i, vk_o <span style=\"color: #A2F; font-weight: bold\">*</span> <span style=\"color: #008000\">16</span> <span style=\"color: #A2F; font-weight: bold\">+</span> vk_i]\n",
       "            <span style=\"color: #008000; font-weight: bold\">for</span> ax0, ax1 <span style=\"color: #008000; font-weight: bold\">in</span> T<span style=\"color: #A2F; font-weight: bold\">.</span>grid(<span style=\"color: #008000\">16</span>, <span style=\"color: #008000\">16</span>):\n",
       "                <span style=\"color: #008000; font-weight: bold\">with</span> T<span style=\"color: #A2F; font-weight: bold\">.</span>block(<span style=\"color: #BA2121\">&quot;C_global.accumulator&quot;</span>):\n",
       "                    v0 <span style=\"color: #A2F; font-weight: bold\">=</span> T<span style=\"color: #A2F; font-weight: bold\">.</span>axis<span style=\"color: #A2F; font-weight: bold\">.</span>spatial(<span style=\"color: #008000\">1024</span>, i_0 <span style=\"color: #A2F; font-weight: bold\">*</span> <span style=\"color: #008000\">16</span> <span style=\"color: #A2F; font-weight: bold\">+</span> ax0)\n",
       "                    v1 <span style=\"color: #A2F; font-weight: bold\">=</span> T<span style=\"color: #A2F; font-weight: bold\">.</span>axis<span style=\"color: #A2F; font-weight: bold\">.</span>spatial(<span style=\"color: #008000\">1024</span>, j_0 <span style=\"color: #A2F; font-weight: bold\">*</span> <span style=\"color: #008000\">16</span> <span style=\"color: #A2F; font-weight: bold\">+</span> ax1)\n",
       "                    T<span style=\"color: #A2F; font-weight: bold\">.</span>reads(C_global_accumulator[v0, v1])\n",
       "                    T<span style=\"color: #A2F; font-weight: bold\">.</span>writes(C[v0, v1])\n",
       "                    C[v0, v1] <span style=\"color: #A2F; font-weight: bold\">=</span> C_global_accumulator[v0, v1]\n",
       "</pre></div>\n"
      ],
      "text/plain": [
       "<IPython.core.display.HTML object>"
      ]
     },
     "metadata": {},
     "output_type": "display_data"
    }
   ],
   "source": [
    "A_reg = sch.cache_read(block_mm, 0, storage_scope=\"global.A_reg\")\n",
    "B_reg = sch.cache_read(block_mm, 1, storage_scope=\"global.B_reg\")\n",
    "sch.compute_at(A_reg, k)\n",
    "sch.compute_at(B_reg, k)\n",
    "\n",
    "write_back_block = sch.cache_write(block_mm, 0, storage_scope=\"global.accumulator\")\n",
    "sch.reverse_compute_at(write_back_block, j)\n",
    "sch.mod.show()"
   ]
  },
  {
   "cell_type": "markdown",
   "id": "2b54f4cc",
   "metadata": {},
   "source": [
    "![](../img/hardware_specialization_abc.png)\n",
    "\n",
    "Here `global.A_reg` contains two parts. `global` indicates that all threads can globally access the memory, and `A_reg` is a **scope tag** of the memory, which provides opportunities for follow-up compilation to map it to special regions such as registers.\n",
    "\n",
    "### Tensorization\n",
    "\n",
    "Now we have created a set of blocks that maps to the corresponding stages of computation in the TensorIR. The remaining step is to map some of the tensorized blocks to use a specific implementation that maps to the hardware accelerated instructions. This mapping process is called **tensorization**.\n",
    "\n",
    "To prepare for tensorization, we first register a tensor intrinsic (TensorIntrin) that contains a description of the computation and implementation.\n",
    "\n",
    "The system will use the description to find relevant regions that match the computation, while implementation maps the computation to accelerated hardware instructions."
   ]
  },
  {
   "cell_type": "code",
   "execution_count": 13,
   "id": "e1c6cd52",
   "metadata": {
    "execution": {
     "iopub.execute_input": "2025-07-09T12:32:20.761260Z",
     "iopub.status.busy": "2025-07-09T12:32:20.761096Z",
     "iopub.status.idle": "2025-07-09T12:32:20.799602Z",
     "shell.execute_reply": "2025-07-09T12:32:20.799127Z"
    }
   },
   "outputs": [],
   "source": [
    "@T.prim_func\n",
    "def tmm16_desc(a: T.handle, b: T.handle, c: T.handle) -> None:\n",
    "    A = T.match_buffer(a, (16, 16), \"float32\", offset_factor=16, scope=\"global.A_reg\")\n",
    "    B = T.match_buffer(b, (16, 16), \"float32\", offset_factor=16, scope=\"global.B_reg\")\n",
    "    C = T.match_buffer(c, (16, 16), \"float32\", offset_factor=16,  scope=\"global.accumulator\")\n",
    "\n",
    "    with T.block(\"root\"):\n",
    "        T.reads(C[0:16, 0:16], A[0:16, 0:16], B[0:16, 0:16])\n",
    "        T.writes(C[0:16, 0:16])\n",
    "        for i, j, k in T.grid(16, 16, 16):\n",
    "            with T.block(\"\"):\n",
    "                vii, vjj, vkk = T.axis.remap(\"SSR\", [i, j, k])\n",
    "                C[vii, vjj] = C[vii, vjj] + A[vii, vkk] * B[vjj, vkk]\n",
    "\n",
    "\n",
    "@T.prim_func\n",
    "def tmm16_impl(a: T.handle, b: T.handle, c: T.handle) -> None:\n",
    "    sa = T.int32()\n",
    "    sb = T.int32()\n",
    "    sc = T.int32()\n",
    "    A = T.match_buffer(a, (16, 16), \"float32\", offset_factor=16, strides=[sa, 1], scope=\"global.A_reg\")\n",
    "    B = T.match_buffer(b, (16, 16), \"float32\", offset_factor=16, strides=[sb, 1], scope=\"global.B_reg\")\n",
    "    C = T.match_buffer(c, (16, 16), \"float32\", offset_factor=16, strides=[sc, 1], scope=\"global.accumulator\")\n",
    "\n",
    "    with T.block(\"root\"):\n",
    "        T.reads(C[0:16, 0:16], A[0:16, 0:16], B[0:16, 0:16])\n",
    "        T.writes(C[0:16, 0:16])\n",
    "        T.evaluate(\n",
    "            T.call_extern(\n",
    "                \"tmm16\",\n",
    "                C.access_ptr(\"w\"),\n",
    "                A.access_ptr(\"r\"),\n",
    "                B.access_ptr(\"r\"),\n",
    "                sa,\n",
    "                sb,\n",
    "                sc,\n",
    "                dtype=\"int32\",\n",
    "            )\n",
    "        )\n",
    "\n",
    "tvm.tir.TensorIntrin.register(\"tmm16\", tmm16_desc, tmm16_impl)"
   ]
  },
  {
   "cell_type": "markdown",
   "id": "3da4d4b3",
   "metadata": {},
   "source": [
    "As a preparation step, we first decompose the reduction into an initialization block and an update step."
   ]
  },
  {
   "cell_type": "code",
   "execution_count": 14,
   "id": "52107be7",
   "metadata": {
    "execution": {
     "iopub.execute_input": "2025-07-09T12:32:20.802534Z",
     "iopub.status.busy": "2025-07-09T12:32:20.802280Z",
     "iopub.status.idle": "2025-07-09T12:32:20.827090Z",
     "shell.execute_reply": "2025-07-09T12:32:20.826013Z"
    }
   },
   "outputs": [
    {
     "data": {
      "text/html": [
       "<div class=\"highlight\" style=\"background: \"><pre style=\"line-height: 125%;\"><span></span><span style=\"color: #007979; font-style: italic\"># from tvm.script import ir as I</span>\n",
       "<span style=\"color: #007979; font-style: italic\"># from tvm.script import tir as T</span>\n",
       "\n",
       "<span style=\"color: #A2F\">@I</span><span style=\"color: #A2F; font-weight: bold\">.</span>ir_module\n",
       "<span style=\"color: #008000; font-weight: bold\">class</span> <span style=\"color: #00F; font-weight: bold\">Module</span>:\n",
       "    <span style=\"color: #A2F\">@T</span><span style=\"color: #A2F; font-weight: bold\">.</span>prim_func\n",
       "    <span style=\"color: #008000; font-weight: bold\">def</span> <span style=\"color: #00F\">main</span>(A: T<span style=\"color: #A2F; font-weight: bold\">.</span>Buffer((<span style=\"color: #008000\">1024</span>, <span style=\"color: #008000\">1024</span>), <span style=\"color: #BA2121\">&quot;float32&quot;</span>), B: T<span style=\"color: #A2F; font-weight: bold\">.</span>Buffer((<span style=\"color: #008000\">1024</span>, <span style=\"color: #008000\">1024</span>), <span style=\"color: #BA2121\">&quot;float32&quot;</span>), C: T<span style=\"color: #A2F; font-weight: bold\">.</span>Buffer((<span style=\"color: #008000\">1024</span>, <span style=\"color: #008000\">1024</span>), <span style=\"color: #BA2121\">&quot;float32&quot;</span>)):\n",
       "        T<span style=\"color: #A2F; font-weight: bold\">.</span>func_attr({<span style=\"color: #BA2121\">&quot;tir.noalias&quot;</span>: T<span style=\"color: #A2F; font-weight: bold\">.</span>bool(<span style=\"color: #008000; font-weight: bold\">True</span>)})\n",
       "        <span style=\"color: #007979; font-style: italic\"># with T.block(&quot;root&quot;):</span>\n",
       "        A_global_A_reg <span style=\"color: #A2F; font-weight: bold\">=</span> T<span style=\"color: #A2F; font-weight: bold\">.</span>alloc_buffer((<span style=\"color: #008000\">1024</span>, <span style=\"color: #008000\">1024</span>), scope<span style=\"color: #A2F; font-weight: bold\">=</span><span style=\"color: #BA2121\">&quot;global.A_reg&quot;</span>)\n",
       "        B_global_B_reg <span style=\"color: #A2F; font-weight: bold\">=</span> T<span style=\"color: #A2F; font-weight: bold\">.</span>alloc_buffer((<span style=\"color: #008000\">1024</span>, <span style=\"color: #008000\">1024</span>), scope<span style=\"color: #A2F; font-weight: bold\">=</span><span style=\"color: #BA2121\">&quot;global.B_reg&quot;</span>)\n",
       "        C_global_accumulator <span style=\"color: #A2F; font-weight: bold\">=</span> T<span style=\"color: #A2F; font-weight: bold\">.</span>alloc_buffer((<span style=\"color: #008000\">1024</span>, <span style=\"color: #008000\">1024</span>), scope<span style=\"color: #A2F; font-weight: bold\">=</span><span style=\"color: #BA2121\">&quot;global.accumulator&quot;</span>)\n",
       "        <span style=\"color: #008000; font-weight: bold\">for</span> i_0, j_0 <span style=\"color: #008000; font-weight: bold\">in</span> T<span style=\"color: #A2F; font-weight: bold\">.</span>grid(<span style=\"color: #008000\">64</span>, <span style=\"color: #008000\">64</span>):\n",
       "            <span style=\"color: #008000; font-weight: bold\">with</span> T<span style=\"color: #A2F; font-weight: bold\">.</span>block(<span style=\"color: #BA2121\">&quot;matmul_o_init&quot;</span>):\n",
       "                vi_o, vj_o <span style=\"color: #A2F; font-weight: bold\">=</span> T<span style=\"color: #A2F; font-weight: bold\">.</span>axis<span style=\"color: #A2F; font-weight: bold\">.</span>remap(<span style=\"color: #BA2121\">&quot;SS&quot;</span>, [i_0, j_0])\n",
       "                T<span style=\"color: #A2F; font-weight: bold\">.</span>reads()\n",
       "                T<span style=\"color: #A2F; font-weight: bold\">.</span>writes(C_global_accumulator[vi_o <span style=\"color: #A2F; font-weight: bold\">*</span> <span style=\"color: #008000\">16</span>:vi_o <span style=\"color: #A2F; font-weight: bold\">*</span> <span style=\"color: #008000\">16</span> <span style=\"color: #A2F; font-weight: bold\">+</span> <span style=\"color: #008000\">16</span>, vj_o <span style=\"color: #A2F; font-weight: bold\">*</span> <span style=\"color: #008000\">16</span>:vj_o <span style=\"color: #A2F; font-weight: bold\">*</span> <span style=\"color: #008000\">16</span> <span style=\"color: #A2F; font-weight: bold\">+</span> <span style=\"color: #008000\">16</span>])\n",
       "                <span style=\"color: #008000; font-weight: bold\">for</span> i_1, j_1 <span style=\"color: #008000; font-weight: bold\">in</span> T<span style=\"color: #A2F; font-weight: bold\">.</span>grid(<span style=\"color: #008000\">16</span>, <span style=\"color: #008000\">16</span>):\n",
       "                    <span style=\"color: #008000; font-weight: bold\">with</span> T<span style=\"color: #A2F; font-weight: bold\">.</span>block(<span style=\"color: #BA2121\">&quot;matmul_init&quot;</span>):\n",
       "                        vi_i_init, vj_i_init <span style=\"color: #A2F; font-weight: bold\">=</span> T<span style=\"color: #A2F; font-weight: bold\">.</span>axis<span style=\"color: #A2F; font-weight: bold\">.</span>remap(<span style=\"color: #BA2121\">&quot;SS&quot;</span>, [i_1, j_1])\n",
       "                        T<span style=\"color: #A2F; font-weight: bold\">.</span>reads()\n",
       "                        T<span style=\"color: #A2F; font-weight: bold\">.</span>writes(C_global_accumulator[vi_o <span style=\"color: #A2F; font-weight: bold\">*</span> <span style=\"color: #008000\">16</span> <span style=\"color: #A2F; font-weight: bold\">+</span> vi_i_init, vj_o <span style=\"color: #A2F; font-weight: bold\">*</span> <span style=\"color: #008000\">16</span> <span style=\"color: #A2F; font-weight: bold\">+</span> vj_i_init])\n",
       "                        C_global_accumulator[vi_o <span style=\"color: #A2F; font-weight: bold\">*</span> <span style=\"color: #008000\">16</span> <span style=\"color: #A2F; font-weight: bold\">+</span> vi_i_init, vj_o <span style=\"color: #A2F; font-weight: bold\">*</span> <span style=\"color: #008000\">16</span> <span style=\"color: #A2F; font-weight: bold\">+</span> vj_i_init] <span style=\"color: #A2F; font-weight: bold\">=</span> T<span style=\"color: #A2F; font-weight: bold\">.</span>float32(<span style=\"color: #008000\">0.0</span>)\n",
       "            <span style=\"color: #008000; font-weight: bold\">for</span> k_0 <span style=\"color: #008000; font-weight: bold\">in</span> range(<span style=\"color: #008000\">64</span>):\n",
       "                <span style=\"color: #008000; font-weight: bold\">for</span> ax0, ax1 <span style=\"color: #008000; font-weight: bold\">in</span> T<span style=\"color: #A2F; font-weight: bold\">.</span>grid(<span style=\"color: #008000\">16</span>, <span style=\"color: #008000\">16</span>):\n",
       "                    <span style=\"color: #008000; font-weight: bold\">with</span> T<span style=\"color: #A2F; font-weight: bold\">.</span>block(<span style=\"color: #BA2121\">&quot;A_global.A_reg&quot;</span>):\n",
       "                        v0 <span style=\"color: #A2F; font-weight: bold\">=</span> T<span style=\"color: #A2F; font-weight: bold\">.</span>axis<span style=\"color: #A2F; font-weight: bold\">.</span>spatial(<span style=\"color: #008000\">1024</span>, i_0 <span style=\"color: #A2F; font-weight: bold\">*</span> <span style=\"color: #008000\">16</span> <span style=\"color: #A2F; font-weight: bold\">+</span> ax0)\n",
       "                        v1 <span style=\"color: #A2F; font-weight: bold\">=</span> T<span style=\"color: #A2F; font-weight: bold\">.</span>axis<span style=\"color: #A2F; font-weight: bold\">.</span>spatial(<span style=\"color: #008000\">1024</span>, k_0 <span style=\"color: #A2F; font-weight: bold\">*</span> <span style=\"color: #008000\">16</span> <span style=\"color: #A2F; font-weight: bold\">+</span> ax1)\n",
       "                        T<span style=\"color: #A2F; font-weight: bold\">.</span>reads(A[v0, v1])\n",
       "                        T<span style=\"color: #A2F; font-weight: bold\">.</span>writes(A_global_A_reg[v0, v1])\n",
       "                        A_global_A_reg[v0, v1] <span style=\"color: #A2F; font-weight: bold\">=</span> A[v0, v1]\n",
       "                <span style=\"color: #008000; font-weight: bold\">for</span> ax0, ax1 <span style=\"color: #008000; font-weight: bold\">in</span> T<span style=\"color: #A2F; font-weight: bold\">.</span>grid(<span style=\"color: #008000\">16</span>, <span style=\"color: #008000\">16</span>):\n",
       "                    <span style=\"color: #008000; font-weight: bold\">with</span> T<span style=\"color: #A2F; font-weight: bold\">.</span>block(<span style=\"color: #BA2121\">&quot;B_global.B_reg&quot;</span>):\n",
       "                        v0 <span style=\"color: #A2F; font-weight: bold\">=</span> T<span style=\"color: #A2F; font-weight: bold\">.</span>axis<span style=\"color: #A2F; font-weight: bold\">.</span>spatial(<span style=\"color: #008000\">1024</span>, j_0 <span style=\"color: #A2F; font-weight: bold\">*</span> <span style=\"color: #008000\">16</span> <span style=\"color: #A2F; font-weight: bold\">+</span> ax0)\n",
       "                        v1 <span style=\"color: #A2F; font-weight: bold\">=</span> T<span style=\"color: #A2F; font-weight: bold\">.</span>axis<span style=\"color: #A2F; font-weight: bold\">.</span>spatial(<span style=\"color: #008000\">1024</span>, k_0 <span style=\"color: #A2F; font-weight: bold\">*</span> <span style=\"color: #008000\">16</span> <span style=\"color: #A2F; font-weight: bold\">+</span> ax1)\n",
       "                        T<span style=\"color: #A2F; font-weight: bold\">.</span>reads(B[v0, v1])\n",
       "                        T<span style=\"color: #A2F; font-weight: bold\">.</span>writes(B_global_B_reg[v0, v1])\n",
       "                        B_global_B_reg[v0, v1] <span style=\"color: #A2F; font-weight: bold\">=</span> B[v0, v1]\n",
       "                <span style=\"color: #008000; font-weight: bold\">with</span> T<span style=\"color: #A2F; font-weight: bold\">.</span>block(<span style=\"color: #BA2121\">&quot;matmul_o_update&quot;</span>):\n",
       "                    vi_o, vj_o, vk_o <span style=\"color: #A2F; font-weight: bold\">=</span> T<span style=\"color: #A2F; font-weight: bold\">.</span>axis<span style=\"color: #A2F; font-weight: bold\">.</span>remap(<span style=\"color: #BA2121\">&quot;SSR&quot;</span>, [i_0, j_0, k_0])\n",
       "                    T<span style=\"color: #A2F; font-weight: bold\">.</span>reads(C_global_accumulator[vi_o <span style=\"color: #A2F; font-weight: bold\">*</span> <span style=\"color: #008000\">16</span>:vi_o <span style=\"color: #A2F; font-weight: bold\">*</span> <span style=\"color: #008000\">16</span> <span style=\"color: #A2F; font-weight: bold\">+</span> <span style=\"color: #008000\">16</span>, vj_o <span style=\"color: #A2F; font-weight: bold\">*</span> <span style=\"color: #008000\">16</span>:vj_o <span style=\"color: #A2F; font-weight: bold\">*</span> <span style=\"color: #008000\">16</span> <span style=\"color: #A2F; font-weight: bold\">+</span> <span style=\"color: #008000\">16</span>], A_global_A_reg[vi_o <span style=\"color: #A2F; font-weight: bold\">*</span> <span style=\"color: #008000\">16</span>:vi_o <span style=\"color: #A2F; font-weight: bold\">*</span> <span style=\"color: #008000\">16</span> <span style=\"color: #A2F; font-weight: bold\">+</span> <span style=\"color: #008000\">16</span>, vk_o <span style=\"color: #A2F; font-weight: bold\">*</span> <span style=\"color: #008000\">16</span>:vk_o <span style=\"color: #A2F; font-weight: bold\">*</span> <span style=\"color: #008000\">16</span> <span style=\"color: #A2F; font-weight: bold\">+</span> <span style=\"color: #008000\">16</span>], B_global_B_reg[vj_o <span style=\"color: #A2F; font-weight: bold\">*</span> <span style=\"color: #008000\">16</span>:vj_o <span style=\"color: #A2F; font-weight: bold\">*</span> <span style=\"color: #008000\">16</span> <span style=\"color: #A2F; font-weight: bold\">+</span> <span style=\"color: #008000\">16</span>, vk_o <span style=\"color: #A2F; font-weight: bold\">*</span> <span style=\"color: #008000\">16</span>:vk_o <span style=\"color: #A2F; font-weight: bold\">*</span> <span style=\"color: #008000\">16</span> <span style=\"color: #A2F; font-weight: bold\">+</span> <span style=\"color: #008000\">16</span>])\n",
       "                    T<span style=\"color: #A2F; font-weight: bold\">.</span>writes(C_global_accumulator[vi_o <span style=\"color: #A2F; font-weight: bold\">*</span> <span style=\"color: #008000\">16</span>:vi_o <span style=\"color: #A2F; font-weight: bold\">*</span> <span style=\"color: #008000\">16</span> <span style=\"color: #A2F; font-weight: bold\">+</span> <span style=\"color: #008000\">16</span>, vj_o <span style=\"color: #A2F; font-weight: bold\">*</span> <span style=\"color: #008000\">16</span>:vj_o <span style=\"color: #A2F; font-weight: bold\">*</span> <span style=\"color: #008000\">16</span> <span style=\"color: #A2F; font-weight: bold\">+</span> <span style=\"color: #008000\">16</span>])\n",
       "                    <span style=\"color: #008000; font-weight: bold\">for</span> i_1, j_1, k_1 <span style=\"color: #008000; font-weight: bold\">in</span> T<span style=\"color: #A2F; font-weight: bold\">.</span>grid(<span style=\"color: #008000\">16</span>, <span style=\"color: #008000\">16</span>, <span style=\"color: #008000\">16</span>):\n",
       "                        <span style=\"color: #008000; font-weight: bold\">with</span> T<span style=\"color: #A2F; font-weight: bold\">.</span>block(<span style=\"color: #BA2121\">&quot;matmul&quot;</span>):\n",
       "                            vi_i, vj_i, vk_i <span style=\"color: #A2F; font-weight: bold\">=</span> T<span style=\"color: #A2F; font-weight: bold\">.</span>axis<span style=\"color: #A2F; font-weight: bold\">.</span>remap(<span style=\"color: #BA2121\">&quot;SSR&quot;</span>, [i_1, j_1, k_1])\n",
       "                            T<span style=\"color: #A2F; font-weight: bold\">.</span>reads(C_global_accumulator[vi_o <span style=\"color: #A2F; font-weight: bold\">*</span> <span style=\"color: #008000\">16</span> <span style=\"color: #A2F; font-weight: bold\">+</span> vi_i, vj_o <span style=\"color: #A2F; font-weight: bold\">*</span> <span style=\"color: #008000\">16</span> <span style=\"color: #A2F; font-weight: bold\">+</span> vj_i], A_global_A_reg[vi_o <span style=\"color: #A2F; font-weight: bold\">*</span> <span style=\"color: #008000\">16</span> <span style=\"color: #A2F; font-weight: bold\">+</span> vi_i, vk_o <span style=\"color: #A2F; font-weight: bold\">*</span> <span style=\"color: #008000\">16</span> <span style=\"color: #A2F; font-weight: bold\">+</span> vk_i], B_global_B_reg[vj_o <span style=\"color: #A2F; font-weight: bold\">*</span> <span style=\"color: #008000\">16</span> <span style=\"color: #A2F; font-weight: bold\">+</span> vj_i, vk_o <span style=\"color: #A2F; font-weight: bold\">*</span> <span style=\"color: #008000\">16</span> <span style=\"color: #A2F; font-weight: bold\">+</span> vk_i])\n",
       "                            T<span style=\"color: #A2F; font-weight: bold\">.</span>writes(C_global_accumulator[vi_o <span style=\"color: #A2F; font-weight: bold\">*</span> <span style=\"color: #008000\">16</span> <span style=\"color: #A2F; font-weight: bold\">+</span> vi_i, vj_o <span style=\"color: #A2F; font-weight: bold\">*</span> <span style=\"color: #008000\">16</span> <span style=\"color: #A2F; font-weight: bold\">+</span> vj_i])\n",
       "                            C_global_accumulator[vi_o <span style=\"color: #A2F; font-weight: bold\">*</span> <span style=\"color: #008000\">16</span> <span style=\"color: #A2F; font-weight: bold\">+</span> vi_i, vj_o <span style=\"color: #A2F; font-weight: bold\">*</span> <span style=\"color: #008000\">16</span> <span style=\"color: #A2F; font-weight: bold\">+</span> vj_i] <span style=\"color: #A2F; font-weight: bold\">=</span> C_global_accumulator[vi_o <span style=\"color: #A2F; font-weight: bold\">*</span> <span style=\"color: #008000\">16</span> <span style=\"color: #A2F; font-weight: bold\">+</span> vi_i, vj_o <span style=\"color: #A2F; font-weight: bold\">*</span> <span style=\"color: #008000\">16</span> <span style=\"color: #A2F; font-weight: bold\">+</span> vj_i] <span style=\"color: #A2F; font-weight: bold\">+</span> A_global_A_reg[vi_o <span style=\"color: #A2F; font-weight: bold\">*</span> <span style=\"color: #008000\">16</span> <span style=\"color: #A2F; font-weight: bold\">+</span> vi_i, vk_o <span style=\"color: #A2F; font-weight: bold\">*</span> <span style=\"color: #008000\">16</span> <span style=\"color: #A2F; font-weight: bold\">+</span> vk_i] <span style=\"color: #A2F; font-weight: bold\">*</span> B_global_B_reg[vj_o <span style=\"color: #A2F; font-weight: bold\">*</span> <span style=\"color: #008000\">16</span> <span style=\"color: #A2F; font-weight: bold\">+</span> vj_i, vk_o <span style=\"color: #A2F; font-weight: bold\">*</span> <span style=\"color: #008000\">16</span> <span style=\"color: #A2F; font-weight: bold\">+</span> vk_i]\n",
       "            <span style=\"color: #008000; font-weight: bold\">for</span> ax0, ax1 <span style=\"color: #008000; font-weight: bold\">in</span> T<span style=\"color: #A2F; font-weight: bold\">.</span>grid(<span style=\"color: #008000\">16</span>, <span style=\"color: #008000\">16</span>):\n",
       "                <span style=\"color: #008000; font-weight: bold\">with</span> T<span style=\"color: #A2F; font-weight: bold\">.</span>block(<span style=\"color: #BA2121\">&quot;C_global.accumulator&quot;</span>):\n",
       "                    v0 <span style=\"color: #A2F; font-weight: bold\">=</span> T<span style=\"color: #A2F; font-weight: bold\">.</span>axis<span style=\"color: #A2F; font-weight: bold\">.</span>spatial(<span style=\"color: #008000\">1024</span>, i_0 <span style=\"color: #A2F; font-weight: bold\">*</span> <span style=\"color: #008000\">16</span> <span style=\"color: #A2F; font-weight: bold\">+</span> ax0)\n",
       "                    v1 <span style=\"color: #A2F; font-weight: bold\">=</span> T<span style=\"color: #A2F; font-weight: bold\">.</span>axis<span style=\"color: #A2F; font-weight: bold\">.</span>spatial(<span style=\"color: #008000\">1024</span>, j_0 <span style=\"color: #A2F; font-weight: bold\">*</span> <span style=\"color: #008000\">16</span> <span style=\"color: #A2F; font-weight: bold\">+</span> ax1)\n",
       "                    T<span style=\"color: #A2F; font-weight: bold\">.</span>reads(C_global_accumulator[v0, v1])\n",
       "                    T<span style=\"color: #A2F; font-weight: bold\">.</span>writes(C[v0, v1])\n",
       "                    C[v0, v1] <span style=\"color: #A2F; font-weight: bold\">=</span> C_global_accumulator[v0, v1]\n",
       "</pre></div>\n"
      ],
      "text/plain": [
       "<IPython.core.display.HTML object>"
      ]
     },
     "metadata": {},
     "output_type": "display_data"
    }
   ],
   "source": [
    "sch.decompose_reduction(block_mm, k)\n",
    "sch.mod.show()"
   ]
  },
  {
   "cell_type": "markdown",
   "id": "732dcf94",
   "metadata": {},
   "source": [
    "Then we can call tensorize, to map the `block_mm` (which corresponds to the `matmul_o_update` block) to use the implementation of `tmm16`."
   ]
  },
  {
   "cell_type": "code",
   "execution_count": 15,
   "id": "132d76d3",
   "metadata": {
    "execution": {
     "iopub.execute_input": "2025-07-09T12:32:20.830477Z",
     "iopub.status.busy": "2025-07-09T12:32:20.830174Z",
     "iopub.status.idle": "2025-07-09T12:32:20.840118Z",
     "shell.execute_reply": "2025-07-09T12:32:20.839107Z"
    }
   },
   "outputs": [],
   "source": [
    "sch.tensorize(block_mm, \"tmm16\")"
   ]
  },
  {
   "cell_type": "code",
   "execution_count": 16,
   "id": "03f1d270",
   "metadata": {
    "execution": {
     "iopub.execute_input": "2025-07-09T12:32:20.843475Z",
     "iopub.status.busy": "2025-07-09T12:32:20.843172Z",
     "iopub.status.idle": "2025-07-09T12:32:20.863999Z",
     "shell.execute_reply": "2025-07-09T12:32:20.863146Z"
    }
   },
   "outputs": [
    {
     "data": {
      "text/html": [
       "<div class=\"highlight\" style=\"background: \"><pre style=\"line-height: 125%;\"><span></span><span style=\"color: #007979; font-style: italic\"># from tvm.script import ir as I</span>\n",
       "<span style=\"color: #007979; font-style: italic\"># from tvm.script import tir as T</span>\n",
       "\n",
       "<span style=\"color: #A2F\">@I</span><span style=\"color: #A2F; font-weight: bold\">.</span>ir_module\n",
       "<span style=\"color: #008000; font-weight: bold\">class</span> <span style=\"color: #00F; font-weight: bold\">Module</span>:\n",
       "    <span style=\"color: #A2F\">@T</span><span style=\"color: #A2F; font-weight: bold\">.</span>prim_func\n",
       "    <span style=\"color: #008000; font-weight: bold\">def</span> <span style=\"color: #00F\">main</span>(A: T<span style=\"color: #A2F; font-weight: bold\">.</span>Buffer((<span style=\"color: #008000\">1024</span>, <span style=\"color: #008000\">1024</span>), <span style=\"color: #BA2121\">&quot;float32&quot;</span>), B: T<span style=\"color: #A2F; font-weight: bold\">.</span>Buffer((<span style=\"color: #008000\">1024</span>, <span style=\"color: #008000\">1024</span>), <span style=\"color: #BA2121\">&quot;float32&quot;</span>), C: T<span style=\"color: #A2F; font-weight: bold\">.</span>Buffer((<span style=\"color: #008000\">1024</span>, <span style=\"color: #008000\">1024</span>), <span style=\"color: #BA2121\">&quot;float32&quot;</span>)):\n",
       "        T<span style=\"color: #A2F; font-weight: bold\">.</span>func_attr({<span style=\"color: #BA2121\">&quot;tir.noalias&quot;</span>: T<span style=\"color: #A2F; font-weight: bold\">.</span>bool(<span style=\"color: #008000; font-weight: bold\">True</span>)})\n",
       "        <span style=\"color: #007979; font-style: italic\"># with T.block(&quot;root&quot;):</span>\n",
       "        A_global_A_reg <span style=\"color: #A2F; font-weight: bold\">=</span> T<span style=\"color: #A2F; font-weight: bold\">.</span>alloc_buffer((<span style=\"color: #008000\">1024</span>, <span style=\"color: #008000\">1024</span>), scope<span style=\"color: #A2F; font-weight: bold\">=</span><span style=\"color: #BA2121\">&quot;global.A_reg&quot;</span>)\n",
       "        B_global_B_reg <span style=\"color: #A2F; font-weight: bold\">=</span> T<span style=\"color: #A2F; font-weight: bold\">.</span>alloc_buffer((<span style=\"color: #008000\">1024</span>, <span style=\"color: #008000\">1024</span>), scope<span style=\"color: #A2F; font-weight: bold\">=</span><span style=\"color: #BA2121\">&quot;global.B_reg&quot;</span>)\n",
       "        C_global_accumulator <span style=\"color: #A2F; font-weight: bold\">=</span> T<span style=\"color: #A2F; font-weight: bold\">.</span>alloc_buffer((<span style=\"color: #008000\">1024</span>, <span style=\"color: #008000\">1024</span>), scope<span style=\"color: #A2F; font-weight: bold\">=</span><span style=\"color: #BA2121\">&quot;global.accumulator&quot;</span>)\n",
       "        <span style=\"color: #008000; font-weight: bold\">for</span> i_0, j_0 <span style=\"color: #008000; font-weight: bold\">in</span> T<span style=\"color: #A2F; font-weight: bold\">.</span>grid(<span style=\"color: #008000\">64</span>, <span style=\"color: #008000\">64</span>):\n",
       "            <span style=\"color: #008000; font-weight: bold\">with</span> T<span style=\"color: #A2F; font-weight: bold\">.</span>block(<span style=\"color: #BA2121\">&quot;matmul_o_init&quot;</span>):\n",
       "                vi_o, vj_o <span style=\"color: #A2F; font-weight: bold\">=</span> T<span style=\"color: #A2F; font-weight: bold\">.</span>axis<span style=\"color: #A2F; font-weight: bold\">.</span>remap(<span style=\"color: #BA2121\">&quot;SS&quot;</span>, [i_0, j_0])\n",
       "                T<span style=\"color: #A2F; font-weight: bold\">.</span>reads()\n",
       "                T<span style=\"color: #A2F; font-weight: bold\">.</span>writes(C_global_accumulator[vi_o <span style=\"color: #A2F; font-weight: bold\">*</span> <span style=\"color: #008000\">16</span>:vi_o <span style=\"color: #A2F; font-weight: bold\">*</span> <span style=\"color: #008000\">16</span> <span style=\"color: #A2F; font-weight: bold\">+</span> <span style=\"color: #008000\">16</span>, vj_o <span style=\"color: #A2F; font-weight: bold\">*</span> <span style=\"color: #008000\">16</span>:vj_o <span style=\"color: #A2F; font-weight: bold\">*</span> <span style=\"color: #008000\">16</span> <span style=\"color: #A2F; font-weight: bold\">+</span> <span style=\"color: #008000\">16</span>])\n",
       "                <span style=\"color: #008000; font-weight: bold\">for</span> i_1, j_1 <span style=\"color: #008000; font-weight: bold\">in</span> T<span style=\"color: #A2F; font-weight: bold\">.</span>grid(<span style=\"color: #008000\">16</span>, <span style=\"color: #008000\">16</span>):\n",
       "                    <span style=\"color: #008000; font-weight: bold\">with</span> T<span style=\"color: #A2F; font-weight: bold\">.</span>block(<span style=\"color: #BA2121\">&quot;matmul_init&quot;</span>):\n",
       "                        vi_i_init, vj_i_init <span style=\"color: #A2F; font-weight: bold\">=</span> T<span style=\"color: #A2F; font-weight: bold\">.</span>axis<span style=\"color: #A2F; font-weight: bold\">.</span>remap(<span style=\"color: #BA2121\">&quot;SS&quot;</span>, [i_1, j_1])\n",
       "                        T<span style=\"color: #A2F; font-weight: bold\">.</span>reads()\n",
       "                        T<span style=\"color: #A2F; font-weight: bold\">.</span>writes(C_global_accumulator[vi_o <span style=\"color: #A2F; font-weight: bold\">*</span> <span style=\"color: #008000\">16</span> <span style=\"color: #A2F; font-weight: bold\">+</span> vi_i_init, vj_o <span style=\"color: #A2F; font-weight: bold\">*</span> <span style=\"color: #008000\">16</span> <span style=\"color: #A2F; font-weight: bold\">+</span> vj_i_init])\n",
       "                        C_global_accumulator[vi_o <span style=\"color: #A2F; font-weight: bold\">*</span> <span style=\"color: #008000\">16</span> <span style=\"color: #A2F; font-weight: bold\">+</span> vi_i_init, vj_o <span style=\"color: #A2F; font-weight: bold\">*</span> <span style=\"color: #008000\">16</span> <span style=\"color: #A2F; font-weight: bold\">+</span> vj_i_init] <span style=\"color: #A2F; font-weight: bold\">=</span> T<span style=\"color: #A2F; font-weight: bold\">.</span>float32(<span style=\"color: #008000\">0.0</span>)\n",
       "            <span style=\"color: #008000; font-weight: bold\">for</span> k_0 <span style=\"color: #008000; font-weight: bold\">in</span> range(<span style=\"color: #008000\">64</span>):\n",
       "                <span style=\"color: #008000; font-weight: bold\">for</span> ax0, ax1 <span style=\"color: #008000; font-weight: bold\">in</span> T<span style=\"color: #A2F; font-weight: bold\">.</span>grid(<span style=\"color: #008000\">16</span>, <span style=\"color: #008000\">16</span>):\n",
       "                    <span style=\"color: #008000; font-weight: bold\">with</span> T<span style=\"color: #A2F; font-weight: bold\">.</span>block(<span style=\"color: #BA2121\">&quot;A_global.A_reg&quot;</span>):\n",
       "                        v0 <span style=\"color: #A2F; font-weight: bold\">=</span> T<span style=\"color: #A2F; font-weight: bold\">.</span>axis<span style=\"color: #A2F; font-weight: bold\">.</span>spatial(<span style=\"color: #008000\">1024</span>, i_0 <span style=\"color: #A2F; font-weight: bold\">*</span> <span style=\"color: #008000\">16</span> <span style=\"color: #A2F; font-weight: bold\">+</span> ax0)\n",
       "                        v1 <span style=\"color: #A2F; font-weight: bold\">=</span> T<span style=\"color: #A2F; font-weight: bold\">.</span>axis<span style=\"color: #A2F; font-weight: bold\">.</span>spatial(<span style=\"color: #008000\">1024</span>, k_0 <span style=\"color: #A2F; font-weight: bold\">*</span> <span style=\"color: #008000\">16</span> <span style=\"color: #A2F; font-weight: bold\">+</span> ax1)\n",
       "                        T<span style=\"color: #A2F; font-weight: bold\">.</span>reads(A[v0, v1])\n",
       "                        T<span style=\"color: #A2F; font-weight: bold\">.</span>writes(A_global_A_reg[v0, v1])\n",
       "                        A_global_A_reg[v0, v1] <span style=\"color: #A2F; font-weight: bold\">=</span> A[v0, v1]\n",
       "                <span style=\"color: #008000; font-weight: bold\">for</span> ax0, ax1 <span style=\"color: #008000; font-weight: bold\">in</span> T<span style=\"color: #A2F; font-weight: bold\">.</span>grid(<span style=\"color: #008000\">16</span>, <span style=\"color: #008000\">16</span>):\n",
       "                    <span style=\"color: #008000; font-weight: bold\">with</span> T<span style=\"color: #A2F; font-weight: bold\">.</span>block(<span style=\"color: #BA2121\">&quot;B_global.B_reg&quot;</span>):\n",
       "                        v0 <span style=\"color: #A2F; font-weight: bold\">=</span> T<span style=\"color: #A2F; font-weight: bold\">.</span>axis<span style=\"color: #A2F; font-weight: bold\">.</span>spatial(<span style=\"color: #008000\">1024</span>, j_0 <span style=\"color: #A2F; font-weight: bold\">*</span> <span style=\"color: #008000\">16</span> <span style=\"color: #A2F; font-weight: bold\">+</span> ax0)\n",
       "                        v1 <span style=\"color: #A2F; font-weight: bold\">=</span> T<span style=\"color: #A2F; font-weight: bold\">.</span>axis<span style=\"color: #A2F; font-weight: bold\">.</span>spatial(<span style=\"color: #008000\">1024</span>, k_0 <span style=\"color: #A2F; font-weight: bold\">*</span> <span style=\"color: #008000\">16</span> <span style=\"color: #A2F; font-weight: bold\">+</span> ax1)\n",
       "                        T<span style=\"color: #A2F; font-weight: bold\">.</span>reads(B[v0, v1])\n",
       "                        T<span style=\"color: #A2F; font-weight: bold\">.</span>writes(B_global_B_reg[v0, v1])\n",
       "                        B_global_B_reg[v0, v1] <span style=\"color: #A2F; font-weight: bold\">=</span> B[v0, v1]\n",
       "                <span style=\"color: #008000; font-weight: bold\">with</span> T<span style=\"color: #A2F; font-weight: bold\">.</span>block(<span style=\"color: #BA2121\">&quot;matmul_o_update&quot;</span>):\n",
       "                    vi_o, vj_o, vk_o <span style=\"color: #A2F; font-weight: bold\">=</span> T<span style=\"color: #A2F; font-weight: bold\">.</span>axis<span style=\"color: #A2F; font-weight: bold\">.</span>remap(<span style=\"color: #BA2121\">&quot;SSR&quot;</span>, [i_0, j_0, k_0])\n",
       "                    T<span style=\"color: #A2F; font-weight: bold\">.</span>reads(C_global_accumulator[vi_o <span style=\"color: #A2F; font-weight: bold\">*</span> <span style=\"color: #008000\">16</span>:vi_o <span style=\"color: #A2F; font-weight: bold\">*</span> <span style=\"color: #008000\">16</span> <span style=\"color: #A2F; font-weight: bold\">+</span> <span style=\"color: #008000\">16</span>, vj_o <span style=\"color: #A2F; font-weight: bold\">*</span> <span style=\"color: #008000\">16</span>:vj_o <span style=\"color: #A2F; font-weight: bold\">*</span> <span style=\"color: #008000\">16</span> <span style=\"color: #A2F; font-weight: bold\">+</span> <span style=\"color: #008000\">16</span>], A_global_A_reg[vi_o <span style=\"color: #A2F; font-weight: bold\">*</span> <span style=\"color: #008000\">16</span>:vi_o <span style=\"color: #A2F; font-weight: bold\">*</span> <span style=\"color: #008000\">16</span> <span style=\"color: #A2F; font-weight: bold\">+</span> <span style=\"color: #008000\">16</span>, vk_o <span style=\"color: #A2F; font-weight: bold\">*</span> <span style=\"color: #008000\">16</span>:vk_o <span style=\"color: #A2F; font-weight: bold\">*</span> <span style=\"color: #008000\">16</span> <span style=\"color: #A2F; font-weight: bold\">+</span> <span style=\"color: #008000\">16</span>], B_global_B_reg[vj_o <span style=\"color: #A2F; font-weight: bold\">*</span> <span style=\"color: #008000\">16</span>:vj_o <span style=\"color: #A2F; font-weight: bold\">*</span> <span style=\"color: #008000\">16</span> <span style=\"color: #A2F; font-weight: bold\">+</span> <span style=\"color: #008000\">16</span>, vk_o <span style=\"color: #A2F; font-weight: bold\">*</span> <span style=\"color: #008000\">16</span>:vk_o <span style=\"color: #A2F; font-weight: bold\">*</span> <span style=\"color: #008000\">16</span> <span style=\"color: #A2F; font-weight: bold\">+</span> <span style=\"color: #008000\">16</span>])\n",
       "                    T<span style=\"color: #A2F; font-weight: bold\">.</span>writes(C_global_accumulator[vi_o <span style=\"color: #A2F; font-weight: bold\">*</span> <span style=\"color: #008000\">16</span>:vi_o <span style=\"color: #A2F; font-weight: bold\">*</span> <span style=\"color: #008000\">16</span> <span style=\"color: #A2F; font-weight: bold\">+</span> <span style=\"color: #008000\">16</span>, vj_o <span style=\"color: #A2F; font-weight: bold\">*</span> <span style=\"color: #008000\">16</span>:vj_o <span style=\"color: #A2F; font-weight: bold\">*</span> <span style=\"color: #008000\">16</span> <span style=\"color: #A2F; font-weight: bold\">+</span> <span style=\"color: #008000\">16</span>])\n",
       "                    A_1 <span style=\"color: #A2F; font-weight: bold\">=</span> T<span style=\"color: #A2F; font-weight: bold\">.</span>match_buffer(A_global_A_reg[vi_o <span style=\"color: #A2F; font-weight: bold\">*</span> <span style=\"color: #008000\">16</span>:vi_o <span style=\"color: #A2F; font-weight: bold\">*</span> <span style=\"color: #008000\">16</span> <span style=\"color: #A2F; font-weight: bold\">+</span> <span style=\"color: #008000\">16</span>, vk_o <span style=\"color: #A2F; font-weight: bold\">*</span> <span style=\"color: #008000\">16</span>:vk_o <span style=\"color: #A2F; font-weight: bold\">*</span> <span style=\"color: #008000\">16</span> <span style=\"color: #A2F; font-weight: bold\">+</span> <span style=\"color: #008000\">16</span>], (<span style=\"color: #008000\">16</span>, <span style=\"color: #008000\">16</span>), strides<span style=\"color: #A2F; font-weight: bold\">=</span>(<span style=\"color: #BA2121\">&quot;A_s0&quot;</span>, <span style=\"color: #008000\">1</span>), scope<span style=\"color: #A2F; font-weight: bold\">=</span><span style=\"color: #BA2121\">&quot;global.A_reg&quot;</span>, offset_factor<span style=\"color: #A2F; font-weight: bold\">=</span><span style=\"color: #008000\">16</span>)\n",
       "                    B_1 <span style=\"color: #A2F; font-weight: bold\">=</span> T<span style=\"color: #A2F; font-weight: bold\">.</span>match_buffer(B_global_B_reg[vj_o <span style=\"color: #A2F; font-weight: bold\">*</span> <span style=\"color: #008000\">16</span>:vj_o <span style=\"color: #A2F; font-weight: bold\">*</span> <span style=\"color: #008000\">16</span> <span style=\"color: #A2F; font-weight: bold\">+</span> <span style=\"color: #008000\">16</span>, vk_o <span style=\"color: #A2F; font-weight: bold\">*</span> <span style=\"color: #008000\">16</span>:vk_o <span style=\"color: #A2F; font-weight: bold\">*</span> <span style=\"color: #008000\">16</span> <span style=\"color: #A2F; font-weight: bold\">+</span> <span style=\"color: #008000\">16</span>], (<span style=\"color: #008000\">16</span>, <span style=\"color: #008000\">16</span>), strides<span style=\"color: #A2F; font-weight: bold\">=</span>(<span style=\"color: #BA2121\">&quot;B_s0&quot;</span>, <span style=\"color: #008000\">1</span>), scope<span style=\"color: #A2F; font-weight: bold\">=</span><span style=\"color: #BA2121\">&quot;global.B_reg&quot;</span>, offset_factor<span style=\"color: #A2F; font-weight: bold\">=</span><span style=\"color: #008000\">16</span>)\n",
       "                    C_1 <span style=\"color: #A2F; font-weight: bold\">=</span> T<span style=\"color: #A2F; font-weight: bold\">.</span>match_buffer(C_global_accumulator[vi_o <span style=\"color: #A2F; font-weight: bold\">*</span> <span style=\"color: #008000\">16</span>:vi_o <span style=\"color: #A2F; font-weight: bold\">*</span> <span style=\"color: #008000\">16</span> <span style=\"color: #A2F; font-weight: bold\">+</span> <span style=\"color: #008000\">16</span>, vj_o <span style=\"color: #A2F; font-weight: bold\">*</span> <span style=\"color: #008000\">16</span>:vj_o <span style=\"color: #A2F; font-weight: bold\">*</span> <span style=\"color: #008000\">16</span> <span style=\"color: #A2F; font-weight: bold\">+</span> <span style=\"color: #008000\">16</span>], (<span style=\"color: #008000\">16</span>, <span style=\"color: #008000\">16</span>), strides<span style=\"color: #A2F; font-weight: bold\">=</span>(<span style=\"color: #BA2121\">&quot;C_s0&quot;</span>, <span style=\"color: #008000\">1</span>), scope<span style=\"color: #A2F; font-weight: bold\">=</span><span style=\"color: #BA2121\">&quot;global.accumulator&quot;</span>, offset_factor<span style=\"color: #A2F; font-weight: bold\">=</span><span style=\"color: #008000\">16</span>)\n",
       "                    T<span style=\"color: #A2F; font-weight: bold\">.</span>call_extern(<span style=\"color: #BA2121\">&quot;int32&quot;</span>, <span style=\"color: #BA2121\">&quot;tmm16&quot;</span>, T<span style=\"color: #A2F; font-weight: bold\">.</span>tvm_access_ptr(T<span style=\"color: #A2F; font-weight: bold\">.</span>type_annotation(<span style=\"color: #BA2121\">&quot;float32&quot;</span>), C_1<span style=\"color: #A2F; font-weight: bold\">.</span>data, C_1<span style=\"color: #A2F; font-weight: bold\">.</span>elem_offset, C_1<span style=\"color: #A2F; font-weight: bold\">.</span>strides[<span style=\"color: #008000\">0</span>] <span style=\"color: #A2F; font-weight: bold\">*</span> <span style=\"color: #008000\">16</span>, <span style=\"color: #008000\">2</span>), T<span style=\"color: #A2F; font-weight: bold\">.</span>tvm_access_ptr(T<span style=\"color: #A2F; font-weight: bold\">.</span>type_annotation(<span style=\"color: #BA2121\">&quot;float32&quot;</span>), A_1<span style=\"color: #A2F; font-weight: bold\">.</span>data, A_1<span style=\"color: #A2F; font-weight: bold\">.</span>elem_offset, A_1<span style=\"color: #A2F; font-weight: bold\">.</span>strides[<span style=\"color: #008000\">0</span>] <span style=\"color: #A2F; font-weight: bold\">*</span> <span style=\"color: #008000\">16</span>, <span style=\"color: #008000\">1</span>), T<span style=\"color: #A2F; font-weight: bold\">.</span>tvm_access_ptr(T<span style=\"color: #A2F; font-weight: bold\">.</span>type_annotation(<span style=\"color: #BA2121\">&quot;float32&quot;</span>), B_1<span style=\"color: #A2F; font-weight: bold\">.</span>data, B_1<span style=\"color: #A2F; font-weight: bold\">.</span>elem_offset, B_1<span style=\"color: #A2F; font-weight: bold\">.</span>strides[<span style=\"color: #008000\">0</span>] <span style=\"color: #A2F; font-weight: bold\">*</span> <span style=\"color: #008000\">16</span>, <span style=\"color: #008000\">1</span>), A_1<span style=\"color: #A2F; font-weight: bold\">.</span>strides[<span style=\"color: #008000\">0</span>], B_1<span style=\"color: #A2F; font-weight: bold\">.</span>strides[<span style=\"color: #008000\">0</span>], C_1<span style=\"color: #A2F; font-weight: bold\">.</span>strides[<span style=\"color: #008000\">0</span>])\n",
       "            <span style=\"color: #008000; font-weight: bold\">for</span> ax0, ax1 <span style=\"color: #008000; font-weight: bold\">in</span> T<span style=\"color: #A2F; font-weight: bold\">.</span>grid(<span style=\"color: #008000\">16</span>, <span style=\"color: #008000\">16</span>):\n",
       "                <span style=\"color: #008000; font-weight: bold\">with</span> T<span style=\"color: #A2F; font-weight: bold\">.</span>block(<span style=\"color: #BA2121\">&quot;C_global.accumulator&quot;</span>):\n",
       "                    v0 <span style=\"color: #A2F; font-weight: bold\">=</span> T<span style=\"color: #A2F; font-weight: bold\">.</span>axis<span style=\"color: #A2F; font-weight: bold\">.</span>spatial(<span style=\"color: #008000\">1024</span>, i_0 <span style=\"color: #A2F; font-weight: bold\">*</span> <span style=\"color: #008000\">16</span> <span style=\"color: #A2F; font-weight: bold\">+</span> ax0)\n",
       "                    v1 <span style=\"color: #A2F; font-weight: bold\">=</span> T<span style=\"color: #A2F; font-weight: bold\">.</span>axis<span style=\"color: #A2F; font-weight: bold\">.</span>spatial(<span style=\"color: #008000\">1024</span>, j_0 <span style=\"color: #A2F; font-weight: bold\">*</span> <span style=\"color: #008000\">16</span> <span style=\"color: #A2F; font-weight: bold\">+</span> ax1)\n",
       "                    T<span style=\"color: #A2F; font-weight: bold\">.</span>reads(C_global_accumulator[v0, v1])\n",
       "                    T<span style=\"color: #A2F; font-weight: bold\">.</span>writes(C[v0, v1])\n",
       "                    C[v0, v1] <span style=\"color: #A2F; font-weight: bold\">=</span> C_global_accumulator[v0, v1]\n",
       "</pre></div>\n"
      ],
      "text/plain": [
       "<IPython.core.display.HTML object>"
      ]
     },
     "metadata": {},
     "output_type": "display_data"
    }
   ],
   "source": [
    "sch.mod.show()"
   ]
  },
  {
   "cell_type": "markdown",
   "id": "e8f8b015",
   "metadata": {},
   "source": [
    "Here we use `T.call_extern` to call into an external function inside the environment. The downstream compilation step can easily map the implementation to an instruction that implements the operation.\n",
    "\n",
    "Alternatively, we can map tmm16 to a micro-kernel that implements this tensorized computation. The following code shows the how to do that through an extern \"C\" code (which allows further embedding of inline assembly if necessary)."
   ]
  },
  {
   "cell_type": "code",
   "execution_count": 17,
   "id": "4398f98a",
   "metadata": {
    "execution": {
     "iopub.execute_input": "2025-07-09T12:32:20.866439Z",
     "iopub.status.busy": "2025-07-09T12:32:20.866211Z",
     "iopub.status.idle": "2025-07-09T12:32:20.925748Z",
     "shell.execute_reply": "2025-07-09T12:32:20.924821Z"
    }
   },
   "outputs": [],
   "source": [
    "def tmm_kernel():\n",
    "    cc_code = \"\"\"\n",
    "      extern \"C\" int tmm16(float *cc, float *aa, float *bb, int stride_a, int stride_b, int stride_c) {\n",
    "        for (int i = 0; i < 16; ++i) {\n",
    "            for (int j = 0; j < 16; ++j) {\n",
    "                for (int k = 0; k < 16; ++k) {\n",
    "                    cc[i * stride_c + j] += aa[i * stride_a + k] * bb[j * stride_b + k];\n",
    "                }\n",
    "            }\n",
    "        }\n",
    "        return 0;\n",
    "      }\n",
    "    \"\"\"\n",
    "    from tvm.contrib import clang, utils\n",
    "\n",
    "    temp = utils.tempdir()\n",
    "    ll_path = temp.relpath(\"temp.ll\")\n",
    "    # Create LLVM ir from c source code\n",
    "    ll_code = clang.create_llvm(cc_code, output=ll_path)\n",
    "    return ll_code\n",
    "\n",
    "sch.annotate(i, \"pragma_import_llvm\", tmm_kernel())"
   ]
  },
  {
   "cell_type": "markdown",
   "id": "e32a0097",
   "metadata": {},
   "source": [
    "We can then go and execute the following code-block, which redirects the tensorized computation to the custom defined `tmm_kernel`."
   ]
  },
  {
   "cell_type": "markdown",
   "id": "04b4bdff",
   "metadata": {},
   "source": [
    "```\n",
    "<!-- todo -->\n",
    "<!-- For CI, do not run this part of the code -->\n",
    "a_nd = tvm.nd.array(a_np)\n",
    "b_nd = tvm.nd.array(b_np)\n",
    "\n",
    "c_nd = tvm.nd.empty((1024, 1024), dtype=\"float32\")\n",
    "\n",
    "lib = tvm.build(sch.mod, target=\"llvm\")\n",
    "lib[\"main\"](a_nd, b_nd, c_nd)\n",
    "np.testing.assert_allclose(c_nd.numpy(), c_tmm, rtol=1e-5)\n",
    "```\n"
   ]
  },
  {
   "cell_type": "markdown",
   "id": "2bb571e5",
   "metadata": {},
   "source": [
    "### Discussions\n",
    "\n",
    "This section covers a set of key elements of specialized hardware support. One of the key constructs here is the tensorized block and computation alongside tensor subregions. TensorIR also contains additional properties that build on top of the foundational elements:\n",
    "\n",
    "- Layout constraints in the specialized memory.\n",
    "- Interaction with thread hierarchies.\n",
    "\n",
    "We don't have enough time to cover these in one lecture, but we will add optional readings on some of the additional content.\n",
    "\n",
    "### Summary\n",
    "\n",
    "- Overall trend of Hardware Specialization toward tensorized computation.\n",
    "- TensorIR transformations with tensorized blocks.\n",
    "- Tensorization: the process of mapping block of loop computations to specialized implementations."
   ]
  }
 ],
 "metadata": {
  "language_info": {
   "name": "python"
  }
 },
 "nbformat": 4,
 "nbformat_minor": 5
}