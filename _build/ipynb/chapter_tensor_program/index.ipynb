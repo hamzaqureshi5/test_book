{
 "cells": [
  {
   "cell_type": "markdown",
   "id": "c15dc838",
   "metadata": {},
   "source": [
    "# Tensor Program Abstraction\n",
    "\n",
    ":label:`chap_tensor_program`\n",
    "\n",
    "In this chapter, we will discuss the abstractions for a single “unit” step of computation and possible MLC transformations in these abstractions.\n",
    "\n",
    ":begin_tab:toc\n",
    " - [tensor_program](tensor_program.ipynb)\n",
    " - [case_study](case_study.ipynb)\n",
    " - [tensorir_exercises](tensorir_exercises.ipynb)\n",
    ":end_tab:\n"
   ]
  }
 ],
 "metadata": {
  "language_info": {
   "name": "python"
  }
 },
 "nbformat": 4,
 "nbformat_minor": 5
}